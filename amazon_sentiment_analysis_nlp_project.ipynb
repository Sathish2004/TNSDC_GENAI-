{
  "cells": [
    {
      "cell_type": "markdown",
      "id": "b9947dac",
      "metadata": {
        "papermill": {
          "duration": 0.016059,
          "end_time": "2022-10-22T08:28:25.293531",
          "exception": false,
          "start_time": "2022-10-22T08:28:25.277472",
          "status": "completed"
        },
        "tags": [],
        "id": "b9947dac"
      },
      "source": [
        "# NLP : field of computer science used to process the interaction btw computers and human language\n",
        "NLP is concerned with giving computers the ability to understand text and spoken words in much the same way human beings can. And with this help we can make highly informed decisions without going through tedious task to read every possible comment we can analyse what's the sentiment of that comment.\n"
      ]
    },
    {
      "cell_type": "markdown",
      "id": "a7ceb23a",
      "metadata": {
        "papermill": {
          "duration": 0.016322,
          "end_time": "2022-10-22T08:28:25.324195",
          "exception": false,
          "start_time": "2022-10-22T08:28:25.307873",
          "status": "completed"
        },
        "tags": [],
        "id": "a7ceb23a"
      },
      "source": [
        "NLP use cases:\n",
        "* Speech recognition\n",
        "* Part of speech tagging\n",
        "* Word sense disambiguation\n",
        "* Named entity recognition\n",
        "* Sentiment analysis (in this notebook we will understand this use case)\n",
        "* Natural language generation(structured speech to text)"
      ]
    },
    {
      "cell_type": "markdown",
      "id": "d1dfa59e",
      "metadata": {
        "papermill": {
          "duration": 0.014389,
          "end_time": "2022-10-22T08:28:25.352826",
          "exception": false,
          "start_time": "2022-10-22T08:28:25.338437",
          "status": "completed"
        },
        "tags": [],
        "id": "d1dfa59e"
      },
      "source": [
        "In this notebook, I will perform EDA on Amazon product review dataset and at the end we will do sentiment analysis using naive bayes and support vector classifier. This notebook can be used as an introductory tutorial on how to deal with textual data followed by predictions on the dataset.  \n"
      ]
    },
    {
      "cell_type": "code",
      "execution_count": 1,
      "id": "b24ebab8",
      "metadata": {
        "execution": {
          "iopub.execute_input": "2022-10-22T08:28:25.383891Z",
          "iopub.status.busy": "2022-10-22T08:28:25.383125Z",
          "iopub.status.idle": "2022-10-22T08:28:26.764863Z",
          "shell.execute_reply": "2022-10-22T08:28:26.763558Z"
        },
        "papermill": {
          "duration": 1.4011,
          "end_time": "2022-10-22T08:28:26.768285",
          "exception": false,
          "start_time": "2022-10-22T08:28:25.367185",
          "status": "completed"
        },
        "tags": [],
        "id": "b24ebab8"
      },
      "outputs": [],
      "source": [
        "import pandas as pd\n",
        "import numpy as np\n",
        "import matplotlib.pyplot as plt\n",
        "import seaborn as sns\n",
        "%matplotlib inline\n",
        "import math\n",
        "sns.set_style(\"darkgrid\")\n",
        "import warnings\n",
        "warnings.filterwarnings('ignore')"
      ]
    },
    {
      "cell_type": "markdown",
      "id": "b3b52bab",
      "metadata": {
        "papermill": {
          "duration": 0.014384,
          "end_time": "2022-10-22T08:28:26.797857",
          "exception": false,
          "start_time": "2022-10-22T08:28:26.783473",
          "status": "completed"
        },
        "tags": [],
        "id": "b3b52bab"
      },
      "source": [
        " We import warnings as this is used to remove unwaned warnings as the data set is used is of small size"
      ]
    },
    {
      "cell_type": "code",
      "execution_count": 2,
      "id": "49f64a8b",
      "metadata": {
        "execution": {
          "iopub.execute_input": "2022-10-22T08:28:26.829859Z",
          "iopub.status.busy": "2022-10-22T08:28:26.829322Z",
          "iopub.status.idle": "2022-10-22T08:28:28.115310Z",
          "shell.execute_reply": "2022-10-22T08:28:28.114082Z"
        },
        "papermill": {
          "duration": 1.306014,
          "end_time": "2022-10-22T08:28:28.118773",
          "exception": false,
          "start_time": "2022-10-22T08:28:26.812759",
          "status": "completed"
        },
        "tags": [],
        "colab": {
          "base_uri": "https://localhost:8080/",
          "height": 776
        },
        "id": "49f64a8b",
        "outputId": "57ee45d9-b85f-48de-c5e8-225f987267ab"
      },
      "outputs": [
        {
          "output_type": "execute_result",
          "data": {
            "text/plain": [
              "                     id                                               name  \\\n",
              "0  AVqkIhwDv8e3D1O-lebb  All-New Fire HD 8 Tablet, 8 HD Display, Wi-Fi,...   \n",
              "1  AVqkIhwDv8e3D1O-lebb  All-New Fire HD 8 Tablet, 8 HD Display, Wi-Fi,...   \n",
              "2  AVqkIhwDv8e3D1O-lebb  All-New Fire HD 8 Tablet, 8 HD Display, Wi-Fi,...   \n",
              "3  AVqkIhwDv8e3D1O-lebb  All-New Fire HD 8 Tablet, 8 HD Display, Wi-Fi,...   \n",
              "4  AVqkIhwDv8e3D1O-lebb  All-New Fire HD 8 Tablet, 8 HD Display, Wi-Fi,...   \n",
              "\n",
              "        asins   brand                                         categories  \\\n",
              "0  B01AHB9CN2  Amazon  Electronics,iPad & Tablets,All Tablets,Fire Ta...   \n",
              "1  B01AHB9CN2  Amazon  Electronics,iPad & Tablets,All Tablets,Fire Ta...   \n",
              "2  B01AHB9CN2  Amazon  Electronics,iPad & Tablets,All Tablets,Fire Ta...   \n",
              "3  B01AHB9CN2  Amazon  Electronics,iPad & Tablets,All Tablets,Fire Ta...   \n",
              "4  B01AHB9CN2  Amazon  Electronics,iPad & Tablets,All Tablets,Fire Ta...   \n",
              "\n",
              "                                                keys manufacturer  \\\n",
              "0  841667104676,amazon/53004484,amazon/b01ahb9cn2...       Amazon   \n",
              "1  841667104676,amazon/53004484,amazon/b01ahb9cn2...       Amazon   \n",
              "2  841667104676,amazon/53004484,amazon/b01ahb9cn2...       Amazon   \n",
              "3  841667104676,amazon/53004484,amazon/b01ahb9cn2...       Amazon   \n",
              "4  841667104676,amazon/53004484,amazon/b01ahb9cn2...       Amazon   \n",
              "\n",
              "               reviews.date     reviews.dateAdded  \\\n",
              "0  2017-01-13T00:00:00.000Z  2017-07-03T23:33:15Z   \n",
              "1  2017-01-13T00:00:00.000Z  2017-07-03T23:33:15Z   \n",
              "2  2017-01-13T00:00:00.000Z  2017-07-03T23:33:15Z   \n",
              "3  2017-01-13T00:00:00.000Z  2017-07-03T23:33:15Z   \n",
              "4  2017-01-12T00:00:00.000Z  2017-07-03T23:33:15Z   \n",
              "\n",
              "                                    reviews.dateSeen  ... reviews.doRecommend  \\\n",
              "0  2017-06-07T09:04:00.000Z,2017-04-30T00:45:00.000Z  ...                True   \n",
              "1  2017-06-07T09:04:00.000Z,2017-04-30T00:45:00.000Z  ...                True   \n",
              "2  2017-06-07T09:04:00.000Z,2017-04-30T00:45:00.000Z  ...                True   \n",
              "3  2017-06-07T09:04:00.000Z,2017-04-30T00:45:00.000Z  ...                True   \n",
              "4  2017-06-07T09:04:00.000Z,2017-04-30T00:45:00.000Z  ...                True   \n",
              "\n",
              "  reviews.id  reviews.numHelpful  reviews.rating  \\\n",
              "0        NaN                 0.0             5.0   \n",
              "1        NaN                 0.0             5.0   \n",
              "2        NaN                 0.0             5.0   \n",
              "3        NaN                 0.0             4.0   \n",
              "4        NaN                 0.0             5.0   \n",
              "\n",
              "                                  reviews.sourceURLs  \\\n",
              "0  http://reviews.bestbuy.com/3545/5620406/review...   \n",
              "1  http://reviews.bestbuy.com/3545/5620406/review...   \n",
              "2  http://reviews.bestbuy.com/3545/5620406/review...   \n",
              "3  http://reviews.bestbuy.com/3545/5620406/review...   \n",
              "4  http://reviews.bestbuy.com/3545/5620406/review...   \n",
              "\n",
              "                                        reviews.text  \\\n",
              "0  This product so far has not disappointed. My c...   \n",
              "1  great for beginner or experienced person. Boug...   \n",
              "2  Inexpensive tablet for him to use and learn on...   \n",
              "3  I've had my Fire HD 8 two weeks now and I love...   \n",
              "4  I bought this for my grand daughter when she c...   \n",
              "\n",
              "                             reviews.title reviews.userCity  \\\n",
              "0                                   Kindle              NaN   \n",
              "1                                very fast              NaN   \n",
              "2  Beginner tablet for our 9 year old son.              NaN   \n",
              "3                                  Good!!!              NaN   \n",
              "4                Fantastic Tablet for kids              NaN   \n",
              "\n",
              "   reviews.userProvince  reviews.username  \n",
              "0                   NaN           Adapter  \n",
              "1                   NaN            truman  \n",
              "2                   NaN             DaveZ  \n",
              "3                   NaN            Shacks  \n",
              "4                   NaN         explore42  \n",
              "\n",
              "[5 rows x 21 columns]"
            ],
            "text/html": [
              "\n",
              "  <div id=\"df-c29a230a-4905-4823-863c-1b054a1d9c51\" class=\"colab-df-container\">\n",
              "    <div>\n",
              "<style scoped>\n",
              "    .dataframe tbody tr th:only-of-type {\n",
              "        vertical-align: middle;\n",
              "    }\n",
              "\n",
              "    .dataframe tbody tr th {\n",
              "        vertical-align: top;\n",
              "    }\n",
              "\n",
              "    .dataframe thead th {\n",
              "        text-align: right;\n",
              "    }\n",
              "</style>\n",
              "<table border=\"1\" class=\"dataframe\">\n",
              "  <thead>\n",
              "    <tr style=\"text-align: right;\">\n",
              "      <th></th>\n",
              "      <th>id</th>\n",
              "      <th>name</th>\n",
              "      <th>asins</th>\n",
              "      <th>brand</th>\n",
              "      <th>categories</th>\n",
              "      <th>keys</th>\n",
              "      <th>manufacturer</th>\n",
              "      <th>reviews.date</th>\n",
              "      <th>reviews.dateAdded</th>\n",
              "      <th>reviews.dateSeen</th>\n",
              "      <th>...</th>\n",
              "      <th>reviews.doRecommend</th>\n",
              "      <th>reviews.id</th>\n",
              "      <th>reviews.numHelpful</th>\n",
              "      <th>reviews.rating</th>\n",
              "      <th>reviews.sourceURLs</th>\n",
              "      <th>reviews.text</th>\n",
              "      <th>reviews.title</th>\n",
              "      <th>reviews.userCity</th>\n",
              "      <th>reviews.userProvince</th>\n",
              "      <th>reviews.username</th>\n",
              "    </tr>\n",
              "  </thead>\n",
              "  <tbody>\n",
              "    <tr>\n",
              "      <th>0</th>\n",
              "      <td>AVqkIhwDv8e3D1O-lebb</td>\n",
              "      <td>All-New Fire HD 8 Tablet, 8 HD Display, Wi-Fi,...</td>\n",
              "      <td>B01AHB9CN2</td>\n",
              "      <td>Amazon</td>\n",
              "      <td>Electronics,iPad &amp; Tablets,All Tablets,Fire Ta...</td>\n",
              "      <td>841667104676,amazon/53004484,amazon/b01ahb9cn2...</td>\n",
              "      <td>Amazon</td>\n",
              "      <td>2017-01-13T00:00:00.000Z</td>\n",
              "      <td>2017-07-03T23:33:15Z</td>\n",
              "      <td>2017-06-07T09:04:00.000Z,2017-04-30T00:45:00.000Z</td>\n",
              "      <td>...</td>\n",
              "      <td>True</td>\n",
              "      <td>NaN</td>\n",
              "      <td>0.0</td>\n",
              "      <td>5.0</td>\n",
              "      <td>http://reviews.bestbuy.com/3545/5620406/review...</td>\n",
              "      <td>This product so far has not disappointed. My c...</td>\n",
              "      <td>Kindle</td>\n",
              "      <td>NaN</td>\n",
              "      <td>NaN</td>\n",
              "      <td>Adapter</td>\n",
              "    </tr>\n",
              "    <tr>\n",
              "      <th>1</th>\n",
              "      <td>AVqkIhwDv8e3D1O-lebb</td>\n",
              "      <td>All-New Fire HD 8 Tablet, 8 HD Display, Wi-Fi,...</td>\n",
              "      <td>B01AHB9CN2</td>\n",
              "      <td>Amazon</td>\n",
              "      <td>Electronics,iPad &amp; Tablets,All Tablets,Fire Ta...</td>\n",
              "      <td>841667104676,amazon/53004484,amazon/b01ahb9cn2...</td>\n",
              "      <td>Amazon</td>\n",
              "      <td>2017-01-13T00:00:00.000Z</td>\n",
              "      <td>2017-07-03T23:33:15Z</td>\n",
              "      <td>2017-06-07T09:04:00.000Z,2017-04-30T00:45:00.000Z</td>\n",
              "      <td>...</td>\n",
              "      <td>True</td>\n",
              "      <td>NaN</td>\n",
              "      <td>0.0</td>\n",
              "      <td>5.0</td>\n",
              "      <td>http://reviews.bestbuy.com/3545/5620406/review...</td>\n",
              "      <td>great for beginner or experienced person. Boug...</td>\n",
              "      <td>very fast</td>\n",
              "      <td>NaN</td>\n",
              "      <td>NaN</td>\n",
              "      <td>truman</td>\n",
              "    </tr>\n",
              "    <tr>\n",
              "      <th>2</th>\n",
              "      <td>AVqkIhwDv8e3D1O-lebb</td>\n",
              "      <td>All-New Fire HD 8 Tablet, 8 HD Display, Wi-Fi,...</td>\n",
              "      <td>B01AHB9CN2</td>\n",
              "      <td>Amazon</td>\n",
              "      <td>Electronics,iPad &amp; Tablets,All Tablets,Fire Ta...</td>\n",
              "      <td>841667104676,amazon/53004484,amazon/b01ahb9cn2...</td>\n",
              "      <td>Amazon</td>\n",
              "      <td>2017-01-13T00:00:00.000Z</td>\n",
              "      <td>2017-07-03T23:33:15Z</td>\n",
              "      <td>2017-06-07T09:04:00.000Z,2017-04-30T00:45:00.000Z</td>\n",
              "      <td>...</td>\n",
              "      <td>True</td>\n",
              "      <td>NaN</td>\n",
              "      <td>0.0</td>\n",
              "      <td>5.0</td>\n",
              "      <td>http://reviews.bestbuy.com/3545/5620406/review...</td>\n",
              "      <td>Inexpensive tablet for him to use and learn on...</td>\n",
              "      <td>Beginner tablet for our 9 year old son.</td>\n",
              "      <td>NaN</td>\n",
              "      <td>NaN</td>\n",
              "      <td>DaveZ</td>\n",
              "    </tr>\n",
              "    <tr>\n",
              "      <th>3</th>\n",
              "      <td>AVqkIhwDv8e3D1O-lebb</td>\n",
              "      <td>All-New Fire HD 8 Tablet, 8 HD Display, Wi-Fi,...</td>\n",
              "      <td>B01AHB9CN2</td>\n",
              "      <td>Amazon</td>\n",
              "      <td>Electronics,iPad &amp; Tablets,All Tablets,Fire Ta...</td>\n",
              "      <td>841667104676,amazon/53004484,amazon/b01ahb9cn2...</td>\n",
              "      <td>Amazon</td>\n",
              "      <td>2017-01-13T00:00:00.000Z</td>\n",
              "      <td>2017-07-03T23:33:15Z</td>\n",
              "      <td>2017-06-07T09:04:00.000Z,2017-04-30T00:45:00.000Z</td>\n",
              "      <td>...</td>\n",
              "      <td>True</td>\n",
              "      <td>NaN</td>\n",
              "      <td>0.0</td>\n",
              "      <td>4.0</td>\n",
              "      <td>http://reviews.bestbuy.com/3545/5620406/review...</td>\n",
              "      <td>I've had my Fire HD 8 two weeks now and I love...</td>\n",
              "      <td>Good!!!</td>\n",
              "      <td>NaN</td>\n",
              "      <td>NaN</td>\n",
              "      <td>Shacks</td>\n",
              "    </tr>\n",
              "    <tr>\n",
              "      <th>4</th>\n",
              "      <td>AVqkIhwDv8e3D1O-lebb</td>\n",
              "      <td>All-New Fire HD 8 Tablet, 8 HD Display, Wi-Fi,...</td>\n",
              "      <td>B01AHB9CN2</td>\n",
              "      <td>Amazon</td>\n",
              "      <td>Electronics,iPad &amp; Tablets,All Tablets,Fire Ta...</td>\n",
              "      <td>841667104676,amazon/53004484,amazon/b01ahb9cn2...</td>\n",
              "      <td>Amazon</td>\n",
              "      <td>2017-01-12T00:00:00.000Z</td>\n",
              "      <td>2017-07-03T23:33:15Z</td>\n",
              "      <td>2017-06-07T09:04:00.000Z,2017-04-30T00:45:00.000Z</td>\n",
              "      <td>...</td>\n",
              "      <td>True</td>\n",
              "      <td>NaN</td>\n",
              "      <td>0.0</td>\n",
              "      <td>5.0</td>\n",
              "      <td>http://reviews.bestbuy.com/3545/5620406/review...</td>\n",
              "      <td>I bought this for my grand daughter when she c...</td>\n",
              "      <td>Fantastic Tablet for kids</td>\n",
              "      <td>NaN</td>\n",
              "      <td>NaN</td>\n",
              "      <td>explore42</td>\n",
              "    </tr>\n",
              "  </tbody>\n",
              "</table>\n",
              "<p>5 rows × 21 columns</p>\n",
              "</div>\n",
              "    <div class=\"colab-df-buttons\">\n",
              "\n",
              "  <div class=\"colab-df-container\">\n",
              "    <button class=\"colab-df-convert\" onclick=\"convertToInteractive('df-c29a230a-4905-4823-863c-1b054a1d9c51')\"\n",
              "            title=\"Convert this dataframe to an interactive table.\"\n",
              "            style=\"display:none;\">\n",
              "\n",
              "  <svg xmlns=\"http://www.w3.org/2000/svg\" height=\"24px\" viewBox=\"0 -960 960 960\">\n",
              "    <path d=\"M120-120v-720h720v720H120Zm60-500h600v-160H180v160Zm220 220h160v-160H400v160Zm0 220h160v-160H400v160ZM180-400h160v-160H180v160Zm440 0h160v-160H620v160ZM180-180h160v-160H180v160Zm440 0h160v-160H620v160Z\"/>\n",
              "  </svg>\n",
              "    </button>\n",
              "\n",
              "  <style>\n",
              "    .colab-df-container {\n",
              "      display:flex;\n",
              "      gap: 12px;\n",
              "    }\n",
              "\n",
              "    .colab-df-convert {\n",
              "      background-color: #E8F0FE;\n",
              "      border: none;\n",
              "      border-radius: 50%;\n",
              "      cursor: pointer;\n",
              "      display: none;\n",
              "      fill: #1967D2;\n",
              "      height: 32px;\n",
              "      padding: 0 0 0 0;\n",
              "      width: 32px;\n",
              "    }\n",
              "\n",
              "    .colab-df-convert:hover {\n",
              "      background-color: #E2EBFA;\n",
              "      box-shadow: 0px 1px 2px rgba(60, 64, 67, 0.3), 0px 1px 3px 1px rgba(60, 64, 67, 0.15);\n",
              "      fill: #174EA6;\n",
              "    }\n",
              "\n",
              "    .colab-df-buttons div {\n",
              "      margin-bottom: 4px;\n",
              "    }\n",
              "\n",
              "    [theme=dark] .colab-df-convert {\n",
              "      background-color: #3B4455;\n",
              "      fill: #D2E3FC;\n",
              "    }\n",
              "\n",
              "    [theme=dark] .colab-df-convert:hover {\n",
              "      background-color: #434B5C;\n",
              "      box-shadow: 0px 1px 3px 1px rgba(0, 0, 0, 0.15);\n",
              "      filter: drop-shadow(0px 1px 2px rgba(0, 0, 0, 0.3));\n",
              "      fill: #FFFFFF;\n",
              "    }\n",
              "  </style>\n",
              "\n",
              "    <script>\n",
              "      const buttonEl =\n",
              "        document.querySelector('#df-c29a230a-4905-4823-863c-1b054a1d9c51 button.colab-df-convert');\n",
              "      buttonEl.style.display =\n",
              "        google.colab.kernel.accessAllowed ? 'block' : 'none';\n",
              "\n",
              "      async function convertToInteractive(key) {\n",
              "        const element = document.querySelector('#df-c29a230a-4905-4823-863c-1b054a1d9c51');\n",
              "        const dataTable =\n",
              "          await google.colab.kernel.invokeFunction('convertToInteractive',\n",
              "                                                    [key], {});\n",
              "        if (!dataTable) return;\n",
              "\n",
              "        const docLinkHtml = 'Like what you see? Visit the ' +\n",
              "          '<a target=\"_blank\" href=https://colab.research.google.com/notebooks/data_table.ipynb>data table notebook</a>'\n",
              "          + ' to learn more about interactive tables.';\n",
              "        element.innerHTML = '';\n",
              "        dataTable['output_type'] = 'display_data';\n",
              "        await google.colab.output.renderOutput(dataTable, element);\n",
              "        const docLink = document.createElement('div');\n",
              "        docLink.innerHTML = docLinkHtml;\n",
              "        element.appendChild(docLink);\n",
              "      }\n",
              "    </script>\n",
              "  </div>\n",
              "\n",
              "\n",
              "<div id=\"df-5baf2a26-940c-43c7-8fda-ccd937ae9d6d\">\n",
              "  <button class=\"colab-df-quickchart\" onclick=\"quickchart('df-5baf2a26-940c-43c7-8fda-ccd937ae9d6d')\"\n",
              "            title=\"Suggest charts\"\n",
              "            style=\"display:none;\">\n",
              "\n",
              "<svg xmlns=\"http://www.w3.org/2000/svg\" height=\"24px\"viewBox=\"0 0 24 24\"\n",
              "     width=\"24px\">\n",
              "    <g>\n",
              "        <path d=\"M19 3H5c-1.1 0-2 .9-2 2v14c0 1.1.9 2 2 2h14c1.1 0 2-.9 2-2V5c0-1.1-.9-2-2-2zM9 17H7v-7h2v7zm4 0h-2V7h2v10zm4 0h-2v-4h2v4z\"/>\n",
              "    </g>\n",
              "</svg>\n",
              "  </button>\n",
              "\n",
              "<style>\n",
              "  .colab-df-quickchart {\n",
              "      --bg-color: #E8F0FE;\n",
              "      --fill-color: #1967D2;\n",
              "      --hover-bg-color: #E2EBFA;\n",
              "      --hover-fill-color: #174EA6;\n",
              "      --disabled-fill-color: #AAA;\n",
              "      --disabled-bg-color: #DDD;\n",
              "  }\n",
              "\n",
              "  [theme=dark] .colab-df-quickchart {\n",
              "      --bg-color: #3B4455;\n",
              "      --fill-color: #D2E3FC;\n",
              "      --hover-bg-color: #434B5C;\n",
              "      --hover-fill-color: #FFFFFF;\n",
              "      --disabled-bg-color: #3B4455;\n",
              "      --disabled-fill-color: #666;\n",
              "  }\n",
              "\n",
              "  .colab-df-quickchart {\n",
              "    background-color: var(--bg-color);\n",
              "    border: none;\n",
              "    border-radius: 50%;\n",
              "    cursor: pointer;\n",
              "    display: none;\n",
              "    fill: var(--fill-color);\n",
              "    height: 32px;\n",
              "    padding: 0;\n",
              "    width: 32px;\n",
              "  }\n",
              "\n",
              "  .colab-df-quickchart:hover {\n",
              "    background-color: var(--hover-bg-color);\n",
              "    box-shadow: 0 1px 2px rgba(60, 64, 67, 0.3), 0 1px 3px 1px rgba(60, 64, 67, 0.15);\n",
              "    fill: var(--button-hover-fill-color);\n",
              "  }\n",
              "\n",
              "  .colab-df-quickchart-complete:disabled,\n",
              "  .colab-df-quickchart-complete:disabled:hover {\n",
              "    background-color: var(--disabled-bg-color);\n",
              "    fill: var(--disabled-fill-color);\n",
              "    box-shadow: none;\n",
              "  }\n",
              "\n",
              "  .colab-df-spinner {\n",
              "    border: 2px solid var(--fill-color);\n",
              "    border-color: transparent;\n",
              "    border-bottom-color: var(--fill-color);\n",
              "    animation:\n",
              "      spin 1s steps(1) infinite;\n",
              "  }\n",
              "\n",
              "  @keyframes spin {\n",
              "    0% {\n",
              "      border-color: transparent;\n",
              "      border-bottom-color: var(--fill-color);\n",
              "      border-left-color: var(--fill-color);\n",
              "    }\n",
              "    20% {\n",
              "      border-color: transparent;\n",
              "      border-left-color: var(--fill-color);\n",
              "      border-top-color: var(--fill-color);\n",
              "    }\n",
              "    30% {\n",
              "      border-color: transparent;\n",
              "      border-left-color: var(--fill-color);\n",
              "      border-top-color: var(--fill-color);\n",
              "      border-right-color: var(--fill-color);\n",
              "    }\n",
              "    40% {\n",
              "      border-color: transparent;\n",
              "      border-right-color: var(--fill-color);\n",
              "      border-top-color: var(--fill-color);\n",
              "    }\n",
              "    60% {\n",
              "      border-color: transparent;\n",
              "      border-right-color: var(--fill-color);\n",
              "    }\n",
              "    80% {\n",
              "      border-color: transparent;\n",
              "      border-right-color: var(--fill-color);\n",
              "      border-bottom-color: var(--fill-color);\n",
              "    }\n",
              "    90% {\n",
              "      border-color: transparent;\n",
              "      border-bottom-color: var(--fill-color);\n",
              "    }\n",
              "  }\n",
              "</style>\n",
              "\n",
              "  <script>\n",
              "    async function quickchart(key) {\n",
              "      const quickchartButtonEl =\n",
              "        document.querySelector('#' + key + ' button');\n",
              "      quickchartButtonEl.disabled = true;  // To prevent multiple clicks.\n",
              "      quickchartButtonEl.classList.add('colab-df-spinner');\n",
              "      try {\n",
              "        const charts = await google.colab.kernel.invokeFunction(\n",
              "            'suggestCharts', [key], {});\n",
              "      } catch (error) {\n",
              "        console.error('Error during call to suggestCharts:', error);\n",
              "      }\n",
              "      quickchartButtonEl.classList.remove('colab-df-spinner');\n",
              "      quickchartButtonEl.classList.add('colab-df-quickchart-complete');\n",
              "    }\n",
              "    (() => {\n",
              "      let quickchartButtonEl =\n",
              "        document.querySelector('#df-5baf2a26-940c-43c7-8fda-ccd937ae9d6d button');\n",
              "      quickchartButtonEl.style.display =\n",
              "        google.colab.kernel.accessAllowed ? 'block' : 'none';\n",
              "    })();\n",
              "  </script>\n",
              "</div>\n",
              "    </div>\n",
              "  </div>\n"
            ],
            "application/vnd.google.colaboratory.intrinsic+json": {
              "type": "dataframe",
              "variable_name": "df"
            }
          },
          "metadata": {},
          "execution_count": 2
        }
      ],
      "source": [
        "df=pd.read_csv(\"/content/data.csv\")\n",
        "df.head()"
      ]
    },
    {
      "cell_type": "code",
      "execution_count": 3,
      "id": "8b860a73",
      "metadata": {
        "execution": {
          "iopub.execute_input": "2022-10-22T08:28:28.152160Z",
          "iopub.status.busy": "2022-10-22T08:28:28.151260Z",
          "iopub.status.idle": "2022-10-22T08:28:28.208550Z",
          "shell.execute_reply": "2022-10-22T08:28:28.206898Z"
        },
        "papermill": {
          "duration": 0.077237,
          "end_time": "2022-10-22T08:28:28.211497",
          "exception": false,
          "start_time": "2022-10-22T08:28:28.134260",
          "status": "completed"
        },
        "tags": [],
        "colab": {
          "base_uri": "https://localhost:8080/"
        },
        "id": "8b860a73",
        "outputId": "c7ad8c78-7ed6-45fb-c4ec-54aef6b070a2"
      },
      "outputs": [
        {
          "output_type": "stream",
          "name": "stdout",
          "text": [
            "<class 'pandas.core.frame.DataFrame'>\n",
            "RangeIndex: 34660 entries, 0 to 34659\n",
            "Data columns (total 21 columns):\n",
            " #   Column                Non-Null Count  Dtype  \n",
            "---  ------                --------------  -----  \n",
            " 0   id                    34660 non-null  object \n",
            " 1   name                  27900 non-null  object \n",
            " 2   asins                 34658 non-null  object \n",
            " 3   brand                 34660 non-null  object \n",
            " 4   categories            34660 non-null  object \n",
            " 5   keys                  34660 non-null  object \n",
            " 6   manufacturer          34660 non-null  object \n",
            " 7   reviews.date          34621 non-null  object \n",
            " 8   reviews.dateAdded     24039 non-null  object \n",
            " 9   reviews.dateSeen      34660 non-null  object \n",
            " 10  reviews.didPurchase   1 non-null      object \n",
            " 11  reviews.doRecommend   34066 non-null  object \n",
            " 12  reviews.id            1 non-null      float64\n",
            " 13  reviews.numHelpful    34131 non-null  float64\n",
            " 14  reviews.rating        34627 non-null  float64\n",
            " 15  reviews.sourceURLs    34660 non-null  object \n",
            " 16  reviews.text          34659 non-null  object \n",
            " 17  reviews.title         34654 non-null  object \n",
            " 18  reviews.userCity      0 non-null      float64\n",
            " 19  reviews.userProvince  0 non-null      float64\n",
            " 20  reviews.username      34653 non-null  object \n",
            "dtypes: float64(5), object(16)\n",
            "memory usage: 5.6+ MB\n"
          ]
        }
      ],
      "source": [
        "df.info()"
      ]
    },
    {
      "cell_type": "markdown",
      "id": "cac7b538",
      "metadata": {
        "papermill": {
          "duration": 0.015229,
          "end_time": "2022-10-22T08:28:28.242541",
          "exception": false,
          "start_time": "2022-10-22T08:28:28.227312",
          "status": "completed"
        },
        "tags": [],
        "id": "cac7b538"
      },
      "source": [
        "reviews.didPurchase , reviews.id , reviews.userCity , reviews.userProvince are completely empty so no use of them"
      ]
    },
    {
      "cell_type": "code",
      "execution_count": 4,
      "id": "4fde98ee",
      "metadata": {
        "execution": {
          "iopub.execute_input": "2022-10-22T08:28:28.275875Z",
          "iopub.status.busy": "2022-10-22T08:28:28.275219Z",
          "iopub.status.idle": "2022-10-22T08:28:28.321824Z",
          "shell.execute_reply": "2022-10-22T08:28:28.320543Z"
        },
        "papermill": {
          "duration": 0.06701,
          "end_time": "2022-10-22T08:28:28.324994",
          "exception": false,
          "start_time": "2022-10-22T08:28:28.257984",
          "status": "completed"
        },
        "tags": [],
        "colab": {
          "base_uri": "https://localhost:8080/",
          "height": 300
        },
        "id": "4fde98ee",
        "outputId": "921f74a6-0705-4c0a-daf3-2bebc76be854"
      },
      "outputs": [
        {
          "output_type": "execute_result",
          "data": {
            "text/plain": [
              "        reviews.id  reviews.numHelpful  reviews.rating  reviews.userCity  \\\n",
              "count          1.0        34131.000000    34627.000000               0.0   \n",
              "mean   111372787.0            0.630248        4.584573               NaN   \n",
              "std            NaN           13.215775        0.735653               NaN   \n",
              "min    111372787.0            0.000000        1.000000               NaN   \n",
              "25%    111372787.0            0.000000        4.000000               NaN   \n",
              "50%    111372787.0            0.000000        5.000000               NaN   \n",
              "75%    111372787.0            0.000000        5.000000               NaN   \n",
              "max    111372787.0          814.000000        5.000000               NaN   \n",
              "\n",
              "       reviews.userProvince  \n",
              "count                   0.0  \n",
              "mean                    NaN  \n",
              "std                     NaN  \n",
              "min                     NaN  \n",
              "25%                     NaN  \n",
              "50%                     NaN  \n",
              "75%                     NaN  \n",
              "max                     NaN  "
            ],
            "text/html": [
              "\n",
              "  <div id=\"df-c9261b2c-6a90-43c9-a6bb-72f53d79e687\" class=\"colab-df-container\">\n",
              "    <div>\n",
              "<style scoped>\n",
              "    .dataframe tbody tr th:only-of-type {\n",
              "        vertical-align: middle;\n",
              "    }\n",
              "\n",
              "    .dataframe tbody tr th {\n",
              "        vertical-align: top;\n",
              "    }\n",
              "\n",
              "    .dataframe thead th {\n",
              "        text-align: right;\n",
              "    }\n",
              "</style>\n",
              "<table border=\"1\" class=\"dataframe\">\n",
              "  <thead>\n",
              "    <tr style=\"text-align: right;\">\n",
              "      <th></th>\n",
              "      <th>reviews.id</th>\n",
              "      <th>reviews.numHelpful</th>\n",
              "      <th>reviews.rating</th>\n",
              "      <th>reviews.userCity</th>\n",
              "      <th>reviews.userProvince</th>\n",
              "    </tr>\n",
              "  </thead>\n",
              "  <tbody>\n",
              "    <tr>\n",
              "      <th>count</th>\n",
              "      <td>1.0</td>\n",
              "      <td>34131.000000</td>\n",
              "      <td>34627.000000</td>\n",
              "      <td>0.0</td>\n",
              "      <td>0.0</td>\n",
              "    </tr>\n",
              "    <tr>\n",
              "      <th>mean</th>\n",
              "      <td>111372787.0</td>\n",
              "      <td>0.630248</td>\n",
              "      <td>4.584573</td>\n",
              "      <td>NaN</td>\n",
              "      <td>NaN</td>\n",
              "    </tr>\n",
              "    <tr>\n",
              "      <th>std</th>\n",
              "      <td>NaN</td>\n",
              "      <td>13.215775</td>\n",
              "      <td>0.735653</td>\n",
              "      <td>NaN</td>\n",
              "      <td>NaN</td>\n",
              "    </tr>\n",
              "    <tr>\n",
              "      <th>min</th>\n",
              "      <td>111372787.0</td>\n",
              "      <td>0.000000</td>\n",
              "      <td>1.000000</td>\n",
              "      <td>NaN</td>\n",
              "      <td>NaN</td>\n",
              "    </tr>\n",
              "    <tr>\n",
              "      <th>25%</th>\n",
              "      <td>111372787.0</td>\n",
              "      <td>0.000000</td>\n",
              "      <td>4.000000</td>\n",
              "      <td>NaN</td>\n",
              "      <td>NaN</td>\n",
              "    </tr>\n",
              "    <tr>\n",
              "      <th>50%</th>\n",
              "      <td>111372787.0</td>\n",
              "      <td>0.000000</td>\n",
              "      <td>5.000000</td>\n",
              "      <td>NaN</td>\n",
              "      <td>NaN</td>\n",
              "    </tr>\n",
              "    <tr>\n",
              "      <th>75%</th>\n",
              "      <td>111372787.0</td>\n",
              "      <td>0.000000</td>\n",
              "      <td>5.000000</td>\n",
              "      <td>NaN</td>\n",
              "      <td>NaN</td>\n",
              "    </tr>\n",
              "    <tr>\n",
              "      <th>max</th>\n",
              "      <td>111372787.0</td>\n",
              "      <td>814.000000</td>\n",
              "      <td>5.000000</td>\n",
              "      <td>NaN</td>\n",
              "      <td>NaN</td>\n",
              "    </tr>\n",
              "  </tbody>\n",
              "</table>\n",
              "</div>\n",
              "    <div class=\"colab-df-buttons\">\n",
              "\n",
              "  <div class=\"colab-df-container\">\n",
              "    <button class=\"colab-df-convert\" onclick=\"convertToInteractive('df-c9261b2c-6a90-43c9-a6bb-72f53d79e687')\"\n",
              "            title=\"Convert this dataframe to an interactive table.\"\n",
              "            style=\"display:none;\">\n",
              "\n",
              "  <svg xmlns=\"http://www.w3.org/2000/svg\" height=\"24px\" viewBox=\"0 -960 960 960\">\n",
              "    <path d=\"M120-120v-720h720v720H120Zm60-500h600v-160H180v160Zm220 220h160v-160H400v160Zm0 220h160v-160H400v160ZM180-400h160v-160H180v160Zm440 0h160v-160H620v160ZM180-180h160v-160H180v160Zm440 0h160v-160H620v160Z\"/>\n",
              "  </svg>\n",
              "    </button>\n",
              "\n",
              "  <style>\n",
              "    .colab-df-container {\n",
              "      display:flex;\n",
              "      gap: 12px;\n",
              "    }\n",
              "\n",
              "    .colab-df-convert {\n",
              "      background-color: #E8F0FE;\n",
              "      border: none;\n",
              "      border-radius: 50%;\n",
              "      cursor: pointer;\n",
              "      display: none;\n",
              "      fill: #1967D2;\n",
              "      height: 32px;\n",
              "      padding: 0 0 0 0;\n",
              "      width: 32px;\n",
              "    }\n",
              "\n",
              "    .colab-df-convert:hover {\n",
              "      background-color: #E2EBFA;\n",
              "      box-shadow: 0px 1px 2px rgba(60, 64, 67, 0.3), 0px 1px 3px 1px rgba(60, 64, 67, 0.15);\n",
              "      fill: #174EA6;\n",
              "    }\n",
              "\n",
              "    .colab-df-buttons div {\n",
              "      margin-bottom: 4px;\n",
              "    }\n",
              "\n",
              "    [theme=dark] .colab-df-convert {\n",
              "      background-color: #3B4455;\n",
              "      fill: #D2E3FC;\n",
              "    }\n",
              "\n",
              "    [theme=dark] .colab-df-convert:hover {\n",
              "      background-color: #434B5C;\n",
              "      box-shadow: 0px 1px 3px 1px rgba(0, 0, 0, 0.15);\n",
              "      filter: drop-shadow(0px 1px 2px rgba(0, 0, 0, 0.3));\n",
              "      fill: #FFFFFF;\n",
              "    }\n",
              "  </style>\n",
              "\n",
              "    <script>\n",
              "      const buttonEl =\n",
              "        document.querySelector('#df-c9261b2c-6a90-43c9-a6bb-72f53d79e687 button.colab-df-convert');\n",
              "      buttonEl.style.display =\n",
              "        google.colab.kernel.accessAllowed ? 'block' : 'none';\n",
              "\n",
              "      async function convertToInteractive(key) {\n",
              "        const element = document.querySelector('#df-c9261b2c-6a90-43c9-a6bb-72f53d79e687');\n",
              "        const dataTable =\n",
              "          await google.colab.kernel.invokeFunction('convertToInteractive',\n",
              "                                                    [key], {});\n",
              "        if (!dataTable) return;\n",
              "\n",
              "        const docLinkHtml = 'Like what you see? Visit the ' +\n",
              "          '<a target=\"_blank\" href=https://colab.research.google.com/notebooks/data_table.ipynb>data table notebook</a>'\n",
              "          + ' to learn more about interactive tables.';\n",
              "        element.innerHTML = '';\n",
              "        dataTable['output_type'] = 'display_data';\n",
              "        await google.colab.output.renderOutput(dataTable, element);\n",
              "        const docLink = document.createElement('div');\n",
              "        docLink.innerHTML = docLinkHtml;\n",
              "        element.appendChild(docLink);\n",
              "      }\n",
              "    </script>\n",
              "  </div>\n",
              "\n",
              "\n",
              "<div id=\"df-8a20804f-46cf-4f69-8c7a-721b8130ae5e\">\n",
              "  <button class=\"colab-df-quickchart\" onclick=\"quickchart('df-8a20804f-46cf-4f69-8c7a-721b8130ae5e')\"\n",
              "            title=\"Suggest charts\"\n",
              "            style=\"display:none;\">\n",
              "\n",
              "<svg xmlns=\"http://www.w3.org/2000/svg\" height=\"24px\"viewBox=\"0 0 24 24\"\n",
              "     width=\"24px\">\n",
              "    <g>\n",
              "        <path d=\"M19 3H5c-1.1 0-2 .9-2 2v14c0 1.1.9 2 2 2h14c1.1 0 2-.9 2-2V5c0-1.1-.9-2-2-2zM9 17H7v-7h2v7zm4 0h-2V7h2v10zm4 0h-2v-4h2v4z\"/>\n",
              "    </g>\n",
              "</svg>\n",
              "  </button>\n",
              "\n",
              "<style>\n",
              "  .colab-df-quickchart {\n",
              "      --bg-color: #E8F0FE;\n",
              "      --fill-color: #1967D2;\n",
              "      --hover-bg-color: #E2EBFA;\n",
              "      --hover-fill-color: #174EA6;\n",
              "      --disabled-fill-color: #AAA;\n",
              "      --disabled-bg-color: #DDD;\n",
              "  }\n",
              "\n",
              "  [theme=dark] .colab-df-quickchart {\n",
              "      --bg-color: #3B4455;\n",
              "      --fill-color: #D2E3FC;\n",
              "      --hover-bg-color: #434B5C;\n",
              "      --hover-fill-color: #FFFFFF;\n",
              "      --disabled-bg-color: #3B4455;\n",
              "      --disabled-fill-color: #666;\n",
              "  }\n",
              "\n",
              "  .colab-df-quickchart {\n",
              "    background-color: var(--bg-color);\n",
              "    border: none;\n",
              "    border-radius: 50%;\n",
              "    cursor: pointer;\n",
              "    display: none;\n",
              "    fill: var(--fill-color);\n",
              "    height: 32px;\n",
              "    padding: 0;\n",
              "    width: 32px;\n",
              "  }\n",
              "\n",
              "  .colab-df-quickchart:hover {\n",
              "    background-color: var(--hover-bg-color);\n",
              "    box-shadow: 0 1px 2px rgba(60, 64, 67, 0.3), 0 1px 3px 1px rgba(60, 64, 67, 0.15);\n",
              "    fill: var(--button-hover-fill-color);\n",
              "  }\n",
              "\n",
              "  .colab-df-quickchart-complete:disabled,\n",
              "  .colab-df-quickchart-complete:disabled:hover {\n",
              "    background-color: var(--disabled-bg-color);\n",
              "    fill: var(--disabled-fill-color);\n",
              "    box-shadow: none;\n",
              "  }\n",
              "\n",
              "  .colab-df-spinner {\n",
              "    border: 2px solid var(--fill-color);\n",
              "    border-color: transparent;\n",
              "    border-bottom-color: var(--fill-color);\n",
              "    animation:\n",
              "      spin 1s steps(1) infinite;\n",
              "  }\n",
              "\n",
              "  @keyframes spin {\n",
              "    0% {\n",
              "      border-color: transparent;\n",
              "      border-bottom-color: var(--fill-color);\n",
              "      border-left-color: var(--fill-color);\n",
              "    }\n",
              "    20% {\n",
              "      border-color: transparent;\n",
              "      border-left-color: var(--fill-color);\n",
              "      border-top-color: var(--fill-color);\n",
              "    }\n",
              "    30% {\n",
              "      border-color: transparent;\n",
              "      border-left-color: var(--fill-color);\n",
              "      border-top-color: var(--fill-color);\n",
              "      border-right-color: var(--fill-color);\n",
              "    }\n",
              "    40% {\n",
              "      border-color: transparent;\n",
              "      border-right-color: var(--fill-color);\n",
              "      border-top-color: var(--fill-color);\n",
              "    }\n",
              "    60% {\n",
              "      border-color: transparent;\n",
              "      border-right-color: var(--fill-color);\n",
              "    }\n",
              "    80% {\n",
              "      border-color: transparent;\n",
              "      border-right-color: var(--fill-color);\n",
              "      border-bottom-color: var(--fill-color);\n",
              "    }\n",
              "    90% {\n",
              "      border-color: transparent;\n",
              "      border-bottom-color: var(--fill-color);\n",
              "    }\n",
              "  }\n",
              "</style>\n",
              "\n",
              "  <script>\n",
              "    async function quickchart(key) {\n",
              "      const quickchartButtonEl =\n",
              "        document.querySelector('#' + key + ' button');\n",
              "      quickchartButtonEl.disabled = true;  // To prevent multiple clicks.\n",
              "      quickchartButtonEl.classList.add('colab-df-spinner');\n",
              "      try {\n",
              "        const charts = await google.colab.kernel.invokeFunction(\n",
              "            'suggestCharts', [key], {});\n",
              "      } catch (error) {\n",
              "        console.error('Error during call to suggestCharts:', error);\n",
              "      }\n",
              "      quickchartButtonEl.classList.remove('colab-df-spinner');\n",
              "      quickchartButtonEl.classList.add('colab-df-quickchart-complete');\n",
              "    }\n",
              "    (() => {\n",
              "      let quickchartButtonEl =\n",
              "        document.querySelector('#df-8a20804f-46cf-4f69-8c7a-721b8130ae5e button');\n",
              "      quickchartButtonEl.style.display =\n",
              "        google.colab.kernel.accessAllowed ? 'block' : 'none';\n",
              "    })();\n",
              "  </script>\n",
              "</div>\n",
              "    </div>\n",
              "  </div>\n"
            ],
            "application/vnd.google.colaboratory.intrinsic+json": {
              "type": "dataframe",
              "summary": "{\n  \"name\": \"data\",\n  \"rows\": 8,\n  \"fields\": [\n    {\n      \"column\": \"reviews.id\",\n      \"properties\": {\n        \"dtype\": \"number\",\n        \"std\": 42094956.36805944,\n        \"min\": 1.0,\n        \"max\": 111372787.0,\n        \"num_unique_values\": 2,\n        \"samples\": [\n          111372787.0,\n          1.0\n        ],\n        \"semantic_type\": \"\",\n        \"description\": \"\"\n      }\n    },\n    {\n      \"column\": \"reviews.numHelpful\",\n      \"properties\": {\n        \"dtype\": \"number\",\n        \"std\": 12028.672992019248,\n        \"min\": 0.0,\n        \"max\": 34131.0,\n        \"num_unique_values\": 5,\n        \"samples\": [\n          0.6302481614954147,\n          814.0\n        ],\n        \"semantic_type\": \"\",\n        \"description\": \"\"\n      }\n    },\n    {\n      \"column\": \"reviews.rating\",\n      \"properties\": {\n        \"dtype\": \"number\",\n        \"std\": 12241.214519762767,\n        \"min\": 0.735652907647782,\n        \"max\": 34627.0,\n        \"num_unique_values\": 6,\n        \"samples\": [\n          34627.0,\n          4.584572732260953\n        ],\n        \"semantic_type\": \"\",\n        \"description\": \"\"\n      }\n    },\n    {\n      \"column\": \"reviews.userCity\",\n      \"properties\": {\n        \"dtype\": \"number\",\n        \"std\": null,\n        \"min\": 0.0,\n        \"max\": 0.0,\n        \"num_unique_values\": 1,\n        \"samples\": [\n          0.0\n        ],\n        \"semantic_type\": \"\",\n        \"description\": \"\"\n      }\n    },\n    {\n      \"column\": \"reviews.userProvince\",\n      \"properties\": {\n        \"dtype\": \"number\",\n        \"std\": null,\n        \"min\": 0.0,\n        \"max\": 0.0,\n        \"num_unique_values\": 1,\n        \"samples\": [\n          0.0\n        ],\n        \"semantic_type\": \"\",\n        \"description\": \"\"\n      }\n    }\n  ]\n}"
            }
          },
          "metadata": {},
          "execution_count": 4
        }
      ],
      "source": [
        "data=df.copy()\n",
        "data.describe()\n"
      ]
    },
    {
      "cell_type": "markdown",
      "id": "3ae4c3f6",
      "metadata": {
        "papermill": {
          "duration": 0.01665,
          "end_time": "2022-10-22T08:28:28.357766",
          "exception": false,
          "start_time": "2022-10-22T08:28:28.341116",
          "status": "completed"
        },
        "tags": [],
        "id": "3ae4c3f6"
      },
      "source": [
        "rating info and review helpful rating is important to analyse data later. Also mean reviews rating comes out to be 4.58"
      ]
    },
    {
      "cell_type": "code",
      "execution_count": 5,
      "id": "748ad5a3",
      "metadata": {
        "execution": {
          "iopub.execute_input": "2022-10-22T08:28:28.392482Z",
          "iopub.status.busy": "2022-10-22T08:28:28.391932Z",
          "iopub.status.idle": "2022-10-22T08:28:29.843033Z",
          "shell.execute_reply": "2022-10-22T08:28:29.841635Z"
        },
        "papermill": {
          "duration": 1.471665,
          "end_time": "2022-10-22T08:28:29.845854",
          "exception": false,
          "start_time": "2022-10-22T08:28:28.374189",
          "status": "completed"
        },
        "tags": [],
        "colab": {
          "base_uri": "https://localhost:8080/",
          "height": 601
        },
        "id": "748ad5a3",
        "outputId": "64b68650-195f-44b8-92f1-06eb05e10f5a"
      },
      "outputs": [
        {
          "output_type": "execute_result",
          "data": {
            "text/plain": [
              "<Axes: >"
            ]
          },
          "metadata": {},
          "execution_count": 5
        },
        {
          "output_type": "display_data",
          "data": {
            "text/plain": [
              "<Figure size 640x480 with 1 Axes>"
            ],
            "image/png": "[encoded data removed]"
          },
          "metadata": {}
        }
      ],
      "source": [
        "sns.heatmap(df.isnull(),cbar=False,cmap=\"viridis\")"
      ]
    },
    {
      "cell_type": "markdown",
      "id": "cb8379db",
      "metadata": {
        "papermill": {
          "duration": 0.016877,
          "end_time": "2022-10-22T08:28:29.880060",
          "exception": false,
          "start_time": "2022-10-22T08:28:29.863183",
          "status": "completed"
        },
        "tags": [],
        "id": "cb8379db"
      },
      "source": [
        "we can remove reviews.userCity, reviews.userProvince, reviews_id"
      ]
    },
    {
      "cell_type": "code",
      "execution_count": 6,
      "id": "fe82c766",
      "metadata": {
        "execution": {
          "iopub.execute_input": "2022-10-22T08:28:29.917532Z",
          "iopub.status.busy": "2022-10-22T08:28:29.915959Z",
          "iopub.status.idle": "2022-10-22T08:28:29.971093Z",
          "shell.execute_reply": "2022-10-22T08:28:29.969759Z"
        },
        "papermill": {
          "duration": 0.077623,
          "end_time": "2022-10-22T08:28:29.974608",
          "exception": false,
          "start_time": "2022-10-22T08:28:29.896985",
          "status": "completed"
        },
        "tags": [],
        "colab": {
          "base_uri": "https://localhost:8080/"
        },
        "id": "fe82c766",
        "outputId": "dbea5cd5-bb96-48a4-e6f4-83633340a1bc"
      },
      "outputs": [
        {
          "output_type": "stream",
          "name": "stdout",
          "text": [
            "<class 'pandas.core.frame.DataFrame'>\n",
            "RangeIndex: 34660 entries, 0 to 34659\n",
            "Data columns (total 20 columns):\n",
            " #   Column                Non-Null Count  Dtype  \n",
            "---  ------                --------------  -----  \n",
            " 0   id                    34660 non-null  object \n",
            " 1   name                  27900 non-null  object \n",
            " 2   asins                 34658 non-null  object \n",
            " 3   brand                 34660 non-null  object \n",
            " 4   categories            34660 non-null  object \n",
            " 5   keys                  34660 non-null  object \n",
            " 6   manufacturer          34660 non-null  object \n",
            " 7   reviews.date          34621 non-null  object \n",
            " 8   reviews.dateAdded     24039 non-null  object \n",
            " 9   reviews.dateSeen      34660 non-null  object \n",
            " 10  reviews.didPurchase   1 non-null      object \n",
            " 11  reviews.doRecommend   34066 non-null  object \n",
            " 12  reviews.numHelpful    34131 non-null  float64\n",
            " 13  reviews.rating        34627 non-null  float64\n",
            " 14  reviews.sourceURLs    34660 non-null  object \n",
            " 15  reviews.text          34659 non-null  object \n",
            " 16  reviews.title         34654 non-null  object \n",
            " 17  reviews.userCity      0 non-null      float64\n",
            " 18  reviews.userProvince  0 non-null      float64\n",
            " 19  reviews.username      34653 non-null  object \n",
            "dtypes: float64(4), object(16)\n",
            "memory usage: 5.3+ MB\n"
          ]
        }
      ],
      "source": [
        "df.drop(['reviews.id'],inplace=True,axis=1)\n",
        "df.info()"
      ]
    },
    {
      "cell_type": "code",
      "execution_count": 7,
      "id": "1eb67606",
      "metadata": {
        "execution": {
          "iopub.execute_input": "2022-10-22T08:28:30.010874Z",
          "iopub.status.busy": "2022-10-22T08:28:30.010361Z",
          "iopub.status.idle": "2022-10-22T08:28:30.061691Z",
          "shell.execute_reply": "2022-10-22T08:28:30.060197Z"
        },
        "papermill": {
          "duration": 0.073022,
          "end_time": "2022-10-22T08:28:30.064648",
          "exception": false,
          "start_time": "2022-10-22T08:28:29.991626",
          "status": "completed"
        },
        "tags": [],
        "colab": {
          "base_uri": "https://localhost:8080/"
        },
        "id": "1eb67606",
        "outputId": "602c1fc3-d264-47ff-ef19-d76853341282"
      },
      "outputs": [
        {
          "output_type": "stream",
          "name": "stdout",
          "text": [
            "<class 'pandas.core.frame.DataFrame'>\n",
            "RangeIndex: 34660 entries, 0 to 34659\n",
            "Data columns (total 19 columns):\n",
            " #   Column                Non-Null Count  Dtype  \n",
            "---  ------                --------------  -----  \n",
            " 0   id                    34660 non-null  object \n",
            " 1   name                  27900 non-null  object \n",
            " 2   asins                 34658 non-null  object \n",
            " 3   brand                 34660 non-null  object \n",
            " 4   categories            34660 non-null  object \n",
            " 5   keys                  34660 non-null  object \n",
            " 6   manufacturer          34660 non-null  object \n",
            " 7   reviews.date          34621 non-null  object \n",
            " 8   reviews.dateAdded     24039 non-null  object \n",
            " 9   reviews.dateSeen      34660 non-null  object \n",
            " 10  reviews.doRecommend   34066 non-null  object \n",
            " 11  reviews.numHelpful    34131 non-null  float64\n",
            " 12  reviews.rating        34627 non-null  float64\n",
            " 13  reviews.sourceURLs    34660 non-null  object \n",
            " 14  reviews.text          34659 non-null  object \n",
            " 15  reviews.title         34654 non-null  object \n",
            " 16  reviews.userCity      0 non-null      float64\n",
            " 17  reviews.userProvince  0 non-null      float64\n",
            " 18  reviews.username      34653 non-null  object \n",
            "dtypes: float64(4), object(15)\n",
            "memory usage: 5.0+ MB\n"
          ]
        }
      ],
      "source": [
        "df.drop(['reviews.didPurchase'],inplace =True,axis=1)\n",
        "df.info()"
      ]
    },
    {
      "cell_type": "code",
      "execution_count": 8,
      "id": "4619f246",
      "metadata": {
        "execution": {
          "iopub.execute_input": "2022-10-22T08:28:30.101811Z",
          "iopub.status.busy": "2022-10-22T08:28:30.099919Z",
          "iopub.status.idle": "2022-10-22T08:28:30.135985Z",
          "shell.execute_reply": "2022-10-22T08:28:30.134969Z"
        },
        "papermill": {
          "duration": 0.05723,
          "end_time": "2022-10-22T08:28:30.138809",
          "exception": false,
          "start_time": "2022-10-22T08:28:30.081579",
          "status": "completed"
        },
        "tags": [],
        "colab": {
          "base_uri": "https://localhost:8080/",
          "height": 300
        },
        "id": "4619f246",
        "outputId": "d749cfce-a8e6-4ff7-d279-40ad50608ffc"
      },
      "outputs": [
        {
          "output_type": "execute_result",
          "data": {
            "text/plain": [
              "       reviews.numHelpful  reviews.rating  reviews.userCity  \\\n",
              "count        34131.000000    34627.000000               0.0   \n",
              "mean             0.630248        4.584573               NaN   \n",
              "std             13.215775        0.735653               NaN   \n",
              "min              0.000000        1.000000               NaN   \n",
              "25%              0.000000        4.000000               NaN   \n",
              "50%              0.000000        5.000000               NaN   \n",
              "75%              0.000000        5.000000               NaN   \n",
              "max            814.000000        5.000000               NaN   \n",
              "\n",
              "       reviews.userProvince  \n",
              "count                   0.0  \n",
              "mean                    NaN  \n",
              "std                     NaN  \n",
              "min                     NaN  \n",
              "25%                     NaN  \n",
              "50%                     NaN  \n",
              "75%                     NaN  \n",
              "max                     NaN  "
            ],
            "text/html": [
              "\n",
              "  <div id=\"df-9ad3c413-5585-40e7-a85e-ae884d8134bb\" class=\"colab-df-container\">\n",
              "    <div>\n",
              "<style scoped>\n",
              "    .dataframe tbody tr th:only-of-type {\n",
              "        vertical-align: middle;\n",
              "    }\n",
              "\n",
              "    .dataframe tbody tr th {\n",
              "        vertical-align: top;\n",
              "    }\n",
              "\n",
              "    .dataframe thead th {\n",
              "        text-align: right;\n",
              "    }\n",
              "</style>\n",
              "<table border=\"1\" class=\"dataframe\">\n",
              "  <thead>\n",
              "    <tr style=\"text-align: right;\">\n",
              "      <th></th>\n",
              "      <th>reviews.numHelpful</th>\n",
              "      <th>reviews.rating</th>\n",
              "      <th>reviews.userCity</th>\n",
              "      <th>reviews.userProvince</th>\n",
              "    </tr>\n",
              "  </thead>\n",
              "  <tbody>\n",
              "    <tr>\n",
              "      <th>count</th>\n",
              "      <td>34131.000000</td>\n",
              "      <td>34627.000000</td>\n",
              "      <td>0.0</td>\n",
              "      <td>0.0</td>\n",
              "    </tr>\n",
              "    <tr>\n",
              "      <th>mean</th>\n",
              "      <td>0.630248</td>\n",
              "      <td>4.584573</td>\n",
              "      <td>NaN</td>\n",
              "      <td>NaN</td>\n",
              "    </tr>\n",
              "    <tr>\n",
              "      <th>std</th>\n",
              "      <td>13.215775</td>\n",
              "      <td>0.735653</td>\n",
              "      <td>NaN</td>\n",
              "      <td>NaN</td>\n",
              "    </tr>\n",
              "    <tr>\n",
              "      <th>min</th>\n",
              "      <td>0.000000</td>\n",
              "      <td>1.000000</td>\n",
              "      <td>NaN</td>\n",
              "      <td>NaN</td>\n",
              "    </tr>\n",
              "    <tr>\n",
              "      <th>25%</th>\n",
              "      <td>0.000000</td>\n",
              "      <td>4.000000</td>\n",
              "      <td>NaN</td>\n",
              "      <td>NaN</td>\n",
              "    </tr>\n",
              "    <tr>\n",
              "      <th>50%</th>\n",
              "      <td>0.000000</td>\n",
              "      <td>5.000000</td>\n",
              "      <td>NaN</td>\n",
              "      <td>NaN</td>\n",
              "    </tr>\n",
              "    <tr>\n",
              "      <th>75%</th>\n",
              "      <td>0.000000</td>\n",
              "      <td>5.000000</td>\n",
              "      <td>NaN</td>\n",
              "      <td>NaN</td>\n",
              "    </tr>\n",
              "    <tr>\n",
              "      <th>max</th>\n",
              "      <td>814.000000</td>\n",
              "      <td>5.000000</td>\n",
              "      <td>NaN</td>\n",
              "      <td>NaN</td>\n",
              "    </tr>\n",
              "  </tbody>\n",
              "</table>\n",
              "</div>\n",
              "    <div class=\"colab-df-buttons\">\n",
              "\n",
              "  <div class=\"colab-df-container\">\n",
              "    <button class=\"colab-df-convert\" onclick=\"convertToInteractive('df-9ad3c413-5585-40e7-a85e-ae884d8134bb')\"\n",
              "            title=\"Convert this dataframe to an interactive table.\"\n",
              "            style=\"display:none;\">\n",
              "\n",
              "  <svg xmlns=\"http://www.w3.org/2000/svg\" height=\"24px\" viewBox=\"0 -960 960 960\">\n",
              "    <path d=\"M120-120v-720h720v720H120Zm60-500h600v-160H180v160Zm220 220h160v-160H400v160Zm0 220h160v-160H400v160ZM180-400h160v-160H180v160Zm440 0h160v-160H620v160ZM180-180h160v-160H180v160Zm440 0h160v-160H620v160Z\"/>\n",
              "  </svg>\n",
              "    </button>\n",
              "\n",
              "  <style>\n",
              "    .colab-df-container {\n",
              "      display:flex;\n",
              "      gap: 12px;\n",
              "    }\n",
              "\n",
              "    .colab-df-convert {\n",
              "      background-color: #E8F0FE;\n",
              "      border: none;\n",
              "      border-radius: 50%;\n",
              "      cursor: pointer;\n",
              "      display: none;\n",
              "      fill: #1967D2;\n",
              "      height: 32px;\n",
              "      padding: 0 0 0 0;\n",
              "      width: 32px;\n",
              "    }\n",
              "\n",
              "    .colab-df-convert:hover {\n",
              "      background-color: #E2EBFA;\n",
              "      box-shadow: 0px 1px 2px rgba(60, 64, 67, 0.3), 0px 1px 3px 1px rgba(60, 64, 67, 0.15);\n",
              "      fill: #174EA6;\n",
              "    }\n",
              "\n",
              "    .colab-df-buttons div {\n",
              "      margin-bottom: 4px;\n",
              "    }\n",
              "\n",
              "    [theme=dark] .colab-df-convert {\n",
              "      background-color: #3B4455;\n",
              "      fill: #D2E3FC;\n",
              "    }\n",
              "\n",
              "    [theme=dark] .colab-df-convert:hover {\n",
              "      background-color: #434B5C;\n",
              "      box-shadow: 0px 1px 3px 1px rgba(0, 0, 0, 0.15);\n",
              "      filter: drop-shadow(0px 1px 2px rgba(0, 0, 0, 0.3));\n",
              "      fill: #FFFFFF;\n",
              "    }\n",
              "  </style>\n",
              "\n",
              "    <script>\n",
              "      const buttonEl =\n",
              "        document.querySelector('#df-9ad3c413-5585-40e7-a85e-ae884d8134bb button.colab-df-convert');\n",
              "      buttonEl.style.display =\n",
              "        google.colab.kernel.accessAllowed ? 'block' : 'none';\n",
              "\n",
              "      async function convertToInteractive(key) {\n",
              "        const element = document.querySelector('#df-9ad3c413-5585-40e7-a85e-ae884d8134bb');\n",
              "        const dataTable =\n",
              "          await google.colab.kernel.invokeFunction('convertToInteractive',\n",
              "                                                    [key], {});\n",
              "        if (!dataTable) return;\n",
              "\n",
              "        const docLinkHtml = 'Like what you see? Visit the ' +\n",
              "          '<a target=\"_blank\" href=https://colab.research.google.com/notebooks/data_table.ipynb>data table notebook</a>'\n",
              "          + ' to learn more about interactive tables.';\n",
              "        element.innerHTML = '';\n",
              "        dataTable['output_type'] = 'display_data';\n",
              "        await google.colab.output.renderOutput(dataTable, element);\n",
              "        const docLink = document.createElement('div');\n",
              "        docLink.innerHTML = docLinkHtml;\n",
              "        element.appendChild(docLink);\n",
              "      }\n",
              "    </script>\n",
              "  </div>\n",
              "\n",
              "\n",
              "<div id=\"df-9b548ff9-4059-4d87-a446-7f45aecbb93c\">\n",
              "  <button class=\"colab-df-quickchart\" onclick=\"quickchart('df-9b548ff9-4059-4d87-a446-7f45aecbb93c')\"\n",
              "            title=\"Suggest charts\"\n",
              "            style=\"display:none;\">\n",
              "\n",
              "<svg xmlns=\"http://www.w3.org/2000/svg\" height=\"24px\"viewBox=\"0 0 24 24\"\n",
              "     width=\"24px\">\n",
              "    <g>\n",
              "        <path d=\"M19 3H5c-1.1 0-2 .9-2 2v14c0 1.1.9 2 2 2h14c1.1 0 2-.9 2-2V5c0-1.1-.9-2-2-2zM9 17H7v-7h2v7zm4 0h-2V7h2v10zm4 0h-2v-4h2v4z\"/>\n",
              "    </g>\n",
              "</svg>\n",
              "  </button>\n",
              "\n",
              "<style>\n",
              "  .colab-df-quickchart {\n",
              "      --bg-color: #E8F0FE;\n",
              "      --fill-color: #1967D2;\n",
              "      --hover-bg-color: #E2EBFA;\n",
              "      --hover-fill-color: #174EA6;\n",
              "      --disabled-fill-color: #AAA;\n",
              "      --disabled-bg-color: #DDD;\n",
              "  }\n",
              "\n",
              "  [theme=dark] .colab-df-quickchart {\n",
              "      --bg-color: #3B4455;\n",
              "      --fill-color: #D2E3FC;\n",
              "      --hover-bg-color: #434B5C;\n",
              "      --hover-fill-color: #FFFFFF;\n",
              "      --disabled-bg-color: #3B4455;\n",
              "      --disabled-fill-color: #666;\n",
              "  }\n",
              "\n",
              "  .colab-df-quickchart {\n",
              "    background-color: var(--bg-color);\n",
              "    border: none;\n",
              "    border-radius: 50%;\n",
              "    cursor: pointer;\n",
              "    display: none;\n",
              "    fill: var(--fill-color);\n",
              "    height: 32px;\n",
              "    padding: 0;\n",
              "    width: 32px;\n",
              "  }\n",
              "\n",
              "  .colab-df-quickchart:hover {\n",
              "    background-color: var(--hover-bg-color);\n",
              "    box-shadow: 0 1px 2px rgba(60, 64, 67, 0.3), 0 1px 3px 1px rgba(60, 64, 67, 0.15);\n",
              "    fill: var(--button-hover-fill-color);\n",
              "  }\n",
              "\n",
              "  .colab-df-quickchart-complete:disabled,\n",
              "  .colab-df-quickchart-complete:disabled:hover {\n",
              "    background-color: var(--disabled-bg-color);\n",
              "    fill: var(--disabled-fill-color);\n",
              "    box-shadow: none;\n",
              "  }\n",
              "\n",
              "  .colab-df-spinner {\n",
              "    border: 2px solid var(--fill-color);\n",
              "    border-color: transparent;\n",
              "    border-bottom-color: var(--fill-color);\n",
              "    animation:\n",
              "      spin 1s steps(1) infinite;\n",
              "  }\n",
              "\n",
              "  @keyframes spin {\n",
              "    0% {\n",
              "      border-color: transparent;\n",
              "      border-bottom-color: var(--fill-color);\n",
              "      border-left-color: var(--fill-color);\n",
              "    }\n",
              "    20% {\n",
              "      border-color: transparent;\n",
              "      border-left-color: var(--fill-color);\n",
              "      border-top-color: var(--fill-color);\n",
              "    }\n",
              "    30% {\n",
              "      border-color: transparent;\n",
              "      border-left-color: var(--fill-color);\n",
              "      border-top-color: var(--fill-color);\n",
              "      border-right-color: var(--fill-color);\n",
              "    }\n",
              "    40% {\n",
              "      border-color: transparent;\n",
              "      border-right-color: var(--fill-color);\n",
              "      border-top-color: var(--fill-color);\n",
              "    }\n",
              "    60% {\n",
              "      border-color: transparent;\n",
              "      border-right-color: var(--fill-color);\n",
              "    }\n",
              "    80% {\n",
              "      border-color: transparent;\n",
              "      border-right-color: var(--fill-color);\n",
              "      border-bottom-color: var(--fill-color);\n",
              "    }\n",
              "    90% {\n",
              "      border-color: transparent;\n",
              "      border-bottom-color: var(--fill-color);\n",
              "    }\n",
              "  }\n",
              "</style>\n",
              "\n",
              "  <script>\n",
              "    async function quickchart(key) {\n",
              "      const quickchartButtonEl =\n",
              "        document.querySelector('#' + key + ' button');\n",
              "      quickchartButtonEl.disabled = true;  // To prevent multiple clicks.\n",
              "      quickchartButtonEl.classList.add('colab-df-spinner');\n",
              "      try {\n",
              "        const charts = await google.colab.kernel.invokeFunction(\n",
              "            'suggestCharts', [key], {});\n",
              "      } catch (error) {\n",
              "        console.error('Error during call to suggestCharts:', error);\n",
              "      }\n",
              "      quickchartButtonEl.classList.remove('colab-df-spinner');\n",
              "      quickchartButtonEl.classList.add('colab-df-quickchart-complete');\n",
              "    }\n",
              "    (() => {\n",
              "      let quickchartButtonEl =\n",
              "        document.querySelector('#df-9b548ff9-4059-4d87-a446-7f45aecbb93c button');\n",
              "      quickchartButtonEl.style.display =\n",
              "        google.colab.kernel.accessAllowed ? 'block' : 'none';\n",
              "    })();\n",
              "  </script>\n",
              "</div>\n",
              "    </div>\n",
              "  </div>\n"
            ],
            "application/vnd.google.colaboratory.intrinsic+json": {
              "type": "dataframe",
              "summary": "{\n  \"name\": \"df\",\n  \"rows\": 8,\n  \"fields\": [\n    {\n      \"column\": \"reviews.numHelpful\",\n      \"properties\": {\n        \"dtype\": \"number\",\n        \"std\": 12028.672992019248,\n        \"min\": 0.0,\n        \"max\": 34131.0,\n        \"num_unique_values\": 5,\n        \"samples\": [\n          0.6302481614954147,\n          814.0,\n          13.215775286801591\n        ],\n        \"semantic_type\": \"\",\n        \"description\": \"\"\n      }\n    },\n    {\n      \"column\": \"reviews.rating\",\n      \"properties\": {\n        \"dtype\": \"number\",\n        \"std\": 12241.214519762767,\n        \"min\": 0.735652907647782,\n        \"max\": 34627.0,\n        \"num_unique_values\": 6,\n        \"samples\": [\n          34627.0,\n          4.584572732260953,\n          5.0\n        ],\n        \"semantic_type\": \"\",\n        \"description\": \"\"\n      }\n    },\n    {\n      \"column\": \"reviews.userCity\",\n      \"properties\": {\n        \"dtype\": \"number\",\n        \"std\": null,\n        \"min\": 0.0,\n        \"max\": 0.0,\n        \"num_unique_values\": 1,\n        \"samples\": [\n          0.0\n        ],\n        \"semantic_type\": \"\",\n        \"description\": \"\"\n      }\n    },\n    {\n      \"column\": \"reviews.userProvince\",\n      \"properties\": {\n        \"dtype\": \"number\",\n        \"std\": null,\n        \"min\": 0.0,\n        \"max\": 0.0,\n        \"num_unique_values\": 1,\n        \"samples\": [\n          0.0\n        ],\n        \"semantic_type\": \"\",\n        \"description\": \"\"\n      }\n    }\n  ]\n}"
            }
          },
          "metadata": {},
          "execution_count": 8
        }
      ],
      "source": [
        "df.describe()"
      ]
    },
    {
      "cell_type": "markdown",
      "id": "891b8b57",
      "metadata": {
        "papermill": {
          "duration": 0.017088,
          "end_time": "2022-10-22T08:28:30.173178",
          "exception": false,
          "start_time": "2022-10-22T08:28:30.156090",
          "status": "completed"
        },
        "tags": [],
        "id": "891b8b57"
      },
      "source": [
        "Insights from df.describe . Avg review rating =4.58.\n",
        "Avg review helpful is 0.6 but with high standard deviation so there are people whose reviews are imp and whose are not imp. Reviews lie btw 0-13 people finding helpful.\n",
        "Review that was most helful was to 814 people."
      ]
    },
    {
      "cell_type": "code",
      "execution_count": 9,
      "id": "b7a8be43",
      "metadata": {
        "execution": {
          "iopub.execute_input": "2022-10-22T08:28:30.211018Z",
          "iopub.status.busy": "2022-10-22T08:28:30.209823Z",
          "iopub.status.idle": "2022-10-22T08:28:30.261220Z",
          "shell.execute_reply": "2022-10-22T08:28:30.259491Z"
        },
        "papermill": {
          "duration": 0.073535,
          "end_time": "2022-10-22T08:28:30.264314",
          "exception": false,
          "start_time": "2022-10-22T08:28:30.190779",
          "status": "completed"
        },
        "tags": [],
        "colab": {
          "base_uri": "https://localhost:8080/"
        },
        "id": "b7a8be43",
        "outputId": "34bb9b71-9c4e-413c-cf4a-bebeceac8454"
      },
      "outputs": [
        {
          "output_type": "stream",
          "name": "stdout",
          "text": [
            "<class 'pandas.core.frame.DataFrame'>\n",
            "RangeIndex: 34660 entries, 0 to 34659\n",
            "Data columns (total 19 columns):\n",
            " #   Column                Non-Null Count  Dtype  \n",
            "---  ------                --------------  -----  \n",
            " 0   id                    34660 non-null  object \n",
            " 1   name                  27900 non-null  object \n",
            " 2   asins                 34658 non-null  object \n",
            " 3   brand                 34660 non-null  object \n",
            " 4   categories            34660 non-null  object \n",
            " 5   keys                  34660 non-null  object \n",
            " 6   manufacturer          34660 non-null  object \n",
            " 7   reviews.date          34621 non-null  object \n",
            " 8   reviews.dateAdded     24039 non-null  object \n",
            " 9   reviews.dateSeen      34660 non-null  object \n",
            " 10  reviews.doRecommend   34066 non-null  object \n",
            " 11  reviews.numHelpful    34131 non-null  float64\n",
            " 12  reviews.rating        34627 non-null  float64\n",
            " 13  reviews.sourceURLs    34660 non-null  object \n",
            " 14  reviews.text          34659 non-null  object \n",
            " 15  reviews.title         34654 non-null  object \n",
            " 16  reviews.userCity      0 non-null      float64\n",
            " 17  reviews.userProvince  0 non-null      float64\n",
            " 18  reviews.username      34653 non-null  object \n",
            "dtypes: float64(4), object(15)\n",
            "memory usage: 5.0+ MB\n"
          ]
        }
      ],
      "source": [
        "# making a copy for eda where we can drop strings and work on numerical values only\n",
        "data=df.copy()\n",
        "data.info()"
      ]
    },
    {
      "cell_type": "code",
      "execution_count": 10,
      "id": "428c09ea",
      "metadata": {
        "execution": {
          "iopub.execute_input": "2022-10-22T08:28:30.302374Z",
          "iopub.status.busy": "2022-10-22T08:28:30.301305Z",
          "iopub.status.idle": "2022-10-22T08:28:30.315083Z",
          "shell.execute_reply": "2022-10-22T08:28:30.313365Z"
        },
        "papermill": {
          "duration": 0.035771,
          "end_time": "2022-10-22T08:28:30.317964",
          "exception": false,
          "start_time": "2022-10-22T08:28:30.282193",
          "status": "completed"
        },
        "tags": [],
        "colab": {
          "base_uri": "https://localhost:8080/"
        },
        "id": "428c09ea",
        "outputId": "71404409-f4c6-40f5-8052-d85cdd264bf5"
      },
      "outputs": [
        {
          "output_type": "stream",
          "name": "stdout",
          "text": [
            "['B01AHB9CN2' 'B00VINDBJK' 'B005PB2T0S' 'B002Y27P3M' 'B01AHB9CYG'\n",
            " 'B01AHB9C1E' 'B01J2G4VBG' 'B00ZV9PXP2' 'B0083Q04TA' 'B018Y229OU'\n",
            " 'B00REQKWGA' 'B00IOYAM4I' 'B018T075DC' nan 'B00DU15MU4' 'B018Y225IA'\n",
            " 'B005PB2T2Q' 'B018Y23MNM' 'B00OQVZDJM' 'B00IOY8XWQ' 'B00LO29KXQ'\n",
            " 'B00QJDU3KY' 'B018Y22C2Y' 'B01BFIBRIE' 'B01J4ORNHU' 'B018SZT3BK'\n",
            " 'B00UH4D8G2' 'B018Y22BI4' 'B00TSUGXKE' 'B00L9EPT8O,B01E6AO69U'\n",
            " 'B018Y23P7K' 'B00X4WHP5E' 'B00QFQRELG' 'B00LW9XOJM' 'B00QL1ZN3G'\n",
            " 'B0189XYY0Q' 'B01BH83OOM' 'B00BFJAHF8' 'B00U3FPN4U' 'B002Y27P6Y'\n",
            " 'B006GWO5NE' 'B006GWO5WK']\n",
            "Number of Unique asins: 42\n"
          ]
        }
      ],
      "source": [
        "print(data['asins'].unique())\n",
        "asins_unique=len(data['asins'].unique())\n",
        "print(\"Number of Unique asins: \"+str(asins_unique))"
      ]
    },
    {
      "cell_type": "markdown",
      "id": "479f1565",
      "metadata": {
        "papermill": {
          "duration": 0.01681,
          "end_time": "2022-10-22T08:28:30.352669",
          "exception": false,
          "start_time": "2022-10-22T08:28:30.335859",
          "status": "completed"
        },
        "tags": [],
        "id": "479f1565"
      },
      "source": [
        "unique number of asins means number of different type of products. So we have 42 different kinds of products(products asins will be unique but there can be multiple products that fall under similar asins"
      ]
    },
    {
      "cell_type": "code",
      "execution_count": 11,
      "id": "17d6211f",
      "metadata": {
        "execution": {
          "iopub.execute_input": "2022-10-22T08:28:30.391560Z",
          "iopub.status.busy": "2022-10-22T08:28:30.390184Z",
          "iopub.status.idle": "2022-10-22T08:28:31.183013Z",
          "shell.execute_reply": "2022-10-22T08:28:31.181846Z"
        },
        "papermill": {
          "duration": 0.814943,
          "end_time": "2022-10-22T08:28:31.185847",
          "exception": false,
          "start_time": "2022-10-22T08:28:30.370904",
          "status": "completed"
        },
        "tags": [],
        "colab": {
          "base_uri": "https://localhost:8080/",
          "height": 1000
        },
        "id": "17d6211f",
        "outputId": "569dbad6-35fb-4a74-de05-249c4ec65dd0"
      },
      "outputs": [
        {
          "output_type": "display_data",
          "data": {
            "text/plain": [
              "<Figure size 1500x1500 with 4 Axes>"
            ],
            "image/png": "[encoded data removed]"
          },
          "metadata": {}
        }
      ],
      "source": [
        "data.hist(figsize=(15,15))\n",
        "plt.show()"
      ]
    },
    {
      "cell_type": "markdown",
      "id": "a9f80747",
      "metadata": {
        "papermill": {
          "duration": 0.016302,
          "end_time": "2022-10-22T08:28:31.219154",
          "exception": false,
          "start_time": "2022-10-22T08:28:31.202852",
          "status": "completed"
        },
        "tags": [],
        "id": "a9f80747"
      },
      "source": [
        "reviews.numHelpful: Outliers in this case are valuable, so we may want to weight reviews that had more than 50+ people who find them helpful. reviews.rating: Majority of examples were rated highly (looking at rating distribution). There is twice amount of 5 star ratings than the others ratings combined so problem arises when we train it with only high rating so it won't give proper result in negative rating. So we use stratified shuffle split"
      ]
    },
    {
      "cell_type": "markdown",
      "id": "a66a9b5c",
      "metadata": {
        "papermill": {
          "duration": 0.016553,
          "end_time": "2022-10-22T08:28:31.252447",
          "exception": false,
          "start_time": "2022-10-22T08:28:31.235894",
          "status": "completed"
        },
        "tags": [],
        "id": "a66a9b5c"
      },
      "source": [
        "# Train test split with stratified shuffle"
      ]
    },
    {
      "cell_type": "code",
      "execution_count": 12,
      "id": "358149cf",
      "metadata": {
        "execution": {
          "iopub.execute_input": "2022-10-22T08:28:31.287735Z",
          "iopub.status.busy": "2022-10-22T08:28:31.287297Z",
          "iopub.status.idle": "2022-10-22T08:28:31.500581Z",
          "shell.execute_reply": "2022-10-22T08:28:31.499138Z"
        },
        "papermill": {
          "duration": 0.234416,
          "end_time": "2022-10-22T08:28:31.503634",
          "exception": false,
          "start_time": "2022-10-22T08:28:31.269218",
          "status": "completed"
        },
        "tags": [],
        "colab": {
          "base_uri": "https://localhost:8080/"
        },
        "id": "358149cf",
        "outputId": "40970d58-cd4e-4d5b-c573-2123120e6ff3"
      },
      "outputs": [
        {
          "output_type": "stream",
          "name": "stdout",
          "text": [
            "Before 34660\n",
            "After 34627\n"
          ]
        }
      ],
      "source": [
        "from sklearn.model_selection import StratifiedShuffleSplit\n",
        "print(\"Before {}\".format(len(data)))\n",
        "# now removing all null values from review.rating\n",
        "data_after=data.dropna(subset=['reviews.rating'])\n",
        "print(\"After {}\".format(len(data_after)))\n",
        "data_after['reviews.rating']=data_after['reviews.rating'].astype(int)"
      ]
    },
    {
      "cell_type": "markdown",
      "id": "e9b6d9bc",
      "metadata": {
        "papermill": {
          "duration": 0.016613,
          "end_time": "2022-10-22T08:28:31.537487",
          "exception": false,
          "start_time": "2022-10-22T08:28:31.520874",
          "status": "completed"
        },
        "tags": [],
        "id": "e9b6d9bc"
      },
      "source": [
        "stratified shuffle split: the data is shuffled everytime after a split which gives us better reach to overall dataset. we use this split when our dataset is too biased to one section so to balance it we shuffle it after every insertion of datapoint. So now no one type of data will be there in training dataset which makes it well trained for differnet datasets"
      ]
    },
    {
      "cell_type": "markdown",
      "id": "777efe07",
      "metadata": {
        "papermill": {
          "duration": 0.016772,
          "end_time": "2022-10-22T08:28:31.570986",
          "exception": false,
          "start_time": "2022-10-22T08:28:31.554214",
          "status": "completed"
        },
        "tags": [],
        "id": "777efe07"
      },
      "source": [
        "[https://scikit-learn.org/stable/modules/generated/sklearn.model_selection.StratifiedShuffleSplit.html](http://) More info in this documentation"
      ]
    },
    {
      "cell_type": "code",
      "execution_count": 13,
      "id": "d7d57bb3",
      "metadata": {
        "execution": {
          "iopub.execute_input": "2022-10-22T08:28:31.606326Z",
          "iopub.status.busy": "2022-10-22T08:28:31.605931Z",
          "iopub.status.idle": "2022-10-22T08:28:31.805198Z",
          "shell.execute_reply": "2022-10-22T08:28:31.804085Z"
        },
        "papermill": {
          "duration": 0.219701,
          "end_time": "2022-10-22T08:28:31.807583",
          "exception": false,
          "start_time": "2022-10-22T08:28:31.587882",
          "status": "completed"
        },
        "tags": [],
        "colab": {
          "base_uri": "https://localhost:8080/",
          "height": 504
        },
        "id": "d7d57bb3",
        "outputId": "f4d1b54d-11f6-44ea-ef3e-8416590a3a52"
      },
      "outputs": [
        {
          "output_type": "execute_result",
          "data": {
            "text/plain": [
              "                         id  \\\n",
              "7014   AVphgVaX1cnluZ0-DR74   \n",
              "6      AVqkIhwDv8e3D1O-lebb   \n",
              "28344  AVpfl8cLLJeJML43AE3S   \n",
              "25469  AVpfl8cLLJeJML43AE3S   \n",
              "5438   AVphgVaX1cnluZ0-DR74   \n",
              "\n",
              "                                                    name  \\\n",
              "7014   Fire Tablet, 7 Display, Wi-Fi, 8 GB - Includes...   \n",
              "6      All-New Fire HD 8 Tablet, 8 HD Display, Wi-Fi,...   \n",
              "28344                                                NaN   \n",
              "25469             Amazon Fire Tv,,,\\r\\nAmazon Fire Tv,,,   \n",
              "5438   Fire Tablet, 7 Display, Wi-Fi, 8 GB - Includes...   \n",
              "\n",
              "                       asins   brand  \\\n",
              "7014              B018Y229OU  Amazon   \n",
              "6                 B01AHB9CN2  Amazon   \n",
              "28344  B00L9EPT8O,B01E6AO69U  Amazon   \n",
              "25469  B00L9EPT8O,B01E6AO69U  Amazon   \n",
              "5438              B018Y229OU  Amazon   \n",
              "\n",
              "                                              categories  \\\n",
              "7014   Fire Tablets,Tablets,Computers & Tablets,All T...   \n",
              "6      Electronics,iPad & Tablets,All Tablets,Fire Ta...   \n",
              "28344  Stereos,Remote Controls,Amazon Echo,Audio Dock...   \n",
              "25469  Stereos,Remote Controls,Amazon Echo,Audio Dock...   \n",
              "5438   Fire Tablets,Tablets,Computers & Tablets,All T...   \n",
              "\n",
              "                                                    keys manufacturer  \\\n",
              "7014   firetablet7displaywifi8gbincludesspecialoffers...       Amazon   \n",
              "6      841667104676,amazon/53004484,amazon/b01ahb9cn2...       Amazon   \n",
              "28344  echowhite/263039693056,echowhite/152558276095,...       Amazon   \n",
              "25469  echowhite/263039693056,echowhite/152558276095,...       Amazon   \n",
              "5438   firetablet7displaywifi8gbincludesspecialoffers...       Amazon   \n",
              "\n",
              "                   reviews.date     reviews.dateAdded  \\\n",
              "7014   2016-11-25T00:00:00.000Z  2017-05-21T01:20:28Z   \n",
              "6      2017-01-12T00:00:00.000Z  2017-07-03T23:33:15Z   \n",
              "28344  2016-05-06T00:00:00.000Z                   NaN   \n",
              "25469  2017-09-15T00:00:00.000Z                   NaN   \n",
              "5438   2015-12-12T00:00:00.000Z  2017-04-03T19:29:33Z   \n",
              "\n",
              "                                        reviews.dateSeen reviews.doRecommend  \\\n",
              "7014   2017-04-30T00:08:00.000Z,2017-06-07T08:15:00.000Z                True   \n",
              "6      2017-06-07T09:04:00.000Z,2017-04-30T00:45:00.000Z                True   \n",
              "28344  2017-09-28T00:00:00Z,2017-09-08T00:00:00Z,2017...                True   \n",
              "25469                               2017-09-28T00:00:00Z                True   \n",
              "5438   2017-04-03T02:46:00.000Z,2017-04-30T00:25:00.0...                True   \n",
              "\n",
              "       reviews.numHelpful  reviews.rating  \\\n",
              "7014                  0.0             5.0   \n",
              "6                     0.0             4.0   \n",
              "28344                 0.0             5.0   \n",
              "25469                 0.0             5.0   \n",
              "5438                  0.0             4.0   \n",
              "\n",
              "                                      reviews.sourceURLs  \\\n",
              "7014   http://reviews.bestbuy.com/3545/5025800/review...   \n",
              "6      http://reviews.bestbuy.com/3545/5620406/review...   \n",
              "28344  http://reviews.bestbuy.com/3545/5588528/review...   \n",
              "25469  http://reviews.bestbuy.com/3545/5588528/review...   \n",
              "5438   http://reviews.bestbuy.com/3545/5025800/review...   \n",
              "\n",
              "                                            reviews.text  \\\n",
              "7014   My son loves his tablet he received for his bi...   \n",
              "6      Great for e-reading on the go, nice and light ...   \n",
              "28344  This device does everything. I get news, jokes...   \n",
              "25469  Wife and son love the speaker vary user friend...   \n",
              "5438   For $50 the kindle fire 7 is a bargain. I had ...   \n",
              "\n",
              "                            reviews.title  reviews.userCity  \\\n",
              "7014                         Great tablet               NaN   \n",
              "6                   great e-reader tablet               NaN   \n",
              "28344               Much better than siri               NaN   \n",
              "25469  Awesome sound and vary easy to use               NaN   \n",
              "5438                          Great value               NaN   \n",
              "\n",
              "       reviews.userProvince reviews.username  \n",
              "7014                    NaN          Deborah  \n",
              "6                       NaN             Droi  \n",
              "28344                   NaN         thejuice  \n",
              "25469                   NaN         Langston  \n",
              "5438                    NaN             Mark  "
            ],
            "text/html": [
              "\n",
              "  <div id=\"df-8a02af2c-fff9-410c-9e29-654f09e8f744\" class=\"colab-df-container\">\n",
              "    <div>\n",
              "<style scoped>\n",
              "    .dataframe tbody tr th:only-of-type {\n",
              "        vertical-align: middle;\n",
              "    }\n",
              "\n",
              "    .dataframe tbody tr th {\n",
              "        vertical-align: top;\n",
              "    }\n",
              "\n",
              "    .dataframe thead th {\n",
              "        text-align: right;\n",
              "    }\n",
              "</style>\n",
              "<table border=\"1\" class=\"dataframe\">\n",
              "  <thead>\n",
              "    <tr style=\"text-align: right;\">\n",
              "      <th></th>\n",
              "      <th>id</th>\n",
              "      <th>name</th>\n",
              "      <th>asins</th>\n",
              "      <th>brand</th>\n",
              "      <th>categories</th>\n",
              "      <th>keys</th>\n",
              "      <th>manufacturer</th>\n",
              "      <th>reviews.date</th>\n",
              "      <th>reviews.dateAdded</th>\n",
              "      <th>reviews.dateSeen</th>\n",
              "      <th>reviews.doRecommend</th>\n",
              "      <th>reviews.numHelpful</th>\n",
              "      <th>reviews.rating</th>\n",
              "      <th>reviews.sourceURLs</th>\n",
              "      <th>reviews.text</th>\n",
              "      <th>reviews.title</th>\n",
              "      <th>reviews.userCity</th>\n",
              "      <th>reviews.userProvince</th>\n",
              "      <th>reviews.username</th>\n",
              "    </tr>\n",
              "  </thead>\n",
              "  <tbody>\n",
              "    <tr>\n",
              "      <th>7014</th>\n",
              "      <td>AVphgVaX1cnluZ0-DR74</td>\n",
              "      <td>Fire Tablet, 7 Display, Wi-Fi, 8 GB - Includes...</td>\n",
              "      <td>B018Y229OU</td>\n",
              "      <td>Amazon</td>\n",
              "      <td>Fire Tablets,Tablets,Computers &amp; Tablets,All T...</td>\n",
              "      <td>firetablet7displaywifi8gbincludesspecialoffers...</td>\n",
              "      <td>Amazon</td>\n",
              "      <td>2016-11-25T00:00:00.000Z</td>\n",
              "      <td>2017-05-21T01:20:28Z</td>\n",
              "      <td>2017-04-30T00:08:00.000Z,2017-06-07T08:15:00.000Z</td>\n",
              "      <td>True</td>\n",
              "      <td>0.0</td>\n",
              "      <td>5.0</td>\n",
              "      <td>http://reviews.bestbuy.com/3545/5025800/review...</td>\n",
              "      <td>My son loves his tablet he received for his bi...</td>\n",
              "      <td>Great tablet</td>\n",
              "      <td>NaN</td>\n",
              "      <td>NaN</td>\n",
              "      <td>Deborah</td>\n",
              "    </tr>\n",
              "    <tr>\n",
              "      <th>6</th>\n",
              "      <td>AVqkIhwDv8e3D1O-lebb</td>\n",
              "      <td>All-New Fire HD 8 Tablet, 8 HD Display, Wi-Fi,...</td>\n",
              "      <td>B01AHB9CN2</td>\n",
              "      <td>Amazon</td>\n",
              "      <td>Electronics,iPad &amp; Tablets,All Tablets,Fire Ta...</td>\n",
              "      <td>841667104676,amazon/53004484,amazon/b01ahb9cn2...</td>\n",
              "      <td>Amazon</td>\n",
              "      <td>2017-01-12T00:00:00.000Z</td>\n",
              "      <td>2017-07-03T23:33:15Z</td>\n",
              "      <td>2017-06-07T09:04:00.000Z,2017-04-30T00:45:00.000Z</td>\n",
              "      <td>True</td>\n",
              "      <td>0.0</td>\n",
              "      <td>4.0</td>\n",
              "      <td>http://reviews.bestbuy.com/3545/5620406/review...</td>\n",
              "      <td>Great for e-reading on the go, nice and light ...</td>\n",
              "      <td>great e-reader tablet</td>\n",
              "      <td>NaN</td>\n",
              "      <td>NaN</td>\n",
              "      <td>Droi</td>\n",
              "    </tr>\n",
              "    <tr>\n",
              "      <th>28344</th>\n",
              "      <td>AVpfl8cLLJeJML43AE3S</td>\n",
              "      <td>NaN</td>\n",
              "      <td>B00L9EPT8O,B01E6AO69U</td>\n",
              "      <td>Amazon</td>\n",
              "      <td>Stereos,Remote Controls,Amazon Echo,Audio Dock...</td>\n",
              "      <td>echowhite/263039693056,echowhite/152558276095,...</td>\n",
              "      <td>Amazon</td>\n",
              "      <td>2016-05-06T00:00:00.000Z</td>\n",
              "      <td>NaN</td>\n",
              "      <td>2017-09-28T00:00:00Z,2017-09-08T00:00:00Z,2017...</td>\n",
              "      <td>True</td>\n",
              "      <td>0.0</td>\n",
              "      <td>5.0</td>\n",
              "      <td>http://reviews.bestbuy.com/3545/5588528/review...</td>\n",
              "      <td>This device does everything. I get news, jokes...</td>\n",
              "      <td>Much better than siri</td>\n",
              "      <td>NaN</td>\n",
              "      <td>NaN</td>\n",
              "      <td>thejuice</td>\n",
              "    </tr>\n",
              "    <tr>\n",
              "      <th>25469</th>\n",
              "      <td>AVpfl8cLLJeJML43AE3S</td>\n",
              "      <td>Amazon Fire Tv,,,\\r\\nAmazon Fire Tv,,,</td>\n",
              "      <td>B00L9EPT8O,B01E6AO69U</td>\n",
              "      <td>Amazon</td>\n",
              "      <td>Stereos,Remote Controls,Amazon Echo,Audio Dock...</td>\n",
              "      <td>echowhite/263039693056,echowhite/152558276095,...</td>\n",
              "      <td>Amazon</td>\n",
              "      <td>2017-09-15T00:00:00.000Z</td>\n",
              "      <td>NaN</td>\n",
              "      <td>2017-09-28T00:00:00Z</td>\n",
              "      <td>True</td>\n",
              "      <td>0.0</td>\n",
              "      <td>5.0</td>\n",
              "      <td>http://reviews.bestbuy.com/3545/5588528/review...</td>\n",
              "      <td>Wife and son love the speaker vary user friend...</td>\n",
              "      <td>Awesome sound and vary easy to use</td>\n",
              "      <td>NaN</td>\n",
              "      <td>NaN</td>\n",
              "      <td>Langston</td>\n",
              "    </tr>\n",
              "    <tr>\n",
              "      <th>5438</th>\n",
              "      <td>AVphgVaX1cnluZ0-DR74</td>\n",
              "      <td>Fire Tablet, 7 Display, Wi-Fi, 8 GB - Includes...</td>\n",
              "      <td>B018Y229OU</td>\n",
              "      <td>Amazon</td>\n",
              "      <td>Fire Tablets,Tablets,Computers &amp; Tablets,All T...</td>\n",
              "      <td>firetablet7displaywifi8gbincludesspecialoffers...</td>\n",
              "      <td>Amazon</td>\n",
              "      <td>2015-12-12T00:00:00.000Z</td>\n",
              "      <td>2017-04-03T19:29:33Z</td>\n",
              "      <td>2017-04-03T02:46:00.000Z,2017-04-30T00:25:00.0...</td>\n",
              "      <td>True</td>\n",
              "      <td>0.0</td>\n",
              "      <td>4.0</td>\n",
              "      <td>http://reviews.bestbuy.com/3545/5025800/review...</td>\n",
              "      <td>For $50 the kindle fire 7 is a bargain. I had ...</td>\n",
              "      <td>Great value</td>\n",
              "      <td>NaN</td>\n",
              "      <td>NaN</td>\n",
              "      <td>Mark</td>\n",
              "    </tr>\n",
              "  </tbody>\n",
              "</table>\n",
              "</div>\n",
              "    <div class=\"colab-df-buttons\">\n",
              "\n",
              "  <div class=\"colab-df-container\">\n",
              "    <button class=\"colab-df-convert\" onclick=\"convertToInteractive('df-8a02af2c-fff9-410c-9e29-654f09e8f744')\"\n",
              "            title=\"Convert this dataframe to an interactive table.\"\n",
              "            style=\"display:none;\">\n",
              "\n",
              "  <svg xmlns=\"http://www.w3.org/2000/svg\" height=\"24px\" viewBox=\"0 -960 960 960\">\n",
              "    <path d=\"M120-120v-720h720v720H120Zm60-500h600v-160H180v160Zm220 220h160v-160H400v160Zm0 220h160v-160H400v160ZM180-400h160v-160H180v160Zm440 0h160v-160H620v160ZM180-180h160v-160H180v160Zm440 0h160v-160H620v160Z\"/>\n",
              "  </svg>\n",
              "    </button>\n",
              "\n",
              "  <style>\n",
              "    .colab-df-container {\n",
              "      display:flex;\n",
              "      gap: 12px;\n",
              "    }\n",
              "\n",
              "    .colab-df-convert {\n",
              "      background-color: #E8F0FE;\n",
              "      border: none;\n",
              "      border-radius: 50%;\n",
              "      cursor: pointer;\n",
              "      display: none;\n",
              "      fill: #1967D2;\n",
              "      height: 32px;\n",
              "      padding: 0 0 0 0;\n",
              "      width: 32px;\n",
              "    }\n",
              "\n",
              "    .colab-df-convert:hover {\n",
              "      background-color: #E2EBFA;\n",
              "      box-shadow: 0px 1px 2px rgba(60, 64, 67, 0.3), 0px 1px 3px 1px rgba(60, 64, 67, 0.15);\n",
              "      fill: #174EA6;\n",
              "    }\n",
              "\n",
              "    .colab-df-buttons div {\n",
              "      margin-bottom: 4px;\n",
              "    }\n",
              "\n",
              "    [theme=dark] .colab-df-convert {\n",
              "      background-color: #3B4455;\n",
              "      fill: #D2E3FC;\n",
              "    }\n",
              "\n",
              "    [theme=dark] .colab-df-convert:hover {\n",
              "      background-color: #434B5C;\n",
              "      box-shadow: 0px 1px 3px 1px rgba(0, 0, 0, 0.15);\n",
              "      filter: drop-shadow(0px 1px 2px rgba(0, 0, 0, 0.3));\n",
              "      fill: #FFFFFF;\n",
              "    }\n",
              "  </style>\n",
              "\n",
              "    <script>\n",
              "      const buttonEl =\n",
              "        document.querySelector('#df-8a02af2c-fff9-410c-9e29-654f09e8f744 button.colab-df-convert');\n",
              "      buttonEl.style.display =\n",
              "        google.colab.kernel.accessAllowed ? 'block' : 'none';\n",
              "\n",
              "      async function convertToInteractive(key) {\n",
              "        const element = document.querySelector('#df-8a02af2c-fff9-410c-9e29-654f09e8f744');\n",
              "        const dataTable =\n",
              "          await google.colab.kernel.invokeFunction('convertToInteractive',\n",
              "                                                    [key], {});\n",
              "        if (!dataTable) return;\n",
              "\n",
              "        const docLinkHtml = 'Like what you see? Visit the ' +\n",
              "          '<a target=\"_blank\" href=https://colab.research.google.com/notebooks/data_table.ipynb>data table notebook</a>'\n",
              "          + ' to learn more about interactive tables.';\n",
              "        element.innerHTML = '';\n",
              "        dataTable['output_type'] = 'display_data';\n",
              "        await google.colab.output.renderOutput(dataTable, element);\n",
              "        const docLink = document.createElement('div');\n",
              "        docLink.innerHTML = docLinkHtml;\n",
              "        element.appendChild(docLink);\n",
              "      }\n",
              "    </script>\n",
              "  </div>\n",
              "\n",
              "\n",
              "<div id=\"df-9c084c2e-eceb-4e39-a43b-481de37ffa20\">\n",
              "  <button class=\"colab-df-quickchart\" onclick=\"quickchart('df-9c084c2e-eceb-4e39-a43b-481de37ffa20')\"\n",
              "            title=\"Suggest charts\"\n",
              "            style=\"display:none;\">\n",
              "\n",
              "<svg xmlns=\"http://www.w3.org/2000/svg\" height=\"24px\"viewBox=\"0 0 24 24\"\n",
              "     width=\"24px\">\n",
              "    <g>\n",
              "        <path d=\"M19 3H5c-1.1 0-2 .9-2 2v14c0 1.1.9 2 2 2h14c1.1 0 2-.9 2-2V5c0-1.1-.9-2-2-2zM9 17H7v-7h2v7zm4 0h-2V7h2v10zm4 0h-2v-4h2v4z\"/>\n",
              "    </g>\n",
              "</svg>\n",
              "  </button>\n",
              "\n",
              "<style>\n",
              "  .colab-df-quickchart {\n",
              "      --bg-color: #E8F0FE;\n",
              "      --fill-color: #1967D2;\n",
              "      --hover-bg-color: #E2EBFA;\n",
              "      --hover-fill-color: #174EA6;\n",
              "      --disabled-fill-color: #AAA;\n",
              "      --disabled-bg-color: #DDD;\n",
              "  }\n",
              "\n",
              "  [theme=dark] .colab-df-quickchart {\n",
              "      --bg-color: #3B4455;\n",
              "      --fill-color: #D2E3FC;\n",
              "      --hover-bg-color: #434B5C;\n",
              "      --hover-fill-color: #FFFFFF;\n",
              "      --disabled-bg-color: #3B4455;\n",
              "      --disabled-fill-color: #666;\n",
              "  }\n",
              "\n",
              "  .colab-df-quickchart {\n",
              "    background-color: var(--bg-color);\n",
              "    border: none;\n",
              "    border-radius: 50%;\n",
              "    cursor: pointer;\n",
              "    display: none;\n",
              "    fill: var(--fill-color);\n",
              "    height: 32px;\n",
              "    padding: 0;\n",
              "    width: 32px;\n",
              "  }\n",
              "\n",
              "  .colab-df-quickchart:hover {\n",
              "    background-color: var(--hover-bg-color);\n",
              "    box-shadow: 0 1px 2px rgba(60, 64, 67, 0.3), 0 1px 3px 1px rgba(60, 64, 67, 0.15);\n",
              "    fill: var(--button-hover-fill-color);\n",
              "  }\n",
              "\n",
              "  .colab-df-quickchart-complete:disabled,\n",
              "  .colab-df-quickchart-complete:disabled:hover {\n",
              "    background-color: var(--disabled-bg-color);\n",
              "    fill: var(--disabled-fill-color);\n",
              "    box-shadow: none;\n",
              "  }\n",
              "\n",
              "  .colab-df-spinner {\n",
              "    border: 2px solid var(--fill-color);\n",
              "    border-color: transparent;\n",
              "    border-bottom-color: var(--fill-color);\n",
              "    animation:\n",
              "      spin 1s steps(1) infinite;\n",
              "  }\n",
              "\n",
              "  @keyframes spin {\n",
              "    0% {\n",
              "      border-color: transparent;\n",
              "      border-bottom-color: var(--fill-color);\n",
              "      border-left-color: var(--fill-color);\n",
              "    }\n",
              "    20% {\n",
              "      border-color: transparent;\n",
              "      border-left-color: var(--fill-color);\n",
              "      border-top-color: var(--fill-color);\n",
              "    }\n",
              "    30% {\n",
              "      border-color: transparent;\n",
              "      border-left-color: var(--fill-color);\n",
              "      border-top-color: var(--fill-color);\n",
              "      border-right-color: var(--fill-color);\n",
              "    }\n",
              "    40% {\n",
              "      border-color: transparent;\n",
              "      border-right-color: var(--fill-color);\n",
              "      border-top-color: var(--fill-color);\n",
              "    }\n",
              "    60% {\n",
              "      border-color: transparent;\n",
              "      border-right-color: var(--fill-color);\n",
              "    }\n",
              "    80% {\n",
              "      border-color: transparent;\n",
              "      border-right-color: var(--fill-color);\n",
              "      border-bottom-color: var(--fill-color);\n",
              "    }\n",
              "    90% {\n",
              "      border-color: transparent;\n",
              "      border-bottom-color: var(--fill-color);\n",
              "    }\n",
              "  }\n",
              "</style>\n",
              "\n",
              "  <script>\n",
              "    async function quickchart(key) {\n",
              "      const quickchartButtonEl =\n",
              "        document.querySelector('#' + key + ' button');\n",
              "      quickchartButtonEl.disabled = true;  // To prevent multiple clicks.\n",
              "      quickchartButtonEl.classList.add('colab-df-spinner');\n",
              "      try {\n",
              "        const charts = await google.colab.kernel.invokeFunction(\n",
              "            'suggestCharts', [key], {});\n",
              "      } catch (error) {\n",
              "        console.error('Error during call to suggestCharts:', error);\n",
              "      }\n",
              "      quickchartButtonEl.classList.remove('colab-df-spinner');\n",
              "      quickchartButtonEl.classList.add('colab-df-quickchart-complete');\n",
              "    }\n",
              "    (() => {\n",
              "      let quickchartButtonEl =\n",
              "        document.querySelector('#df-9c084c2e-eceb-4e39-a43b-481de37ffa20 button');\n",
              "      quickchartButtonEl.style.display =\n",
              "        google.colab.kernel.accessAllowed ? 'block' : 'none';\n",
              "    })();\n",
              "  </script>\n",
              "</div>\n",
              "    </div>\n",
              "  </div>\n"
            ],
            "application/vnd.google.colaboratory.intrinsic+json": {
              "type": "dataframe",
              "variable_name": "strat_train",
              "summary": "{\n  \"name\": \"strat_train\",\n  \"rows\": 27701,\n  \"fields\": [\n    {\n      \"column\": \"id\",\n      \"properties\": {\n        \"dtype\": \"category\",\n        \"num_unique_values\": 35,\n        \"samples\": [\n          \"AVqVGZN9QMlgsOJE6eUZ\",\n          \"AVqVGZO3nnc1JgDc3jGK\",\n          \"AVzvXXwEvKc47QAVfRhx\"\n        ],\n        \"semantic_type\": \"\",\n        \"description\": \"\"\n      }\n    },\n    {\n      \"column\": \"name\",\n      \"properties\": {\n        \"dtype\": \"category\",\n        \"num_unique_values\": 46,\n        \"samples\": [\n          \"Kindle Keyboard,,,\\r\\nKindle Keyboard,,,\",\n          \"Amazon Kindle Touch Leather Case (4th Generation - 2011 Release), Olive Green,,,\\r\\nAmazon Kindle Touch Leather Case (4th Generation - 2011 Release), Olive Green,,,\",\n          \"Amazon Fire Hd 6 Standing Protective Case(4th Generation - 2014 Release), Cayenne Red,,,\\r\\nAmazon Fire Hd 6 Standing Protective Case(4th Generation - 2014 Release), Cayenne Red,,,\"\n        ],\n        \"semantic_type\": \"\",\n        \"description\": \"\"\n      }\n    },\n    {\n      \"column\": \"asins\",\n      \"properties\": {\n        \"dtype\": \"category\",\n        \"num_unique_values\": 34,\n        \"samples\": [\n          \"B005PB2T0S\",\n          \"B00QFQRELG\",\n          \"B00QJDU3KY\"\n        ],\n        \"semantic_type\": \"\",\n        \"description\": \"\"\n      }\n    },\n    {\n      \"column\": \"brand\",\n      \"properties\": {\n        \"dtype\": \"category\",\n        \"num_unique_values\": 4,\n        \"samples\": [\n          \"Amazon Echo\",\n          \"Amazon Fire\",\n          \"Amazon\"\n        ],\n        \"semantic_type\": \"\",\n        \"description\": \"\"\n      }\n    },\n    {\n      \"column\": \"categories\",\n      \"properties\": {\n        \"dtype\": \"category\",\n        \"num_unique_values\": 34,\n        \"samples\": [\n          \"Electronics,eBook Readers & Accessories,Covers,Kindle Store,Amazon Device Accessories,Kindle E-Reader Accessories,Kindle (5th Generation) Accessories,Kindle (5th Generation) Covers\",\n          \"Fire Tablets,Tablets,Computers & Tablets,All Tablets\",\n          \"Electronics,iPad & Tablets,All Tablets,Computers & Tablets,Tablets,eBook Readers\"\n        ],\n        \"semantic_type\": \"\",\n        \"description\": \"\"\n      }\n    },\n    {\n      \"column\": \"keys\",\n      \"properties\": {\n        \"dtype\": \"category\",\n        \"num_unique_values\": 35,\n        \"samples\": [\n          \"0848719057331,kindleoasisereaderwithleatherchargingcoverblack6highresolutiondisplay300ppiwifiincludesspecialoffers/b00reqkwga,amazon/b00reqkwga,kindleoasisereaderwithleatherchargingcoverblack6highresolutiondisplay300ppiwifiincludesspecialoffers/5195001,848719057331\",\n          \"kindleoasisereaderwithleatherchargingcovermerlot6highresolutiondisplay300ppiwifiincludesspecialoffers/5234468,amazon/b00vindbjk,kindleoasisereaderwithleatherchargingcovermerlot6highresolutiondisplay300ppiwifiincludesspecialoffers/b00vindbjk,848719069587,0848719069587\",\n          \"certifiedrefurbishedamazonfiretvwithalexavoiceremote/b00uh4d8g2,0848719063264,848719063264\"\n        ],\n        \"semantic_type\": \"\",\n        \"description\": \"\"\n      }\n    },\n    {\n      \"column\": \"manufacturer\",\n      \"properties\": {\n        \"dtype\": \"category\",\n        \"num_unique_values\": 1,\n        \"samples\": [\n          \"Amazon\"\n        ],\n        \"semantic_type\": \"\",\n        \"description\": \"\"\n      }\n    },\n    {\n      \"column\": \"reviews.date\",\n      \"properties\": {\n        \"dtype\": \"category\",\n        \"num_unique_values\": 1003,\n        \"samples\": [\n          \"2017-07-16T00:00:00.000Z\"\n        ],\n        \"semantic_type\": \"\",\n        \"description\": \"\"\n      }\n    },\n    {\n      \"column\": \"reviews.dateAdded\",\n      \"properties\": {\n        \"dtype\": \"object\",\n        \"num_unique_values\": 1927,\n        \"samples\": [\n          \"2017-05-21T01:21:21Z\"\n        ],\n        \"semantic_type\": \"\",\n        \"description\": \"\"\n      }\n    },\n    {\n      \"column\": \"reviews.dateSeen\",\n      \"properties\": {\n        \"dtype\": \"category\",\n        \"num_unique_values\": 3660,\n        \"samples\": [\n          \"2017-08-31T22:33:21.207Z,2017-08-02T19:54:36.922Z,2017-08-02T22:18:20.611Z\"\n        ],\n        \"semantic_type\": \"\",\n        \"description\": \"\"\n      }\n    },\n    {\n      \"column\": \"reviews.doRecommend\",\n      \"properties\": {\n        \"dtype\": \"category\",\n        \"num_unique_values\": 2,\n        \"samples\": [\n          false\n        ],\n        \"semantic_type\": \"\",\n        \"description\": \"\"\n      }\n    },\n    {\n      \"column\": \"reviews.numHelpful\",\n      \"properties\": {\n        \"dtype\": \"number\",\n        \"std\": 12.70297777398758,\n        \"min\": 0.0,\n        \"max\": 814.0,\n        \"num_unique_values\": 81,\n        \"samples\": [\n          42.0\n        ],\n        \"semantic_type\": \"\",\n        \"description\": \"\"\n      }\n    },\n    {\n      \"column\": \"reviews.rating\",\n      \"properties\": {\n        \"dtype\": \"number\",\n        \"std\": 0.7320246021248407,\n        \"min\": 1.0,\n        \"max\": 5.0,\n        \"num_unique_values\": 5,\n        \"samples\": [\n          4.0\n        ],\n        \"semantic_type\": \"\",\n        \"description\": \"\"\n      }\n    },\n    {\n      \"column\": \"reviews.sourceURLs\",\n      \"properties\": {\n        \"dtype\": \"category\",\n        \"num_unique_values\": 11108,\n        \"samples\": [\n          \"http://reviews.bestbuy.com/3545/4370400/reviews.htm?format=embedded&page=445,http://reviews.bestbuy.com/3545/4370400/reviews.htm?format=embedded&page=440,http://reviews.bestbuy.com/3545/4370400/reviews.htm?format=embedded&page=423,http://reviews.bestbuy.com/3545/4370400/reviews.htm?format=embedded&page=421\"\n        ],\n        \"semantic_type\": \"\",\n        \"description\": \"\"\n      }\n    },\n    {\n      \"column\": \"reviews.text\",\n      \"properties\": {\n        \"dtype\": \"string\",\n        \"num_unique_values\": 27678,\n        \"samples\": [\n          \"Its pretty cool. A lot of teaching it things, but once you get it down easy from there. I am able to control the TV, hue lights and listen to music from any Bluetooth device connected.\"\n        ],\n        \"semantic_type\": \"\",\n        \"description\": \"\"\n      }\n    },\n    {\n      \"column\": \"reviews.title\",\n      \"properties\": {\n        \"dtype\": \"string\",\n        \"num_unique_values\": 16247,\n        \"samples\": [\n          \"I'm fond of it\"\n        ],\n        \"semantic_type\": \"\",\n        \"description\": \"\"\n      }\n    },\n    {\n      \"column\": \"reviews.userCity\",\n      \"properties\": {\n        \"dtype\": \"number\",\n        \"std\": null,\n        \"min\": null,\n        \"max\": null,\n        \"num_unique_values\": 0,\n        \"samples\": [],\n        \"semantic_type\": \"\",\n        \"description\": \"\"\n      }\n    },\n    {\n      \"column\": \"reviews.userProvince\",\n      \"properties\": {\n        \"dtype\": \"number\",\n        \"std\": null,\n        \"min\": null,\n        \"max\": null,\n        \"num_unique_values\": 0,\n        \"samples\": [],\n        \"semantic_type\": \"\",\n        \"description\": \"\"\n      }\n    },\n    {\n      \"column\": \"reviews.username\",\n      \"properties\": {\n        \"dtype\": \"string\",\n        \"num_unique_values\": 21920,\n        \"samples\": [],\n        \"semantic_type\": \"\",\n        \"description\": \"\"\n      }\n    }\n  ]\n}"
            }
          },
          "metadata": {},
          "execution_count": 13
        }
      ],
      "source": [
        "split=StratifiedShuffleSplit(n_splits=5,test_size=0.2)\n",
        "for train_index,test_index in split.split(data_after,data_after[\"reviews.rating\"]):\n",
        "    strat_train=data_after.reindex(train_index)\n",
        "    strat_test=data_after.reindex(test_index)\n",
        "strat_train.head()"
      ]
    },
    {
      "cell_type": "markdown",
      "id": "4cb8ae3b",
      "metadata": {
        "papermill": {
          "duration": 0.017334,
          "end_time": "2022-10-22T08:28:31.842469",
          "exception": false,
          "start_time": "2022-10-22T08:28:31.825135",
          "status": "completed"
        },
        "tags": [],
        "id": "4cb8ae3b"
      },
      "source": [
        "So here we can see that we get randomised row in our training dataset by using stratified shuffle split"
      ]
    },
    {
      "cell_type": "code",
      "execution_count": 14,
      "id": "21dd95d2",
      "metadata": {
        "execution": {
          "iopub.execute_input": "2022-10-22T08:28:31.879155Z",
          "iopub.status.busy": "2022-10-22T08:28:31.878520Z",
          "iopub.status.idle": "2022-10-22T08:28:31.885076Z",
          "shell.execute_reply": "2022-10-22T08:28:31.884202Z"
        },
        "papermill": {
          "duration": 0.027433,
          "end_time": "2022-10-22T08:28:31.887135",
          "exception": false,
          "start_time": "2022-10-22T08:28:31.859702",
          "status": "completed"
        },
        "tags": [],
        "colab": {
          "base_uri": "https://localhost:8080/"
        },
        "id": "21dd95d2",
        "outputId": "4b2daefc-0c53-49db-8546-18717feda2a6"
      },
      "outputs": [
        {
          "output_type": "execute_result",
          "data": {
            "text/plain": [
              "27701"
            ]
          },
          "metadata": {},
          "execution_count": 14
        }
      ],
      "source": [
        "len(strat_train)"
      ]
    },
    {
      "cell_type": "code",
      "execution_count": 15,
      "id": "cb366b24",
      "metadata": {
        "execution": {
          "iopub.execute_input": "2022-10-22T08:28:31.923433Z",
          "iopub.status.busy": "2022-10-22T08:28:31.923005Z",
          "iopub.status.idle": "2022-10-22T08:28:31.929881Z",
          "shell.execute_reply": "2022-10-22T08:28:31.928806Z"
        },
        "papermill": {
          "duration": 0.027679,
          "end_time": "2022-10-22T08:28:31.932115",
          "exception": false,
          "start_time": "2022-10-22T08:28:31.904436",
          "status": "completed"
        },
        "tags": [],
        "colab": {
          "base_uri": "https://localhost:8080/"
        },
        "id": "cb366b24",
        "outputId": "bf34b072-7037-4d9e-f641-c11c5e68880d"
      },
      "outputs": [
        {
          "output_type": "execute_result",
          "data": {
            "text/plain": [
              "6926"
            ]
          },
          "metadata": {},
          "execution_count": 15
        }
      ],
      "source": [
        "len(strat_test)"
      ]
    },
    {
      "cell_type": "code",
      "execution_count": 16,
      "id": "c17d9149",
      "metadata": {
        "execution": {
          "iopub.execute_input": "2022-10-22T08:28:31.969322Z",
          "iopub.status.busy": "2022-10-22T08:28:31.968886Z",
          "iopub.status.idle": "2022-10-22T08:28:31.980737Z",
          "shell.execute_reply": "2022-10-22T08:28:31.979928Z"
        },
        "papermill": {
          "duration": 0.032746,
          "end_time": "2022-10-22T08:28:31.982728",
          "exception": false,
          "start_time": "2022-10-22T08:28:31.949982",
          "status": "completed"
        },
        "tags": [],
        "colab": {
          "base_uri": "https://localhost:8080/"
        },
        "id": "c17d9149",
        "outputId": "0ddf59fd-c1e7-430f-8e8b-e4fb46e48a4a"
      },
      "outputs": [
        {
          "output_type": "execute_result",
          "data": {
            "text/plain": [
              "reviews.rating\n",
              "5.0    0.686076\n",
              "4.0    0.246886\n",
              "3.0    0.043284\n",
              "2.0    0.011516\n",
              "1.0    0.011444\n",
              "Name: count, dtype: float64"
            ]
          },
          "metadata": {},
          "execution_count": 16
        }
      ],
      "source": [
        "strat_train[\"reviews.rating\"].value_counts()/len(strat_train)\n",
        "# this is to get percentage of each of the ratings"
      ]
    },
    {
      "cell_type": "code",
      "execution_count": 17,
      "id": "209ee7ae",
      "metadata": {
        "execution": {
          "iopub.execute_input": "2022-10-22T08:28:32.020767Z",
          "iopub.status.busy": "2022-10-22T08:28:32.019799Z",
          "iopub.status.idle": "2022-10-22T08:28:32.030085Z",
          "shell.execute_reply": "2022-10-22T08:28:32.028897Z"
        },
        "papermill": {
          "duration": 0.031929,
          "end_time": "2022-10-22T08:28:32.032510",
          "exception": false,
          "start_time": "2022-10-22T08:28:32.000581",
          "status": "completed"
        },
        "tags": [],
        "colab": {
          "base_uri": "https://localhost:8080/"
        },
        "id": "209ee7ae",
        "outputId": "72a3fe92-11d4-4eb0-8dfc-5c0a19ce2f47"
      },
      "outputs": [
        {
          "output_type": "execute_result",
          "data": {
            "text/plain": [
              "reviews.rating\n",
              "5.0    0.686255\n",
              "4.0    0.245308\n",
              "3.0    0.043026\n",
              "1.0    0.011984\n",
              "2.0    0.011839\n",
              "Name: count, dtype: float64"
            ]
          },
          "metadata": {},
          "execution_count": 17
        }
      ],
      "source": [
        "strat_test[\"reviews.rating\"].value_counts()/len(strat_test)\n",
        "# this is to get percentage of each of the ratings in testing data"
      ]
    },
    {
      "cell_type": "markdown",
      "id": "dac6d766",
      "metadata": {
        "papermill": {
          "duration": 0.01762,
          "end_time": "2022-10-22T08:28:32.068363",
          "exception": false,
          "start_time": "2022-10-22T08:28:32.050743",
          "status": "completed"
        },
        "tags": [],
        "id": "dac6d766"
      },
      "source": [
        "so stratified shuffle split helps in giving more appropriate answers as what if it is arranged in some way that 1* max rating comes in strat_train . so it helps in avg in out"
      ]
    },
    {
      "cell_type": "markdown",
      "id": "35766e6f",
      "metadata": {
        "papermill": {
          "duration": 0.017396,
          "end_time": "2022-10-22T08:28:32.103649",
          "exception": false,
          "start_time": "2022-10-22T08:28:32.086253",
          "status": "completed"
        },
        "tags": [],
        "id": "35766e6f"
      },
      "source": [
        "# Exploratory Data Exploration(training set)"
      ]
    },
    {
      "cell_type": "code",
      "execution_count": 18,
      "id": "84fa6f94",
      "metadata": {
        "execution": {
          "iopub.execute_input": "2022-10-22T08:28:32.141559Z",
          "iopub.status.busy": "2022-10-22T08:28:32.141150Z",
          "iopub.status.idle": "2022-10-22T08:28:32.166096Z",
          "shell.execute_reply": "2022-10-22T08:28:32.164880Z"
        },
        "papermill": {
          "duration": 0.046337,
          "end_time": "2022-10-22T08:28:32.168537",
          "exception": false,
          "start_time": "2022-10-22T08:28:32.122200",
          "status": "completed"
        },
        "tags": [],
        "colab": {
          "base_uri": "https://localhost:8080/",
          "height": 306
        },
        "id": "84fa6f94",
        "outputId": "0d6e7904-05db-4066-8507-7980785a79ee"
      },
      "outputs": [
        {
          "output_type": "execute_result",
          "data": {
            "text/plain": [
              "                        id                                               name  \\\n",
              "7014  AVphgVaX1cnluZ0-DR74  Fire Tablet, 7 Display, Wi-Fi, 8 GB - Includes...   \n",
              "6     AVqkIhwDv8e3D1O-lebb  All-New Fire HD 8 Tablet, 8 HD Display, Wi-Fi,...   \n",
              "\n",
              "           asins   brand                                         categories  \\\n",
              "7014  B018Y229OU  Amazon  Fire Tablets,Tablets,Computers & Tablets,All T...   \n",
              "6     B01AHB9CN2  Amazon  Electronics,iPad & Tablets,All Tablets,Fire Ta...   \n",
              "\n",
              "                                                   keys manufacturer  \\\n",
              "7014  firetablet7displaywifi8gbincludesspecialoffers...       Amazon   \n",
              "6     841667104676,amazon/53004484,amazon/b01ahb9cn2...       Amazon   \n",
              "\n",
              "                  reviews.date     reviews.dateAdded  \\\n",
              "7014  2016-11-25T00:00:00.000Z  2017-05-21T01:20:28Z   \n",
              "6     2017-01-12T00:00:00.000Z  2017-07-03T23:33:15Z   \n",
              "\n",
              "                                       reviews.dateSeen reviews.doRecommend  \\\n",
              "7014  2017-04-30T00:08:00.000Z,2017-06-07T08:15:00.000Z                True   \n",
              "6     2017-06-07T09:04:00.000Z,2017-04-30T00:45:00.000Z                True   \n",
              "\n",
              "      reviews.numHelpful  reviews.rating  \\\n",
              "7014                 0.0             5.0   \n",
              "6                    0.0             4.0   \n",
              "\n",
              "                                     reviews.sourceURLs  \\\n",
              "7014  http://reviews.bestbuy.com/3545/5025800/review...   \n",
              "6     http://reviews.bestbuy.com/3545/5620406/review...   \n",
              "\n",
              "                                           reviews.text  \\\n",
              "7014  My son loves his tablet he received for his bi...   \n",
              "6     Great for e-reading on the go, nice and light ...   \n",
              "\n",
              "              reviews.title  reviews.userCity  reviews.userProvince  \\\n",
              "7014           Great tablet               NaN                   NaN   \n",
              "6     great e-reader tablet               NaN                   NaN   \n",
              "\n",
              "     reviews.username  \n",
              "7014          Deborah  \n",
              "6                Droi  "
            ],
            "text/html": [
              "\n",
              "  <div id=\"df-2fd837b3-0d7d-4002-9e75-9b53e956cd5a\" class=\"colab-df-container\">\n",
              "    <div>\n",
              "<style scoped>\n",
              "    .dataframe tbody tr th:only-of-type {\n",
              "        vertical-align: middle;\n",
              "    }\n",
              "\n",
              "    .dataframe tbody tr th {\n",
              "        vertical-align: top;\n",
              "    }\n",
              "\n",
              "    .dataframe thead th {\n",
              "        text-align: right;\n",
              "    }\n",
              "</style>\n",
              "<table border=\"1\" class=\"dataframe\">\n",
              "  <thead>\n",
              "    <tr style=\"text-align: right;\">\n",
              "      <th></th>\n",
              "      <th>id</th>\n",
              "      <th>name</th>\n",
              "      <th>asins</th>\n",
              "      <th>brand</th>\n",
              "      <th>categories</th>\n",
              "      <th>keys</th>\n",
              "      <th>manufacturer</th>\n",
              "      <th>reviews.date</th>\n",
              "      <th>reviews.dateAdded</th>\n",
              "      <th>reviews.dateSeen</th>\n",
              "      <th>reviews.doRecommend</th>\n",
              "      <th>reviews.numHelpful</th>\n",
              "      <th>reviews.rating</th>\n",
              "      <th>reviews.sourceURLs</th>\n",
              "      <th>reviews.text</th>\n",
              "      <th>reviews.title</th>\n",
              "      <th>reviews.userCity</th>\n",
              "      <th>reviews.userProvince</th>\n",
              "      <th>reviews.username</th>\n",
              "    </tr>\n",
              "  </thead>\n",
              "  <tbody>\n",
              "    <tr>\n",
              "      <th>7014</th>\n",
              "      <td>AVphgVaX1cnluZ0-DR74</td>\n",
              "      <td>Fire Tablet, 7 Display, Wi-Fi, 8 GB - Includes...</td>\n",
              "      <td>B018Y229OU</td>\n",
              "      <td>Amazon</td>\n",
              "      <td>Fire Tablets,Tablets,Computers &amp; Tablets,All T...</td>\n",
              "      <td>firetablet7displaywifi8gbincludesspecialoffers...</td>\n",
              "      <td>Amazon</td>\n",
              "      <td>2016-11-25T00:00:00.000Z</td>\n",
              "      <td>2017-05-21T01:20:28Z</td>\n",
              "      <td>2017-04-30T00:08:00.000Z,2017-06-07T08:15:00.000Z</td>\n",
              "      <td>True</td>\n",
              "      <td>0.0</td>\n",
              "      <td>5.0</td>\n",
              "      <td>http://reviews.bestbuy.com/3545/5025800/review...</td>\n",
              "      <td>My son loves his tablet he received for his bi...</td>\n",
              "      <td>Great tablet</td>\n",
              "      <td>NaN</td>\n",
              "      <td>NaN</td>\n",
              "      <td>Deborah</td>\n",
              "    </tr>\n",
              "    <tr>\n",
              "      <th>6</th>\n",
              "      <td>AVqkIhwDv8e3D1O-lebb</td>\n",
              "      <td>All-New Fire HD 8 Tablet, 8 HD Display, Wi-Fi,...</td>\n",
              "      <td>B01AHB9CN2</td>\n",
              "      <td>Amazon</td>\n",
              "      <td>Electronics,iPad &amp; Tablets,All Tablets,Fire Ta...</td>\n",
              "      <td>841667104676,amazon/53004484,amazon/b01ahb9cn2...</td>\n",
              "      <td>Amazon</td>\n",
              "      <td>2017-01-12T00:00:00.000Z</td>\n",
              "      <td>2017-07-03T23:33:15Z</td>\n",
              "      <td>2017-06-07T09:04:00.000Z,2017-04-30T00:45:00.000Z</td>\n",
              "      <td>True</td>\n",
              "      <td>0.0</td>\n",
              "      <td>4.0</td>\n",
              "      <td>http://reviews.bestbuy.com/3545/5620406/review...</td>\n",
              "      <td>Great for e-reading on the go, nice and light ...</td>\n",
              "      <td>great e-reader tablet</td>\n",
              "      <td>NaN</td>\n",
              "      <td>NaN</td>\n",
              "      <td>Droi</td>\n",
              "    </tr>\n",
              "  </tbody>\n",
              "</table>\n",
              "</div>\n",
              "    <div class=\"colab-df-buttons\">\n",
              "\n",
              "  <div class=\"colab-df-container\">\n",
              "    <button class=\"colab-df-convert\" onclick=\"convertToInteractive('df-2fd837b3-0d7d-4002-9e75-9b53e956cd5a')\"\n",
              "            title=\"Convert this dataframe to an interactive table.\"\n",
              "            style=\"display:none;\">\n",
              "\n",
              "  <svg xmlns=\"http://www.w3.org/2000/svg\" height=\"24px\" viewBox=\"0 -960 960 960\">\n",
              "    <path d=\"M120-120v-720h720v720H120Zm60-500h600v-160H180v160Zm220 220h160v-160H400v160Zm0 220h160v-160H400v160ZM180-400h160v-160H180v160Zm440 0h160v-160H620v160ZM180-180h160v-160H180v160Zm440 0h160v-160H620v160Z\"/>\n",
              "  </svg>\n",
              "    </button>\n",
              "\n",
              "  <style>\n",
              "    .colab-df-container {\n",
              "      display:flex;\n",
              "      gap: 12px;\n",
              "    }\n",
              "\n",
              "    .colab-df-convert {\n",
              "      background-color: #E8F0FE;\n",
              "      border: none;\n",
              "      border-radius: 50%;\n",
              "      cursor: pointer;\n",
              "      display: none;\n",
              "      fill: #1967D2;\n",
              "      height: 32px;\n",
              "      padding: 0 0 0 0;\n",
              "      width: 32px;\n",
              "    }\n",
              "\n",
              "    .colab-df-convert:hover {\n",
              "      background-color: #E2EBFA;\n",
              "      box-shadow: 0px 1px 2px rgba(60, 64, 67, 0.3), 0px 1px 3px 1px rgba(60, 64, 67, 0.15);\n",
              "      fill: #174EA6;\n",
              "    }\n",
              "\n",
              "    .colab-df-buttons div {\n",
              "      margin-bottom: 4px;\n",
              "    }\n",
              "\n",
              "    [theme=dark] .colab-df-convert {\n",
              "      background-color: #3B4455;\n",
              "      fill: #D2E3FC;\n",
              "    }\n",
              "\n",
              "    [theme=dark] .colab-df-convert:hover {\n",
              "      background-color: #434B5C;\n",
              "      box-shadow: 0px 1px 3px 1px rgba(0, 0, 0, 0.15);\n",
              "      filter: drop-shadow(0px 1px 2px rgba(0, 0, 0, 0.3));\n",
              "      fill: #FFFFFF;\n",
              "    }\n",
              "  </style>\n",
              "\n",
              "    <script>\n",
              "      const buttonEl =\n",
              "        document.querySelector('#df-2fd837b3-0d7d-4002-9e75-9b53e956cd5a button.colab-df-convert');\n",
              "      buttonEl.style.display =\n",
              "        google.colab.kernel.accessAllowed ? 'block' : 'none';\n",
              "\n",
              "      async function convertToInteractive(key) {\n",
              "        const element = document.querySelector('#df-2fd837b3-0d7d-4002-9e75-9b53e956cd5a');\n",
              "        const dataTable =\n",
              "          await google.colab.kernel.invokeFunction('convertToInteractive',\n",
              "                                                    [key], {});\n",
              "        if (!dataTable) return;\n",
              "\n",
              "        const docLinkHtml = 'Like what you see? Visit the ' +\n",
              "          '<a target=\"_blank\" href=https://colab.research.google.com/notebooks/data_table.ipynb>data table notebook</a>'\n",
              "          + ' to learn more about interactive tables.';\n",
              "        element.innerHTML = '';\n",
              "        dataTable['output_type'] = 'display_data';\n",
              "        await google.colab.output.renderOutput(dataTable, element);\n",
              "        const docLink = document.createElement('div');\n",
              "        docLink.innerHTML = docLinkHtml;\n",
              "        element.appendChild(docLink);\n",
              "      }\n",
              "    </script>\n",
              "  </div>\n",
              "\n",
              "\n",
              "<div id=\"df-87183330-e5e5-48f2-ba58-862f3525182e\">\n",
              "  <button class=\"colab-df-quickchart\" onclick=\"quickchart('df-87183330-e5e5-48f2-ba58-862f3525182e')\"\n",
              "            title=\"Suggest charts\"\n",
              "            style=\"display:none;\">\n",
              "\n",
              "<svg xmlns=\"http://www.w3.org/2000/svg\" height=\"24px\"viewBox=\"0 0 24 24\"\n",
              "     width=\"24px\">\n",
              "    <g>\n",
              "        <path d=\"M19 3H5c-1.1 0-2 .9-2 2v14c0 1.1.9 2 2 2h14c1.1 0 2-.9 2-2V5c0-1.1-.9-2-2-2zM9 17H7v-7h2v7zm4 0h-2V7h2v10zm4 0h-2v-4h2v4z\"/>\n",
              "    </g>\n",
              "</svg>\n",
              "  </button>\n",
              "\n",
              "<style>\n",
              "  .colab-df-quickchart {\n",
              "      --bg-color: #E8F0FE;\n",
              "      --fill-color: #1967D2;\n",
              "      --hover-bg-color: #E2EBFA;\n",
              "      --hover-fill-color: #174EA6;\n",
              "      --disabled-fill-color: #AAA;\n",
              "      --disabled-bg-color: #DDD;\n",
              "  }\n",
              "\n",
              "  [theme=dark] .colab-df-quickchart {\n",
              "      --bg-color: #3B4455;\n",
              "      --fill-color: #D2E3FC;\n",
              "      --hover-bg-color: #434B5C;\n",
              "      --hover-fill-color: #FFFFFF;\n",
              "      --disabled-bg-color: #3B4455;\n",
              "      --disabled-fill-color: #666;\n",
              "  }\n",
              "\n",
              "  .colab-df-quickchart {\n",
              "    background-color: var(--bg-color);\n",
              "    border: none;\n",
              "    border-radius: 50%;\n",
              "    cursor: pointer;\n",
              "    display: none;\n",
              "    fill: var(--fill-color);\n",
              "    height: 32px;\n",
              "    padding: 0;\n",
              "    width: 32px;\n",
              "  }\n",
              "\n",
              "  .colab-df-quickchart:hover {\n",
              "    background-color: var(--hover-bg-color);\n",
              "    box-shadow: 0 1px 2px rgba(60, 64, 67, 0.3), 0 1px 3px 1px rgba(60, 64, 67, 0.15);\n",
              "    fill: var(--button-hover-fill-color);\n",
              "  }\n",
              "\n",
              "  .colab-df-quickchart-complete:disabled,\n",
              "  .colab-df-quickchart-complete:disabled:hover {\n",
              "    background-color: var(--disabled-bg-color);\n",
              "    fill: var(--disabled-fill-color);\n",
              "    box-shadow: none;\n",
              "  }\n",
              "\n",
              "  .colab-df-spinner {\n",
              "    border: 2px solid var(--fill-color);\n",
              "    border-color: transparent;\n",
              "    border-bottom-color: var(--fill-color);\n",
              "    animation:\n",
              "      spin 1s steps(1) infinite;\n",
              "  }\n",
              "\n",
              "  @keyframes spin {\n",
              "    0% {\n",
              "      border-color: transparent;\n",
              "      border-bottom-color: var(--fill-color);\n",
              "      border-left-color: var(--fill-color);\n",
              "    }\n",
              "    20% {\n",
              "      border-color: transparent;\n",
              "      border-left-color: var(--fill-color);\n",
              "      border-top-color: var(--fill-color);\n",
              "    }\n",
              "    30% {\n",
              "      border-color: transparent;\n",
              "      border-left-color: var(--fill-color);\n",
              "      border-top-color: var(--fill-color);\n",
              "      border-right-color: var(--fill-color);\n",
              "    }\n",
              "    40% {\n",
              "      border-color: transparent;\n",
              "      border-right-color: var(--fill-color);\n",
              "      border-top-color: var(--fill-color);\n",
              "    }\n",
              "    60% {\n",
              "      border-color: transparent;\n",
              "      border-right-color: var(--fill-color);\n",
              "    }\n",
              "    80% {\n",
              "      border-color: transparent;\n",
              "      border-right-color: var(--fill-color);\n",
              "      border-bottom-color: var(--fill-color);\n",
              "    }\n",
              "    90% {\n",
              "      border-color: transparent;\n",
              "      border-bottom-color: var(--fill-color);\n",
              "    }\n",
              "  }\n",
              "</style>\n",
              "\n",
              "  <script>\n",
              "    async function quickchart(key) {\n",
              "      const quickchartButtonEl =\n",
              "        document.querySelector('#' + key + ' button');\n",
              "      quickchartButtonEl.disabled = true;  // To prevent multiple clicks.\n",
              "      quickchartButtonEl.classList.add('colab-df-spinner');\n",
              "      try {\n",
              "        const charts = await google.colab.kernel.invokeFunction(\n",
              "            'suggestCharts', [key], {});\n",
              "      } catch (error) {\n",
              "        console.error('Error during call to suggestCharts:', error);\n",
              "      }\n",
              "      quickchartButtonEl.classList.remove('colab-df-spinner');\n",
              "      quickchartButtonEl.classList.add('colab-df-quickchart-complete');\n",
              "    }\n",
              "    (() => {\n",
              "      let quickchartButtonEl =\n",
              "        document.querySelector('#df-87183330-e5e5-48f2-ba58-862f3525182e button');\n",
              "      quickchartButtonEl.style.display =\n",
              "        google.colab.kernel.accessAllowed ? 'block' : 'none';\n",
              "    })();\n",
              "  </script>\n",
              "</div>\n",
              "    </div>\n",
              "  </div>\n"
            ],
            "application/vnd.google.colaboratory.intrinsic+json": {
              "type": "dataframe",
              "variable_name": "reviews",
              "summary": "{\n  \"name\": \"reviews\",\n  \"rows\": 27701,\n  \"fields\": [\n    {\n      \"column\": \"id\",\n      \"properties\": {\n        \"dtype\": \"category\",\n        \"num_unique_values\": 35,\n        \"samples\": [\n          \"AVqVGZN9QMlgsOJE6eUZ\",\n          \"AVqVGZO3nnc1JgDc3jGK\",\n          \"AVzvXXwEvKc47QAVfRhx\"\n        ],\n        \"semantic_type\": \"\",\n        \"description\": \"\"\n      }\n    },\n    {\n      \"column\": \"name\",\n      \"properties\": {\n        \"dtype\": \"category\",\n        \"num_unique_values\": 46,\n        \"samples\": [\n          \"Kindle Keyboard,,,\\r\\nKindle Keyboard,,,\",\n          \"Amazon Kindle Touch Leather Case (4th Generation - 2011 Release), Olive Green,,,\\r\\nAmazon Kindle Touch Leather Case (4th Generation - 2011 Release), Olive Green,,,\",\n          \"Amazon Fire Hd 6 Standing Protective Case(4th Generation - 2014 Release), Cayenne Red,,,\\r\\nAmazon Fire Hd 6 Standing Protective Case(4th Generation - 2014 Release), Cayenne Red,,,\"\n        ],\n        \"semantic_type\": \"\",\n        \"description\": \"\"\n      }\n    },\n    {\n      \"column\": \"asins\",\n      \"properties\": {\n        \"dtype\": \"category\",\n        \"num_unique_values\": 34,\n        \"samples\": [\n          \"B005PB2T0S\",\n          \"B00QFQRELG\",\n          \"B00QJDU3KY\"\n        ],\n        \"semantic_type\": \"\",\n        \"description\": \"\"\n      }\n    },\n    {\n      \"column\": \"brand\",\n      \"properties\": {\n        \"dtype\": \"category\",\n        \"num_unique_values\": 4,\n        \"samples\": [\n          \"Amazon Echo\",\n          \"Amazon Fire\",\n          \"Amazon\"\n        ],\n        \"semantic_type\": \"\",\n        \"description\": \"\"\n      }\n    },\n    {\n      \"column\": \"categories\",\n      \"properties\": {\n        \"dtype\": \"category\",\n        \"num_unique_values\": 34,\n        \"samples\": [\n          \"Electronics,eBook Readers & Accessories,Covers,Kindle Store,Amazon Device Accessories,Kindle E-Reader Accessories,Kindle (5th Generation) Accessories,Kindle (5th Generation) Covers\",\n          \"Fire Tablets,Tablets,Computers & Tablets,All Tablets\",\n          \"Electronics,iPad & Tablets,All Tablets,Computers & Tablets,Tablets,eBook Readers\"\n        ],\n        \"semantic_type\": \"\",\n        \"description\": \"\"\n      }\n    },\n    {\n      \"column\": \"keys\",\n      \"properties\": {\n        \"dtype\": \"category\",\n        \"num_unique_values\": 35,\n        \"samples\": [\n          \"0848719057331,kindleoasisereaderwithleatherchargingcoverblack6highresolutiondisplay300ppiwifiincludesspecialoffers/b00reqkwga,amazon/b00reqkwga,kindleoasisereaderwithleatherchargingcoverblack6highresolutiondisplay300ppiwifiincludesspecialoffers/5195001,848719057331\",\n          \"kindleoasisereaderwithleatherchargingcovermerlot6highresolutiondisplay300ppiwifiincludesspecialoffers/5234468,amazon/b00vindbjk,kindleoasisereaderwithleatherchargingcovermerlot6highresolutiondisplay300ppiwifiincludesspecialoffers/b00vindbjk,848719069587,0848719069587\",\n          \"certifiedrefurbishedamazonfiretvwithalexavoiceremote/b00uh4d8g2,0848719063264,848719063264\"\n        ],\n        \"semantic_type\": \"\",\n        \"description\": \"\"\n      }\n    },\n    {\n      \"column\": \"manufacturer\",\n      \"properties\": {\n        \"dtype\": \"category\",\n        \"num_unique_values\": 1,\n        \"samples\": [\n          \"Amazon\"\n        ],\n        \"semantic_type\": \"\",\n        \"description\": \"\"\n      }\n    },\n    {\n      \"column\": \"reviews.date\",\n      \"properties\": {\n        \"dtype\": \"category\",\n        \"num_unique_values\": 1003,\n        \"samples\": [\n          \"2017-07-16T00:00:00.000Z\"\n        ],\n        \"semantic_type\": \"\",\n        \"description\": \"\"\n      }\n    },\n    {\n      \"column\": \"reviews.dateAdded\",\n      \"properties\": {\n        \"dtype\": \"object\",\n        \"num_unique_values\": 1927,\n        \"samples\": [\n          \"2017-05-21T01:21:21Z\"\n        ],\n        \"semantic_type\": \"\",\n        \"description\": \"\"\n      }\n    },\n    {\n      \"column\": \"reviews.dateSeen\",\n      \"properties\": {\n        \"dtype\": \"category\",\n        \"num_unique_values\": 3660,\n        \"samples\": [\n          \"2017-08-31T22:33:21.207Z,2017-08-02T19:54:36.922Z,2017-08-02T22:18:20.611Z\"\n        ],\n        \"semantic_type\": \"\",\n        \"description\": \"\"\n      }\n    },\n    {\n      \"column\": \"reviews.doRecommend\",\n      \"properties\": {\n        \"dtype\": \"category\",\n        \"num_unique_values\": 2,\n        \"samples\": [\n          false\n        ],\n        \"semantic_type\": \"\",\n        \"description\": \"\"\n      }\n    },\n    {\n      \"column\": \"reviews.numHelpful\",\n      \"properties\": {\n        \"dtype\": \"number\",\n        \"std\": 12.70297777398758,\n        \"min\": 0.0,\n        \"max\": 814.0,\n        \"num_unique_values\": 81,\n        \"samples\": [\n          42.0\n        ],\n        \"semantic_type\": \"\",\n        \"description\": \"\"\n      }\n    },\n    {\n      \"column\": \"reviews.rating\",\n      \"properties\": {\n        \"dtype\": \"number\",\n        \"std\": 0.7320246021248407,\n        \"min\": 1.0,\n        \"max\": 5.0,\n        \"num_unique_values\": 5,\n        \"samples\": [\n          4.0\n        ],\n        \"semantic_type\": \"\",\n        \"description\": \"\"\n      }\n    },\n    {\n      \"column\": \"reviews.sourceURLs\",\n      \"properties\": {\n        \"dtype\": \"category\",\n        \"num_unique_values\": 11108,\n        \"samples\": [\n          \"http://reviews.bestbuy.com/3545/4370400/reviews.htm?format=embedded&page=445,http://reviews.bestbuy.com/3545/4370400/reviews.htm?format=embedded&page=440,http://reviews.bestbuy.com/3545/4370400/reviews.htm?format=embedded&page=423,http://reviews.bestbuy.com/3545/4370400/reviews.htm?format=embedded&page=421\"\n        ],\n        \"semantic_type\": \"\",\n        \"description\": \"\"\n      }\n    },\n    {\n      \"column\": \"reviews.text\",\n      \"properties\": {\n        \"dtype\": \"string\",\n        \"num_unique_values\": 27678,\n        \"samples\": [\n          \"Its pretty cool. A lot of teaching it things, but once you get it down easy from there. I am able to control the TV, hue lights and listen to music from any Bluetooth device connected.\"\n        ],\n        \"semantic_type\": \"\",\n        \"description\": \"\"\n      }\n    },\n    {\n      \"column\": \"reviews.title\",\n      \"properties\": {\n        \"dtype\": \"string\",\n        \"num_unique_values\": 16247,\n        \"samples\": [\n          \"I'm fond of it\"\n        ],\n        \"semantic_type\": \"\",\n        \"description\": \"\"\n      }\n    },\n    {\n      \"column\": \"reviews.userCity\",\n      \"properties\": {\n        \"dtype\": \"number\",\n        \"std\": null,\n        \"min\": null,\n        \"max\": null,\n        \"num_unique_values\": 0,\n        \"samples\": [],\n        \"semantic_type\": \"\",\n        \"description\": \"\"\n      }\n    },\n    {\n      \"column\": \"reviews.userProvince\",\n      \"properties\": {\n        \"dtype\": \"number\",\n        \"std\": null,\n        \"min\": null,\n        \"max\": null,\n        \"num_unique_values\": 0,\n        \"samples\": [],\n        \"semantic_type\": \"\",\n        \"description\": \"\"\n      }\n    },\n    {\n      \"column\": \"reviews.username\",\n      \"properties\": {\n        \"dtype\": \"string\",\n        \"num_unique_values\": 21920,\n        \"samples\": [],\n        \"semantic_type\": \"\",\n        \"description\": \"\"\n      }\n    }\n  ]\n}"
            }
          },
          "metadata": {},
          "execution_count": 18
        }
      ],
      "source": [
        "reviews=strat_train.copy()\n",
        "reviews.head(2)"
      ]
    },
    {
      "cell_type": "code",
      "execution_count": 19,
      "id": "de786d8c",
      "metadata": {
        "execution": {
          "iopub.execute_input": "2022-10-22T08:28:32.209088Z",
          "iopub.status.busy": "2022-10-22T08:28:32.208326Z",
          "iopub.status.idle": "2022-10-22T08:28:32.217873Z",
          "shell.execute_reply": "2022-10-22T08:28:32.217052Z"
        },
        "papermill": {
          "duration": 0.033342,
          "end_time": "2022-10-22T08:28:32.219928",
          "exception": false,
          "start_time": "2022-10-22T08:28:32.186586",
          "status": "completed"
        },
        "tags": [],
        "colab": {
          "base_uri": "https://localhost:8080/"
        },
        "id": "de786d8c",
        "outputId": "b2a82fcf-7f25-4520-c8e8-f4af317ae233"
      },
      "outputs": [
        {
          "output_type": "execute_result",
          "data": {
            "text/plain": [
              "(47, 35)"
            ]
          },
          "metadata": {},
          "execution_count": 19
        }
      ],
      "source": [
        "len(reviews['name'].unique()),len(reviews['asins'].unique())"
      ]
    },
    {
      "cell_type": "markdown",
      "id": "989fd13e",
      "metadata": {
        "papermill": {
          "duration": 0.01805,
          "end_time": "2022-10-22T08:28:32.256505",
          "exception": false,
          "start_time": "2022-10-22T08:28:32.238455",
          "status": "completed"
        },
        "tags": [],
        "id": "989fd13e"
      },
      "source": [
        "so we have 35 products in training data ASINs but more product names 48. so we have **one to many relationship** btw asins and names. A single asin can have different name due to different seller"
      ]
    },
    {
      "cell_type": "code",
      "execution_count": 20,
      "id": "08b432bd",
      "metadata": {
        "execution": {
          "iopub.execute_input": "2022-10-22T08:28:32.295112Z",
          "iopub.status.busy": "2022-10-22T08:28:32.294446Z",
          "iopub.status.idle": "2022-10-22T08:28:32.319214Z",
          "shell.execute_reply": "2022-10-22T08:28:32.317832Z"
        },
        "papermill": {
          "duration": 0.046966,
          "end_time": "2022-10-22T08:28:32.321675",
          "exception": false,
          "start_time": "2022-10-22T08:28:32.274709",
          "status": "completed"
        },
        "tags": [],
        "colab": {
          "base_uri": "https://localhost:8080/"
        },
        "id": "08b432bd",
        "outputId": "f53e6c68-7e56-4a1b-9d7a-361071337bbd"
      },
      "outputs": [
        {
          "output_type": "execute_result",
          "data": {
            "text/plain": [
              "asins\n",
              "B005PB2T0S               [Amazon Kindle Lighted Leather Cover,,,\\r\\nAma...\n",
              "B005PB2T2Q               [Fire Kids Edition Tablet, 7 Display, Wi-Fi, 1...\n",
              "B00IOY8XWQ               [Kindle Paperwhite E-reader - White, 6 High-Re...\n",
              "B00IOYAM4I               [Brand New Amazon Kindle Fire 16gb 7 Ips Displ...\n",
              "B00L9EPT8O,B01E6AO69U    [nan, Amazon Fire Tv,,,\\r\\nAmazon Fire Tv,,,, ...\n",
              "B00LO29KXQ               [Fire Tablet, 7 Display, Wi-Fi, 8 GB - Include...\n",
              "B00LW9XOJM                                                           [nan]\n",
              "B00OQVZDJM               [Amazon Kindle Paperwhite - eBook reader - 4 G...\n",
              "B00QFQRELG                                                           [nan]\n",
              "B00QJDU3KY               [Fire Tablet, 7 Display, Wi-Fi, 8 GB - Include...\n",
              "B00QL1ZN3G                                                           [nan]\n",
              "B00REQKWGA               [Brand New Amazon Kindle Fire 16gb 7 Ips Displ...\n",
              "B00TSUGXKE                            [Echo (White),,,\\r\\nEcho (White),,,]\n",
              "B00U3FPN4U                                                           [nan]\n",
              "B00UH4D8G2                            [Echo (White),,,\\r\\nEcho (White),,,]\n",
              "B00VINDBJK               [Kindle Oasis E-reader with Leather Charging C...\n",
              "B00X4WHP5E                                                           [nan]\n",
              "B00ZV9PXP2               [Fire Tablet, 7 Display, Wi-Fi, 8 GB - Include...\n",
              "B0189XYY0Q                                                           [nan]\n",
              "B018SZT3BK               [Fire Tablet, 7 Display, Wi-Fi, 8 GB - Include...\n",
              "B018T075DC               [Brand New Amazon Kindle Fire 16gb 7 Ips Displ...\n",
              "B018Y225IA               [Fire Kids Edition Tablet, 7 Display, Wi-Fi, 1...\n",
              "B018Y229OU               [Fire Tablet, 7 Display, Wi-Fi, 8 GB - Include...\n",
              "B018Y22BI4                            [Echo (White),,,\\r\\nEcho (White),,,]\n",
              "B018Y22C2Y               [Fire Tablet, 7 Display, Wi-Fi, 8 GB - Include...\n",
              "B018Y23MNM               [Amazon Kindle Paperwhite - eBook reader - 4 G...\n",
              "B018Y23P7K                                                           [nan]\n",
              "B01AHB9C1E               [Amazon 5W USB Official OEM Charger and Power ...\n",
              "B01AHB9CN2               [All-New Fire HD 8 Tablet, 8 HD Display, Wi-Fi...\n",
              "B01AHB9CYG               [All-New Fire HD 8 Tablet, 8 HD Display, Wi-Fi...\n",
              "B01BFIBRIE               [Fire Tablet, 7 Display, Wi-Fi, 8 GB - Include...\n",
              "B01BH83OOM                                                           [nan]\n",
              "B01J2G4VBG               [Amazon 5W USB Official OEM Charger and Power ...\n",
              "B01J4ORNHU               [Fire Tablet, 7 Display, Wi-Fi, 8 GB - Include...\n",
              "Name: name, dtype: object"
            ]
          },
          "metadata": {},
          "execution_count": 20
        }
      ],
      "source": [
        "# so its better to group by on the basis of asins\n",
        "reviews.groupby('asins')['name'].unique()"
      ]
    },
    {
      "cell_type": "markdown",
      "id": "e999596e",
      "metadata": {
        "papermill": {
          "duration": 0.01781,
          "end_time": "2022-10-22T08:28:32.357677",
          "exception": false,
          "start_time": "2022-10-22T08:28:32.339867",
          "status": "completed"
        },
        "tags": [],
        "id": "e999596e"
      },
      "source": [
        "we are concerned with product ratings and reviews so we take care of asins only"
      ]
    },
    {
      "cell_type": "code",
      "execution_count": 21,
      "id": "00621738",
      "metadata": {
        "execution": {
          "iopub.execute_input": "2022-10-22T08:28:32.396192Z",
          "iopub.status.busy": "2022-10-22T08:28:32.395756Z",
          "iopub.status.idle": "2022-10-22T08:28:32.436545Z",
          "shell.execute_reply": "2022-10-22T08:28:32.434919Z"
        },
        "papermill": {
          "duration": 0.063033,
          "end_time": "2022-10-22T08:28:32.439211",
          "exception": false,
          "start_time": "2022-10-22T08:28:32.376178",
          "status": "completed"
        },
        "tags": [],
        "colab": {
          "base_uri": "https://localhost:8080/"
        },
        "id": "00621738",
        "outputId": "f3b3ddcf-1d09-4fdc-9a40-7390b2f92300"
      },
      "outputs": [
        {
          "output_type": "stream",
          "name": "stdout",
          "text": [
            "<class 'pandas.core.frame.DataFrame'>\n",
            "Index: 27701 entries, 7014 to 34428\n",
            "Data columns (total 19 columns):\n",
            " #   Column                Non-Null Count  Dtype  \n",
            "---  ------                --------------  -----  \n",
            " 0   id                    27679 non-null  object \n",
            " 1   name                  22284 non-null  object \n",
            " 2   asins                 27678 non-null  object \n",
            " 3   brand                 27679 non-null  object \n",
            " 4   categories            27679 non-null  object \n",
            " 5   keys                  27679 non-null  object \n",
            " 6   manufacturer          27679 non-null  object \n",
            " 7   reviews.date          27660 non-null  object \n",
            " 8   reviews.dateAdded     19260 non-null  object \n",
            " 9   reviews.dateSeen      27679 non-null  object \n",
            " 10  reviews.doRecommend   27256 non-null  object \n",
            " 11  reviews.numHelpful    27306 non-null  float64\n",
            " 12  reviews.rating        27679 non-null  float64\n",
            " 13  reviews.sourceURLs    27679 non-null  object \n",
            " 14  reviews.text          27678 non-null  object \n",
            " 15  reviews.title         27674 non-null  object \n",
            " 16  reviews.userCity      0 non-null      float64\n",
            " 17  reviews.userProvince  0 non-null      float64\n",
            " 18  reviews.username      27674 non-null  object \n",
            "dtypes: float64(4), object(15)\n",
            "memory usage: 5.2+ MB\n"
          ]
        }
      ],
      "source": [
        "reviews.info()"
      ]
    },
    {
      "cell_type": "markdown",
      "id": "2b10f179",
      "metadata": {
        "papermill": {
          "duration": 0.017879,
          "end_time": "2022-10-22T08:28:32.475611",
          "exception": false,
          "start_time": "2022-10-22T08:28:32.457732",
          "status": "completed"
        },
        "tags": [],
        "id": "2b10f179"
      },
      "source": [
        "# Asins/Names with ratings"
      ]
    },
    {
      "cell_type": "code",
      "execution_count": 22,
      "id": "d7053eba",
      "metadata": {
        "execution": {
          "iopub.execute_input": "2022-10-22T08:28:32.514610Z",
          "iopub.status.busy": "2022-10-22T08:28:32.513581Z",
          "iopub.status.idle": "2022-10-22T08:28:33.251625Z",
          "shell.execute_reply": "2022-10-22T08:28:33.250537Z"
        },
        "papermill": {
          "duration": 0.760051,
          "end_time": "2022-10-22T08:28:33.253895",
          "exception": false,
          "start_time": "2022-10-22T08:28:32.493844",
          "status": "completed"
        },
        "tags": [],
        "colab": {
          "base_uri": "https://localhost:8080/",
          "height": 1000
        },
        "id": "d7053eba",
        "outputId": "eadf5473-7638-4a21-95cb-1f0ca828ae33"
      },
      "outputs": [
        {
          "output_type": "display_data",
          "data": {
            "text/plain": [
              "<Figure size 1600x1000 with 2 Axes>"
            ],
            "image/png": "[encoded data removed]"
          },
          "metadata": {}
        }
      ],
      "source": [
        "fig = plt.figure(figsize=(16,10))\n",
        "# we use subplot when we have to see interrelationship btw two graphs\n",
        "ax1 = plt.subplot(2,1,1)\n",
        "ax2 = plt.subplot(2,1,2, sharex = ax1)\n",
        "reviews[\"asins\"].value_counts().plot(kind=\"bar\", ax=ax1, title=\"ASIN Frequency\")\n",
        "# The ax (or Axes object) is the area of the figure where your data appears\n",
        "np.log10(reviews[\"asins\"].value_counts()).plot(kind=\"bar\", ax=ax2,\n",
        "                                               title=\"ASIN Frequency (Log10 Adjusted)\")\n",
        "# np.log10 normalises our data to visualise the graph and difference much better\n",
        "plt.show()"
      ]
    },
    {
      "cell_type": "markdown",
      "id": "b75b2b40",
      "metadata": {
        "papermill": {
          "duration": 0.018692,
          "end_time": "2022-10-22T08:28:33.292149",
          "exception": false,
          "start_time": "2022-10-22T08:28:33.273457",
          "status": "completed"
        },
        "tags": [],
        "id": "b75b2b40"
      },
      "source": [
        "so we know that what asins have max number of people rating . And this answers which asins have most sales"
      ]
    },
    {
      "cell_type": "markdown",
      "id": "89037058",
      "metadata": {
        "papermill": {
          "duration": 0.018753,
          "end_time": "2022-10-22T08:28:33.329834",
          "exception": false,
          "start_time": "2022-10-22T08:28:33.311081",
          "status": "completed"
        },
        "tags": [],
        "id": "89037058"
      },
      "source": [
        "# ASINS/Reviews"
      ]
    },
    {
      "cell_type": "code",
      "execution_count": 23,
      "id": "ca3f72ae",
      "metadata": {
        "execution": {
          "iopub.execute_input": "2022-10-22T08:28:33.370133Z",
          "iopub.status.busy": "2022-10-22T08:28:33.369742Z",
          "iopub.status.idle": "2022-10-22T08:28:33.377279Z",
          "shell.execute_reply": "2022-10-22T08:28:33.375687Z"
        },
        "papermill": {
          "duration": 0.030813,
          "end_time": "2022-10-22T08:28:33.379635",
          "exception": false,
          "start_time": "2022-10-22T08:28:33.348822",
          "status": "completed"
        },
        "tags": [],
        "colab": {
          "base_uri": "https://localhost:8080/"
        },
        "id": "ca3f72ae",
        "outputId": "c1087277-b1f7-48cd-d672-51c493c327b9"
      },
      "outputs": [
        {
          "output_type": "execute_result",
          "data": {
            "text/plain": [
              "4.585895444199574"
            ]
          },
          "metadata": {},
          "execution_count": 23
        }
      ],
      "source": [
        "reviews['reviews.rating'].mean()\n",
        "# trianing data set rating mean"
      ]
    },
    {
      "cell_type": "code",
      "execution_count": 24,
      "id": "ba3006b8",
      "metadata": {
        "execution": {
          "iopub.execute_input": "2022-10-22T08:28:33.420100Z",
          "iopub.status.busy": "2022-10-22T08:28:33.419689Z",
          "iopub.status.idle": "2022-10-22T08:28:35.258099Z",
          "shell.execute_reply": "2022-10-22T08:28:35.256714Z"
        },
        "papermill": {
          "duration": 1.862111,
          "end_time": "2022-10-22T08:28:35.261302",
          "exception": false,
          "start_time": "2022-10-22T08:28:33.399191",
          "status": "completed"
        },
        "tags": [],
        "colab": {
          "base_uri": "https://localhost:8080/",
          "height": 1000
        },
        "id": "ba3006b8",
        "outputId": "57b33a14-97cf-4299-bb35-715809387c57"
      },
      "outputs": [
        {
          "output_type": "display_data",
          "data": {
            "text/plain": [
              "<Figure size 1600x1200 with 2 Axes>"
            ],
            "image/png": "[encoded data removed]"
          },
          "metadata": {}
        }
      ],
      "source": [
        "# now we will use pointplot to see our number of those people giving ratings\n",
        "asins_count=reviews['asins'].value_counts().index\n",
        "plt.subplots(2,1,figsize=(16,12))\n",
        "plt.subplot(2,1,1)\n",
        "reviews['asins'].value_counts().plot(kind=\"bar\",title=\"ASINS frequeny\")\n",
        "plt.subplot(2,1,2)\n",
        "sns.pointplot(x=\"asins\",y=\"reviews.rating\",order=asins_count,data=reviews)\n",
        "plt.xticks(rotation=90)\n",
        "plt.show()"
      ]
    },
    {
      "cell_type": "markdown",
      "id": "2a2eccd4",
      "metadata": {
        "papermill": {
          "duration": 0.021937,
          "end_time": "2022-10-22T08:28:35.308192",
          "exception": false,
          "start_time": "2022-10-22T08:28:35.286255",
          "status": "completed"
        },
        "tags": [],
        "id": "2a2eccd4"
      },
      "source": [
        "so we have info about rating of product and no. of reviews given on that asin.Here dots are means and lines extremes show max min rating value.So now we can do analysis of products quality using no. of users"
      ]
    },
    {
      "cell_type": "markdown",
      "id": "7f8ef6e6",
      "metadata": {
        "papermill": {
          "duration": 0.022841,
          "end_time": "2022-10-22T08:28:35.356320",
          "exception": false,
          "start_time": "2022-10-22T08:28:35.333479",
          "status": "completed"
        },
        "tags": [],
        "id": "7f8ef6e6"
      },
      "source": [
        "# reviews.doRecommend/ASINs"
      ]
    },
    {
      "cell_type": "code",
      "execution_count": 25,
      "id": "721e0360",
      "metadata": {
        "execution": {
          "iopub.execute_input": "2022-10-22T08:28:35.404307Z",
          "iopub.status.busy": "2022-10-22T08:28:35.403541Z",
          "iopub.status.idle": "2022-10-22T08:28:38.123870Z",
          "shell.execute_reply": "2022-10-22T08:28:38.122708Z"
        },
        "papermill": {
          "duration": 2.748389,
          "end_time": "2022-10-22T08:28:38.127431",
          "exception": false,
          "start_time": "2022-10-22T08:28:35.379042",
          "status": "completed"
        },
        "tags": [],
        "colab": {
          "base_uri": "https://localhost:8080/",
          "height": 1000
        },
        "id": "721e0360",
        "outputId": "cfb18cc3-c00e-4902-e483-64c9175925eb"
      },
      "outputs": [
        {
          "output_type": "display_data",
          "data": {
            "text/plain": [
              "<Figure size 1600x1200 with 2 Axes>"
            ],
            "image/png": "[encoded data removed]"
          },
          "metadata": {}
        }
      ],
      "source": [
        "plt.subplots(2,1,figsize=(16,12))\n",
        "plt.subplot(2,1,1)\n",
        "reviews['asins'].value_counts().plot(kind=\"bar\",title=\"ASINS frequeny\")\n",
        "plt.subplot(2,1,2)\n",
        "sns.pointplot(x=\"asins\",y=\"reviews.doRecommend\",order=asins_count,data=reviews)\n",
        "plt.xticks(rotation=90)\n",
        "plt.show()"
      ]
    },
    {
      "cell_type": "markdown",
      "id": "d7a0a9e4",
      "metadata": {
        "papermill": {
          "duration": 0.02221,
          "end_time": "2022-10-22T08:28:38.173265",
          "exception": false,
          "start_time": "2022-10-22T08:28:38.151055",
          "status": "completed"
        },
        "tags": [],
        "id": "d7a0a9e4"
      },
      "source": [
        "Info about which product is more frequently recommended and if its sold more or not based on that recommendation"
      ]
    },
    {
      "cell_type": "markdown",
      "id": "c2ac0679",
      "metadata": {
        "papermill": {
          "duration": 0.022344,
          "end_time": "2022-10-22T08:28:38.218275",
          "exception": false,
          "start_time": "2022-10-22T08:28:38.195931",
          "status": "completed"
        },
        "tags": [],
        "id": "c2ac0679"
      },
      "source": [
        "# Correlations"
      ]
    },
    {
      "cell_type": "code",
      "execution_count": 27,
      "id": "fb7b3ae7",
      "metadata": {
        "execution": {
          "iopub.execute_input": "2022-10-22T08:28:38.329353Z",
          "iopub.status.busy": "2022-10-22T08:28:38.328147Z",
          "iopub.status.idle": "2022-10-22T08:28:38.348701Z",
          "shell.execute_reply": "2022-10-22T08:28:38.347575Z"
        },
        "papermill": {
          "duration": 0.046755,
          "end_time": "2022-10-22T08:28:38.350983",
          "exception": false,
          "start_time": "2022-10-22T08:28:38.304228",
          "status": "completed"
        },
        "tags": [],
        "colab": {
          "base_uri": "https://localhost:8080/",
          "height": 1000
        },
        "id": "fb7b3ae7",
        "outputId": "1339ac9a-61ad-40af-a5dd-a5e141d7f11d"
      },
      "outputs": [
        {
          "output_type": "execute_result",
          "data": {
            "text/plain": [
              "                       reviews.rating\n",
              "asins                                \n",
              "B005PB2T0S                   4.000000\n",
              "B005PB2T2Q                   3.666667\n",
              "B00IOY8XWQ                   4.732334\n",
              "B00IOYAM4I                   4.875000\n",
              "B00L9EPT8O,B01E6AO69U        4.669840\n",
              "B00LO29KXQ                   5.000000\n",
              "B00LW9XOJM                   3.600000\n",
              "B00OQVZDJM                   4.767525\n",
              "B00QFQRELG                   4.183333\n",
              "B00QJDU3KY                   4.615385\n",
              "B00QL1ZN3G                   3.300000\n",
              "B00REQKWGA                   5.000000\n",
              "B00TSUGXKE                   4.418919\n",
              "B00U3FPN4U                   4.711269\n",
              "B00UH4D8G2                   2.857143\n",
              "B00VINDBJK                   4.620000\n",
              "B00X4WHP5E                   4.333333\n",
              "B00ZV9PXP2                   4.502703\n",
              "B0189XYY0Q                   4.558252\n",
              "B018SZT3BK                   4.545000\n",
              "B018T075DC                   5.000000\n",
              "B018Y225IA                   4.521480\n",
              "B018Y229OU                   4.454711\n",
              "B018Y22BI4                   4.700000\n",
              "B018Y22C2Y                   4.833333\n",
              "B018Y23MNM                   4.531729\n",
              "B018Y23P7K                   5.000000\n",
              "B01AHB9C1E                   4.700000\n",
              "B01AHB9CN2                   4.589238\n",
              "B01AHB9CYG                   4.586466\n",
              "B01BFIBRIE                   4.625000\n",
              "B01BH83OOM                   4.526523\n",
              "B01J2G4VBG                   4.424149\n",
              "B01J4ORNHU                   4.642857"
            ],
            "text/html": [
              "\n",
              "  <div id=\"df-8d7d9c47-40ce-4851-80a4-6be385b9c20c\" class=\"colab-df-container\">\n",
              "    <div>\n",
              "<style scoped>\n",
              "    .dataframe tbody tr th:only-of-type {\n",
              "        vertical-align: middle;\n",
              "    }\n",
              "\n",
              "    .dataframe tbody tr th {\n",
              "        vertical-align: top;\n",
              "    }\n",
              "\n",
              "    .dataframe thead th {\n",
              "        text-align: right;\n",
              "    }\n",
              "</style>\n",
              "<table border=\"1\" class=\"dataframe\">\n",
              "  <thead>\n",
              "    <tr style=\"text-align: right;\">\n",
              "      <th></th>\n",
              "      <th>reviews.rating</th>\n",
              "    </tr>\n",
              "    <tr>\n",
              "      <th>asins</th>\n",
              "      <th></th>\n",
              "    </tr>\n",
              "  </thead>\n",
              "  <tbody>\n",
              "    <tr>\n",
              "      <th>B005PB2T0S</th>\n",
              "      <td>4.000000</td>\n",
              "    </tr>\n",
              "    <tr>\n",
              "      <th>B005PB2T2Q</th>\n",
              "      <td>3.666667</td>\n",
              "    </tr>\n",
              "    <tr>\n",
              "      <th>B00IOY8XWQ</th>\n",
              "      <td>4.732334</td>\n",
              "    </tr>\n",
              "    <tr>\n",
              "      <th>B00IOYAM4I</th>\n",
              "      <td>4.875000</td>\n",
              "    </tr>\n",
              "    <tr>\n",
              "      <th>B00L9EPT8O,B01E6AO69U</th>\n",
              "      <td>4.669840</td>\n",
              "    </tr>\n",
              "    <tr>\n",
              "      <th>B00LO29KXQ</th>\n",
              "      <td>5.000000</td>\n",
              "    </tr>\n",
              "    <tr>\n",
              "      <th>B00LW9XOJM</th>\n",
              "      <td>3.600000</td>\n",
              "    </tr>\n",
              "    <tr>\n",
              "      <th>B00OQVZDJM</th>\n",
              "      <td>4.767525</td>\n",
              "    </tr>\n",
              "    <tr>\n",
              "      <th>B00QFQRELG</th>\n",
              "      <td>4.183333</td>\n",
              "    </tr>\n",
              "    <tr>\n",
              "      <th>B00QJDU3KY</th>\n",
              "      <td>4.615385</td>\n",
              "    </tr>\n",
              "    <tr>\n",
              "      <th>B00QL1ZN3G</th>\n",
              "      <td>3.300000</td>\n",
              "    </tr>\n",
              "    <tr>\n",
              "      <th>B00REQKWGA</th>\n",
              "      <td>5.000000</td>\n",
              "    </tr>\n",
              "    <tr>\n",
              "      <th>B00TSUGXKE</th>\n",
              "      <td>4.418919</td>\n",
              "    </tr>\n",
              "    <tr>\n",
              "      <th>B00U3FPN4U</th>\n",
              "      <td>4.711269</td>\n",
              "    </tr>\n",
              "    <tr>\n",
              "      <th>B00UH4D8G2</th>\n",
              "      <td>2.857143</td>\n",
              "    </tr>\n",
              "    <tr>\n",
              "      <th>B00VINDBJK</th>\n",
              "      <td>4.620000</td>\n",
              "    </tr>\n",
              "    <tr>\n",
              "      <th>B00X4WHP5E</th>\n",
              "      <td>4.333333</td>\n",
              "    </tr>\n",
              "    <tr>\n",
              "      <th>B00ZV9PXP2</th>\n",
              "      <td>4.502703</td>\n",
              "    </tr>\n",
              "    <tr>\n",
              "      <th>B0189XYY0Q</th>\n",
              "      <td>4.558252</td>\n",
              "    </tr>\n",
              "    <tr>\n",
              "      <th>B018SZT3BK</th>\n",
              "      <td>4.545000</td>\n",
              "    </tr>\n",
              "    <tr>\n",
              "      <th>B018T075DC</th>\n",
              "      <td>5.000000</td>\n",
              "    </tr>\n",
              "    <tr>\n",
              "      <th>B018Y225IA</th>\n",
              "      <td>4.521480</td>\n",
              "    </tr>\n",
              "    <tr>\n",
              "      <th>B018Y229OU</th>\n",
              "      <td>4.454711</td>\n",
              "    </tr>\n",
              "    <tr>\n",
              "      <th>B018Y22BI4</th>\n",
              "      <td>4.700000</td>\n",
              "    </tr>\n",
              "    <tr>\n",
              "      <th>B018Y22C2Y</th>\n",
              "      <td>4.833333</td>\n",
              "    </tr>\n",
              "    <tr>\n",
              "      <th>B018Y23MNM</th>\n",
              "      <td>4.531729</td>\n",
              "    </tr>\n",
              "    <tr>\n",
              "      <th>B018Y23P7K</th>\n",
              "      <td>5.000000</td>\n",
              "    </tr>\n",
              "    <tr>\n",
              "      <th>B01AHB9C1E</th>\n",
              "      <td>4.700000</td>\n",
              "    </tr>\n",
              "    <tr>\n",
              "      <th>B01AHB9CN2</th>\n",
              "      <td>4.589238</td>\n",
              "    </tr>\n",
              "    <tr>\n",
              "      <th>B01AHB9CYG</th>\n",
              "      <td>4.586466</td>\n",
              "    </tr>\n",
              "    <tr>\n",
              "      <th>B01BFIBRIE</th>\n",
              "      <td>4.625000</td>\n",
              "    </tr>\n",
              "    <tr>\n",
              "      <th>B01BH83OOM</th>\n",
              "      <td>4.526523</td>\n",
              "    </tr>\n",
              "    <tr>\n",
              "      <th>B01J2G4VBG</th>\n",
              "      <td>4.424149</td>\n",
              "    </tr>\n",
              "    <tr>\n",
              "      <th>B01J4ORNHU</th>\n",
              "      <td>4.642857</td>\n",
              "    </tr>\n",
              "  </tbody>\n",
              "</table>\n",
              "</div>\n",
              "    <div class=\"colab-df-buttons\">\n",
              "\n",
              "  <div class=\"colab-df-container\">\n",
              "    <button class=\"colab-df-convert\" onclick=\"convertToInteractive('df-8d7d9c47-40ce-4851-80a4-6be385b9c20c')\"\n",
              "            title=\"Convert this dataframe to an interactive table.\"\n",
              "            style=\"display:none;\">\n",
              "\n",
              "  <svg xmlns=\"http://www.w3.org/2000/svg\" height=\"24px\" viewBox=\"0 -960 960 960\">\n",
              "    <path d=\"M120-120v-720h720v720H120Zm60-500h600v-160H180v160Zm220 220h160v-160H400v160Zm0 220h160v-160H400v160ZM180-400h160v-160H180v160Zm440 0h160v-160H620v160ZM180-180h160v-160H180v160Zm440 0h160v-160H620v160Z\"/>\n",
              "  </svg>\n",
              "    </button>\n",
              "\n",
              "  <style>\n",
              "    .colab-df-container {\n",
              "      display:flex;\n",
              "      gap: 12px;\n",
              "    }\n",
              "\n",
              "    .colab-df-convert {\n",
              "      background-color: #E8F0FE;\n",
              "      border: none;\n",
              "      border-radius: 50%;\n",
              "      cursor: pointer;\n",
              "      display: none;\n",
              "      fill: #1967D2;\n",
              "      height: 32px;\n",
              "      padding: 0 0 0 0;\n",
              "      width: 32px;\n",
              "    }\n",
              "\n",
              "    .colab-df-convert:hover {\n",
              "      background-color: #E2EBFA;\n",
              "      box-shadow: 0px 1px 2px rgba(60, 64, 67, 0.3), 0px 1px 3px 1px rgba(60, 64, 67, 0.15);\n",
              "      fill: #174EA6;\n",
              "    }\n",
              "\n",
              "    .colab-df-buttons div {\n",
              "      margin-bottom: 4px;\n",
              "    }\n",
              "\n",
              "    [theme=dark] .colab-df-convert {\n",
              "      background-color: #3B4455;\n",
              "      fill: #D2E3FC;\n",
              "    }\n",
              "\n",
              "    [theme=dark] .colab-df-convert:hover {\n",
              "      background-color: #434B5C;\n",
              "      box-shadow: 0px 1px 3px 1px rgba(0, 0, 0, 0.15);\n",
              "      filter: drop-shadow(0px 1px 2px rgba(0, 0, 0, 0.3));\n",
              "      fill: #FFFFFF;\n",
              "    }\n",
              "  </style>\n",
              "\n",
              "    <script>\n",
              "      const buttonEl =\n",
              "        document.querySelector('#df-8d7d9c47-40ce-4851-80a4-6be385b9c20c button.colab-df-convert');\n",
              "      buttonEl.style.display =\n",
              "        google.colab.kernel.accessAllowed ? 'block' : 'none';\n",
              "\n",
              "      async function convertToInteractive(key) {\n",
              "        const element = document.querySelector('#df-8d7d9c47-40ce-4851-80a4-6be385b9c20c');\n",
              "        const dataTable =\n",
              "          await google.colab.kernel.invokeFunction('convertToInteractive',\n",
              "                                                    [key], {});\n",
              "        if (!dataTable) return;\n",
              "\n",
              "        const docLinkHtml = 'Like what you see? Visit the ' +\n",
              "          '<a target=\"_blank\" href=https://colab.research.google.com/notebooks/data_table.ipynb>data table notebook</a>'\n",
              "          + ' to learn more about interactive tables.';\n",
              "        element.innerHTML = '';\n",
              "        dataTable['output_type'] = 'display_data';\n",
              "        await google.colab.output.renderOutput(dataTable, element);\n",
              "        const docLink = document.createElement('div');\n",
              "        docLink.innerHTML = docLinkHtml;\n",
              "        element.appendChild(docLink);\n",
              "      }\n",
              "    </script>\n",
              "  </div>\n",
              "\n",
              "\n",
              "<div id=\"df-3eff11fe-8637-48ba-9e43-adee217c0a9d\">\n",
              "  <button class=\"colab-df-quickchart\" onclick=\"quickchart('df-3eff11fe-8637-48ba-9e43-adee217c0a9d')\"\n",
              "            title=\"Suggest charts\"\n",
              "            style=\"display:none;\">\n",
              "\n",
              "<svg xmlns=\"http://www.w3.org/2000/svg\" height=\"24px\"viewBox=\"0 0 24 24\"\n",
              "     width=\"24px\">\n",
              "    <g>\n",
              "        <path d=\"M19 3H5c-1.1 0-2 .9-2 2v14c0 1.1.9 2 2 2h14c1.1 0 2-.9 2-2V5c0-1.1-.9-2-2-2zM9 17H7v-7h2v7zm4 0h-2V7h2v10zm4 0h-2v-4h2v4z\"/>\n",
              "    </g>\n",
              "</svg>\n",
              "  </button>\n",
              "\n",
              "<style>\n",
              "  .colab-df-quickchart {\n",
              "      --bg-color: #E8F0FE;\n",
              "      --fill-color: #1967D2;\n",
              "      --hover-bg-color: #E2EBFA;\n",
              "      --hover-fill-color: #174EA6;\n",
              "      --disabled-fill-color: #AAA;\n",
              "      --disabled-bg-color: #DDD;\n",
              "  }\n",
              "\n",
              "  [theme=dark] .colab-df-quickchart {\n",
              "      --bg-color: #3B4455;\n",
              "      --fill-color: #D2E3FC;\n",
              "      --hover-bg-color: #434B5C;\n",
              "      --hover-fill-color: #FFFFFF;\n",
              "      --disabled-bg-color: #3B4455;\n",
              "      --disabled-fill-color: #666;\n",
              "  }\n",
              "\n",
              "  .colab-df-quickchart {\n",
              "    background-color: var(--bg-color);\n",
              "    border: none;\n",
              "    border-radius: 50%;\n",
              "    cursor: pointer;\n",
              "    display: none;\n",
              "    fill: var(--fill-color);\n",
              "    height: 32px;\n",
              "    padding: 0;\n",
              "    width: 32px;\n",
              "  }\n",
              "\n",
              "  .colab-df-quickchart:hover {\n",
              "    background-color: var(--hover-bg-color);\n",
              "    box-shadow: 0 1px 2px rgba(60, 64, 67, 0.3), 0 1px 3px 1px rgba(60, 64, 67, 0.15);\n",
              "    fill: var(--button-hover-fill-color);\n",
              "  }\n",
              "\n",
              "  .colab-df-quickchart-complete:disabled,\n",
              "  .colab-df-quickchart-complete:disabled:hover {\n",
              "    background-color: var(--disabled-bg-color);\n",
              "    fill: var(--disabled-fill-color);\n",
              "    box-shadow: none;\n",
              "  }\n",
              "\n",
              "  .colab-df-spinner {\n",
              "    border: 2px solid var(--fill-color);\n",
              "    border-color: transparent;\n",
              "    border-bottom-color: var(--fill-color);\n",
              "    animation:\n",
              "      spin 1s steps(1) infinite;\n",
              "  }\n",
              "\n",
              "  @keyframes spin {\n",
              "    0% {\n",
              "      border-color: transparent;\n",
              "      border-bottom-color: var(--fill-color);\n",
              "      border-left-color: var(--fill-color);\n",
              "    }\n",
              "    20% {\n",
              "      border-color: transparent;\n",
              "      border-left-color: var(--fill-color);\n",
              "      border-top-color: var(--fill-color);\n",
              "    }\n",
              "    30% {\n",
              "      border-color: transparent;\n",
              "      border-left-color: var(--fill-color);\n",
              "      border-top-color: var(--fill-color);\n",
              "      border-right-color: var(--fill-color);\n",
              "    }\n",
              "    40% {\n",
              "      border-color: transparent;\n",
              "      border-right-color: var(--fill-color);\n",
              "      border-top-color: var(--fill-color);\n",
              "    }\n",
              "    60% {\n",
              "      border-color: transparent;\n",
              "      border-right-color: var(--fill-color);\n",
              "    }\n",
              "    80% {\n",
              "      border-color: transparent;\n",
              "      border-right-color: var(--fill-color);\n",
              "      border-bottom-color: var(--fill-color);\n",
              "    }\n",
              "    90% {\n",
              "      border-color: transparent;\n",
              "      border-bottom-color: var(--fill-color);\n",
              "    }\n",
              "  }\n",
              "</style>\n",
              "\n",
              "  <script>\n",
              "    async function quickchart(key) {\n",
              "      const quickchartButtonEl =\n",
              "        document.querySelector('#' + key + ' button');\n",
              "      quickchartButtonEl.disabled = true;  // To prevent multiple clicks.\n",
              "      quickchartButtonEl.classList.add('colab-df-spinner');\n",
              "      try {\n",
              "        const charts = await google.colab.kernel.invokeFunction(\n",
              "            'suggestCharts', [key], {});\n",
              "      } catch (error) {\n",
              "        console.error('Error during call to suggestCharts:', error);\n",
              "      }\n",
              "      quickchartButtonEl.classList.remove('colab-df-spinner');\n",
              "      quickchartButtonEl.classList.add('colab-df-quickchart-complete');\n",
              "    }\n",
              "    (() => {\n",
              "      let quickchartButtonEl =\n",
              "        document.querySelector('#df-3eff11fe-8637-48ba-9e43-adee217c0a9d button');\n",
              "      quickchartButtonEl.style.display =\n",
              "        google.colab.kernel.accessAllowed ? 'block' : 'none';\n",
              "    })();\n",
              "  </script>\n",
              "</div>\n",
              "    </div>\n",
              "  </div>\n"
            ],
            "application/vnd.google.colaboratory.intrinsic+json": {
              "type": "dataframe",
              "variable_name": "avg_rating",
              "summary": "{\n  \"name\": \"avg_rating\",\n  \"rows\": 34,\n  \"fields\": [\n    {\n      \"column\": \"asins\",\n      \"properties\": {\n        \"dtype\": \"string\",\n        \"num_unique_values\": 34,\n        \"samples\": [\n          \"B00VINDBJK\",\n          \"B018SZT3BK\",\n          \"B01AHB9C1E\"\n        ],\n        \"semantic_type\": \"\",\n        \"description\": \"\"\n      }\n    },\n    {\n      \"column\": \"reviews.rating\",\n      \"properties\": {\n        \"dtype\": \"number\",\n        \"std\": 0.480819003487968,\n        \"min\": 2.857142857142857,\n        \"max\": 5.0,\n        \"num_unique_values\": 30,\n        \"samples\": [\n          4.5265225933202355,\n          4.333333333333333,\n          4.531728665207877\n        ],\n        \"semantic_type\": \"\",\n        \"description\": \"\"\n      }\n    }\n  ]\n}"
            }
          },
          "metadata": {},
          "execution_count": 27
        }
      ],
      "source": [
        "counts=reviews['asins'].value_counts().to_frame()\n",
        "avg_rating=reviews.groupby(\"asins\")['reviews.rating'].mean().to_frame()\n",
        "avg_rating"
      ]
    },
    {
      "cell_type": "markdown",
      "id": "73327f9d",
      "metadata": {
        "papermill": {
          "duration": 0.022923,
          "end_time": "2022-10-22T08:28:38.396933",
          "exception": false,
          "start_time": "2022-10-22T08:28:38.374010",
          "status": "completed"
        },
        "tags": [],
        "id": "73327f9d"
      },
      "source": [
        "Id's and mean of the product belonging to that id"
      ]
    },
    {
      "cell_type": "code",
      "execution_count": 29,
      "id": "ebfdda06",
      "metadata": {
        "execution": {
          "iopub.execute_input": "2022-10-22T08:28:38.444985Z",
          "iopub.status.busy": "2022-10-22T08:28:38.444609Z",
          "iopub.status.idle": "2022-10-22T08:28:38.462406Z",
          "shell.execute_reply": "2022-10-22T08:28:38.461615Z"
        },
        "papermill": {
          "duration": 0.044323,
          "end_time": "2022-10-22T08:28:38.464308",
          "exception": false,
          "start_time": "2022-10-22T08:28:38.419985",
          "status": "completed"
        },
        "tags": [],
        "colab": {
          "base_uri": "https://localhost:8080/",
          "height": 1000
        },
        "id": "ebfdda06",
        "outputId": "882f9f4f-104e-4f4f-c85c-870764c21433"
      },
      "outputs": [
        {
          "output_type": "execute_result",
          "data": {
            "text/plain": [
              "                       reviews.rating  count\n",
              "asins                                       \n",
              "B005PB2T0S                   4.000000      4\n",
              "B005PB2T2Q                   3.666667      6\n",
              "B00IOY8XWQ                   4.732334    467\n",
              "B00IOYAM4I                   4.875000     40\n",
              "B00L9EPT8O,B01E6AO69U        4.669840   5252\n",
              "B00LO29KXQ                   5.000000      3\n",
              "B00LW9XOJM                   3.600000     10\n",
              "B00OQVZDJM                   4.767525   2525\n",
              "B00QFQRELG                   4.183333     60\n",
              "B00QJDU3KY                   4.615385     13\n",
              "B00QL1ZN3G                   3.300000     10\n",
              "B00REQKWGA                   5.000000      3\n",
              "B00TSUGXKE                   4.418919    296\n",
              "B00U3FPN4U                   4.711269   4073\n",
              "B00UH4D8G2                   2.857143      7\n",
              "B00VINDBJK                   4.620000     50\n",
              "B00X4WHP5E                   4.333333      6\n",
              "B00ZV9PXP2                   4.502703    185\n",
              "B0189XYY0Q                   4.558252    206\n",
              "B018SZT3BK                   4.545000    200\n",
              "B018T075DC                   5.000000      5\n",
              "B018Y225IA                   4.521480    838\n",
              "B018Y229OU                   4.454711   8788\n",
              "B018Y22BI4                   4.700000     10\n",
              "B018Y22C2Y                   4.833333      6\n",
              "B018Y23MNM                   4.531729   1371\n",
              "B018Y23P7K                   5.000000      1\n",
              "B01AHB9C1E                   4.700000     10\n",
              "B01AHB9CN2                   4.589238   2230\n",
              "B01AHB9CYG                   4.586466    133\n",
              "B01BFIBRIE                   4.625000     24\n",
              "B01BH83OOM                   4.526523    509\n",
              "B01J2G4VBG                   4.424149    323\n",
              "B01J4ORNHU                   4.642857     14"
            ],
            "text/html": [
              "\n",
              "  <div id=\"df-0aca926f-9bd7-41a5-8391-f20a612e11ac\" class=\"colab-df-container\">\n",
              "    <div>\n",
              "<style scoped>\n",
              "    .dataframe tbody tr th:only-of-type {\n",
              "        vertical-align: middle;\n",
              "    }\n",
              "\n",
              "    .dataframe tbody tr th {\n",
              "        vertical-align: top;\n",
              "    }\n",
              "\n",
              "    .dataframe thead th {\n",
              "        text-align: right;\n",
              "    }\n",
              "</style>\n",
              "<table border=\"1\" class=\"dataframe\">\n",
              "  <thead>\n",
              "    <tr style=\"text-align: right;\">\n",
              "      <th></th>\n",
              "      <th>reviews.rating</th>\n",
              "      <th>count</th>\n",
              "    </tr>\n",
              "    <tr>\n",
              "      <th>asins</th>\n",
              "      <th></th>\n",
              "      <th></th>\n",
              "    </tr>\n",
              "  </thead>\n",
              "  <tbody>\n",
              "    <tr>\n",
              "      <th>B005PB2T0S</th>\n",
              "      <td>4.000000</td>\n",
              "      <td>4</td>\n",
              "    </tr>\n",
              "    <tr>\n",
              "      <th>B005PB2T2Q</th>\n",
              "      <td>3.666667</td>\n",
              "      <td>6</td>\n",
              "    </tr>\n",
              "    <tr>\n",
              "      <th>B00IOY8XWQ</th>\n",
              "      <td>4.732334</td>\n",
              "      <td>467</td>\n",
              "    </tr>\n",
              "    <tr>\n",
              "      <th>B00IOYAM4I</th>\n",
              "      <td>4.875000</td>\n",
              "      <td>40</td>\n",
              "    </tr>\n",
              "    <tr>\n",
              "      <th>B00L9EPT8O,B01E6AO69U</th>\n",
              "      <td>4.669840</td>\n",
              "      <td>5252</td>\n",
              "    </tr>\n",
              "    <tr>\n",
              "      <th>B00LO29KXQ</th>\n",
              "      <td>5.000000</td>\n",
              "      <td>3</td>\n",
              "    </tr>\n",
              "    <tr>\n",
              "      <th>B00LW9XOJM</th>\n",
              "      <td>3.600000</td>\n",
              "      <td>10</td>\n",
              "    </tr>\n",
              "    <tr>\n",
              "      <th>B00OQVZDJM</th>\n",
              "      <td>4.767525</td>\n",
              "      <td>2525</td>\n",
              "    </tr>\n",
              "    <tr>\n",
              "      <th>B00QFQRELG</th>\n",
              "      <td>4.183333</td>\n",
              "      <td>60</td>\n",
              "    </tr>\n",
              "    <tr>\n",
              "      <th>B00QJDU3KY</th>\n",
              "      <td>4.615385</td>\n",
              "      <td>13</td>\n",
              "    </tr>\n",
              "    <tr>\n",
              "      <th>B00QL1ZN3G</th>\n",
              "      <td>3.300000</td>\n",
              "      <td>10</td>\n",
              "    </tr>\n",
              "    <tr>\n",
              "      <th>B00REQKWGA</th>\n",
              "      <td>5.000000</td>\n",
              "      <td>3</td>\n",
              "    </tr>\n",
              "    <tr>\n",
              "      <th>B00TSUGXKE</th>\n",
              "      <td>4.418919</td>\n",
              "      <td>296</td>\n",
              "    </tr>\n",
              "    <tr>\n",
              "      <th>B00U3FPN4U</th>\n",
              "      <td>4.711269</td>\n",
              "      <td>4073</td>\n",
              "    </tr>\n",
              "    <tr>\n",
              "      <th>B00UH4D8G2</th>\n",
              "      <td>2.857143</td>\n",
              "      <td>7</td>\n",
              "    </tr>\n",
              "    <tr>\n",
              "      <th>B00VINDBJK</th>\n",
              "      <td>4.620000</td>\n",
              "      <td>50</td>\n",
              "    </tr>\n",
              "    <tr>\n",
              "      <th>B00X4WHP5E</th>\n",
              "      <td>4.333333</td>\n",
              "      <td>6</td>\n",
              "    </tr>\n",
              "    <tr>\n",
              "      <th>B00ZV9PXP2</th>\n",
              "      <td>4.502703</td>\n",
              "      <td>185</td>\n",
              "    </tr>\n",
              "    <tr>\n",
              "      <th>B0189XYY0Q</th>\n",
              "      <td>4.558252</td>\n",
              "      <td>206</td>\n",
              "    </tr>\n",
              "    <tr>\n",
              "      <th>B018SZT3BK</th>\n",
              "      <td>4.545000</td>\n",
              "      <td>200</td>\n",
              "    </tr>\n",
              "    <tr>\n",
              "      <th>B018T075DC</th>\n",
              "      <td>5.000000</td>\n",
              "      <td>5</td>\n",
              "    </tr>\n",
              "    <tr>\n",
              "      <th>B018Y225IA</th>\n",
              "      <td>4.521480</td>\n",
              "      <td>838</td>\n",
              "    </tr>\n",
              "    <tr>\n",
              "      <th>B018Y229OU</th>\n",
              "      <td>4.454711</td>\n",
              "      <td>8788</td>\n",
              "    </tr>\n",
              "    <tr>\n",
              "      <th>B018Y22BI4</th>\n",
              "      <td>4.700000</td>\n",
              "      <td>10</td>\n",
              "    </tr>\n",
              "    <tr>\n",
              "      <th>B018Y22C2Y</th>\n",
              "      <td>4.833333</td>\n",
              "      <td>6</td>\n",
              "    </tr>\n",
              "    <tr>\n",
              "      <th>B018Y23MNM</th>\n",
              "      <td>4.531729</td>\n",
              "      <td>1371</td>\n",
              "    </tr>\n",
              "    <tr>\n",
              "      <th>B018Y23P7K</th>\n",
              "      <td>5.000000</td>\n",
              "      <td>1</td>\n",
              "    </tr>\n",
              "    <tr>\n",
              "      <th>B01AHB9C1E</th>\n",
              "      <td>4.700000</td>\n",
              "      <td>10</td>\n",
              "    </tr>\n",
              "    <tr>\n",
              "      <th>B01AHB9CN2</th>\n",
              "      <td>4.589238</td>\n",
              "      <td>2230</td>\n",
              "    </tr>\n",
              "    <tr>\n",
              "      <th>B01AHB9CYG</th>\n",
              "      <td>4.586466</td>\n",
              "      <td>133</td>\n",
              "    </tr>\n",
              "    <tr>\n",
              "      <th>B01BFIBRIE</th>\n",
              "      <td>4.625000</td>\n",
              "      <td>24</td>\n",
              "    </tr>\n",
              "    <tr>\n",
              "      <th>B01BH83OOM</th>\n",
              "      <td>4.526523</td>\n",
              "      <td>509</td>\n",
              "    </tr>\n",
              "    <tr>\n",
              "      <th>B01J2G4VBG</th>\n",
              "      <td>4.424149</td>\n",
              "      <td>323</td>\n",
              "    </tr>\n",
              "    <tr>\n",
              "      <th>B01J4ORNHU</th>\n",
              "      <td>4.642857</td>\n",
              "      <td>14</td>\n",
              "    </tr>\n",
              "  </tbody>\n",
              "</table>\n",
              "</div>\n",
              "    <div class=\"colab-df-buttons\">\n",
              "\n",
              "  <div class=\"colab-df-container\">\n",
              "    <button class=\"colab-df-convert\" onclick=\"convertToInteractive('df-0aca926f-9bd7-41a5-8391-f20a612e11ac')\"\n",
              "            title=\"Convert this dataframe to an interactive table.\"\n",
              "            style=\"display:none;\">\n",
              "\n",
              "  <svg xmlns=\"http://www.w3.org/2000/svg\" height=\"24px\" viewBox=\"0 -960 960 960\">\n",
              "    <path d=\"M120-120v-720h720v720H120Zm60-500h600v-160H180v160Zm220 220h160v-160H400v160Zm0 220h160v-160H400v160ZM180-400h160v-160H180v160Zm440 0h160v-160H620v160ZM180-180h160v-160H180v160Zm440 0h160v-160H620v160Z\"/>\n",
              "  </svg>\n",
              "    </button>\n",
              "\n",
              "  <style>\n",
              "    .colab-df-container {\n",
              "      display:flex;\n",
              "      gap: 12px;\n",
              "    }\n",
              "\n",
              "    .colab-df-convert {\n",
              "      background-color: #E8F0FE;\n",
              "      border: none;\n",
              "      border-radius: 50%;\n",
              "      cursor: pointer;\n",
              "      display: none;\n",
              "      fill: #1967D2;\n",
              "      height: 32px;\n",
              "      padding: 0 0 0 0;\n",
              "      width: 32px;\n",
              "    }\n",
              "\n",
              "    .colab-df-convert:hover {\n",
              "      background-color: #E2EBFA;\n",
              "      box-shadow: 0px 1px 2px rgba(60, 64, 67, 0.3), 0px 1px 3px 1px rgba(60, 64, 67, 0.15);\n",
              "      fill: #174EA6;\n",
              "    }\n",
              "\n",
              "    .colab-df-buttons div {\n",
              "      margin-bottom: 4px;\n",
              "    }\n",
              "\n",
              "    [theme=dark] .colab-df-convert {\n",
              "      background-color: #3B4455;\n",
              "      fill: #D2E3FC;\n",
              "    }\n",
              "\n",
              "    [theme=dark] .colab-df-convert:hover {\n",
              "      background-color: #434B5C;\n",
              "      box-shadow: 0px 1px 3px 1px rgba(0, 0, 0, 0.15);\n",
              "      filter: drop-shadow(0px 1px 2px rgba(0, 0, 0, 0.3));\n",
              "      fill: #FFFFFF;\n",
              "    }\n",
              "  </style>\n",
              "\n",
              "    <script>\n",
              "      const buttonEl =\n",
              "        document.querySelector('#df-0aca926f-9bd7-41a5-8391-f20a612e11ac button.colab-df-convert');\n",
              "      buttonEl.style.display =\n",
              "        google.colab.kernel.accessAllowed ? 'block' : 'none';\n",
              "\n",
              "      async function convertToInteractive(key) {\n",
              "        const element = document.querySelector('#df-0aca926f-9bd7-41a5-8391-f20a612e11ac');\n",
              "        const dataTable =\n",
              "          await google.colab.kernel.invokeFunction('convertToInteractive',\n",
              "                                                    [key], {});\n",
              "        if (!dataTable) return;\n",
              "\n",
              "        const docLinkHtml = 'Like what you see? Visit the ' +\n",
              "          '<a target=\"_blank\" href=https://colab.research.google.com/notebooks/data_table.ipynb>data table notebook</a>'\n",
              "          + ' to learn more about interactive tables.';\n",
              "        element.innerHTML = '';\n",
              "        dataTable['output_type'] = 'display_data';\n",
              "        await google.colab.output.renderOutput(dataTable, element);\n",
              "        const docLink = document.createElement('div');\n",
              "        docLink.innerHTML = docLinkHtml;\n",
              "        element.appendChild(docLink);\n",
              "      }\n",
              "    </script>\n",
              "  </div>\n",
              "\n",
              "\n",
              "<div id=\"df-c3d566b1-80ff-4fa0-a4f4-177a4228183f\">\n",
              "  <button class=\"colab-df-quickchart\" onclick=\"quickchart('df-c3d566b1-80ff-4fa0-a4f4-177a4228183f')\"\n",
              "            title=\"Suggest charts\"\n",
              "            style=\"display:none;\">\n",
              "\n",
              "<svg xmlns=\"http://www.w3.org/2000/svg\" height=\"24px\"viewBox=\"0 0 24 24\"\n",
              "     width=\"24px\">\n",
              "    <g>\n",
              "        <path d=\"M19 3H5c-1.1 0-2 .9-2 2v14c0 1.1.9 2 2 2h14c1.1 0 2-.9 2-2V5c0-1.1-.9-2-2-2zM9 17H7v-7h2v7zm4 0h-2V7h2v10zm4 0h-2v-4h2v4z\"/>\n",
              "    </g>\n",
              "</svg>\n",
              "  </button>\n",
              "\n",
              "<style>\n",
              "  .colab-df-quickchart {\n",
              "      --bg-color: #E8F0FE;\n",
              "      --fill-color: #1967D2;\n",
              "      --hover-bg-color: #E2EBFA;\n",
              "      --hover-fill-color: #174EA6;\n",
              "      --disabled-fill-color: #AAA;\n",
              "      --disabled-bg-color: #DDD;\n",
              "  }\n",
              "\n",
              "  [theme=dark] .colab-df-quickchart {\n",
              "      --bg-color: #3B4455;\n",
              "      --fill-color: #D2E3FC;\n",
              "      --hover-bg-color: #434B5C;\n",
              "      --hover-fill-color: #FFFFFF;\n",
              "      --disabled-bg-color: #3B4455;\n",
              "      --disabled-fill-color: #666;\n",
              "  }\n",
              "\n",
              "  .colab-df-quickchart {\n",
              "    background-color: var(--bg-color);\n",
              "    border: none;\n",
              "    border-radius: 50%;\n",
              "    cursor: pointer;\n",
              "    display: none;\n",
              "    fill: var(--fill-color);\n",
              "    height: 32px;\n",
              "    padding: 0;\n",
              "    width: 32px;\n",
              "  }\n",
              "\n",
              "  .colab-df-quickchart:hover {\n",
              "    background-color: var(--hover-bg-color);\n",
              "    box-shadow: 0 1px 2px rgba(60, 64, 67, 0.3), 0 1px 3px 1px rgba(60, 64, 67, 0.15);\n",
              "    fill: var(--button-hover-fill-color);\n",
              "  }\n",
              "\n",
              "  .colab-df-quickchart-complete:disabled,\n",
              "  .colab-df-quickchart-complete:disabled:hover {\n",
              "    background-color: var(--disabled-bg-color);\n",
              "    fill: var(--disabled-fill-color);\n",
              "    box-shadow: none;\n",
              "  }\n",
              "\n",
              "  .colab-df-spinner {\n",
              "    border: 2px solid var(--fill-color);\n",
              "    border-color: transparent;\n",
              "    border-bottom-color: var(--fill-color);\n",
              "    animation:\n",
              "      spin 1s steps(1) infinite;\n",
              "  }\n",
              "\n",
              "  @keyframes spin {\n",
              "    0% {\n",
              "      border-color: transparent;\n",
              "      border-bottom-color: var(--fill-color);\n",
              "      border-left-color: var(--fill-color);\n",
              "    }\n",
              "    20% {\n",
              "      border-color: transparent;\n",
              "      border-left-color: var(--fill-color);\n",
              "      border-top-color: var(--fill-color);\n",
              "    }\n",
              "    30% {\n",
              "      border-color: transparent;\n",
              "      border-left-color: var(--fill-color);\n",
              "      border-top-color: var(--fill-color);\n",
              "      border-right-color: var(--fill-color);\n",
              "    }\n",
              "    40% {\n",
              "      border-color: transparent;\n",
              "      border-right-color: var(--fill-color);\n",
              "      border-top-color: var(--fill-color);\n",
              "    }\n",
              "    60% {\n",
              "      border-color: transparent;\n",
              "      border-right-color: var(--fill-color);\n",
              "    }\n",
              "    80% {\n",
              "      border-color: transparent;\n",
              "      border-right-color: var(--fill-color);\n",
              "      border-bottom-color: var(--fill-color);\n",
              "    }\n",
              "    90% {\n",
              "      border-color: transparent;\n",
              "      border-bottom-color: var(--fill-color);\n",
              "    }\n",
              "  }\n",
              "</style>\n",
              "\n",
              "  <script>\n",
              "    async function quickchart(key) {\n",
              "      const quickchartButtonEl =\n",
              "        document.querySelector('#' + key + ' button');\n",
              "      quickchartButtonEl.disabled = true;  // To prevent multiple clicks.\n",
              "      quickchartButtonEl.classList.add('colab-df-spinner');\n",
              "      try {\n",
              "        const charts = await google.colab.kernel.invokeFunction(\n",
              "            'suggestCharts', [key], {});\n",
              "      } catch (error) {\n",
              "        console.error('Error during call to suggestCharts:', error);\n",
              "      }\n",
              "      quickchartButtonEl.classList.remove('colab-df-spinner');\n",
              "      quickchartButtonEl.classList.add('colab-df-quickchart-complete');\n",
              "    }\n",
              "    (() => {\n",
              "      let quickchartButtonEl =\n",
              "        document.querySelector('#df-c3d566b1-80ff-4fa0-a4f4-177a4228183f button');\n",
              "      quickchartButtonEl.style.display =\n",
              "        google.colab.kernel.accessAllowed ? 'block' : 'none';\n",
              "    })();\n",
              "  </script>\n",
              "</div>\n",
              "    </div>\n",
              "  </div>\n"
            ],
            "application/vnd.google.colaboratory.intrinsic+json": {
              "type": "dataframe",
              "variable_name": "table",
              "summary": "{\n  \"name\": \"table\",\n  \"rows\": 34,\n  \"fields\": [\n    {\n      \"column\": \"asins\",\n      \"properties\": {\n        \"dtype\": \"string\",\n        \"num_unique_values\": 34,\n        \"samples\": [\n          \"B00VINDBJK\",\n          \"B018SZT3BK\",\n          \"B01AHB9C1E\"\n        ],\n        \"semantic_type\": \"\",\n        \"description\": \"\"\n      }\n    },\n    {\n      \"column\": \"reviews.rating\",\n      \"properties\": {\n        \"dtype\": \"number\",\n        \"std\": 0.480819003487968,\n        \"min\": 2.857142857142857,\n        \"max\": 5.0,\n        \"num_unique_values\": 30,\n        \"samples\": [\n          4.5265225933202355,\n          4.333333333333333,\n          4.531728665207877\n        ],\n        \"semantic_type\": \"\",\n        \"description\": \"\"\n      }\n    },\n    {\n      \"column\": \"count\",\n      \"properties\": {\n        \"dtype\": \"number\",\n        \"std\": 1855,\n        \"min\": 1,\n        \"max\": 8788,\n        \"num_unique_values\": 28,\n        \"samples\": [\n          13,\n          509,\n          60\n        ],\n        \"semantic_type\": \"\",\n        \"description\": \"\"\n      }\n    }\n  ]\n}"
            }
          },
          "metadata": {},
          "execution_count": 29
        }
      ],
      "source": [
        "table=avg_rating.join(counts)\n",
        "table"
      ]
    },
    {
      "cell_type": "code",
      "execution_count": 30,
      "id": "440155f4",
      "metadata": {
        "execution": {
          "iopub.execute_input": "2022-10-22T08:28:38.512962Z",
          "iopub.status.busy": "2022-10-22T08:28:38.512559Z",
          "iopub.status.idle": "2022-10-22T08:28:38.738679Z",
          "shell.execute_reply": "2022-10-22T08:28:38.737472Z"
        },
        "papermill": {
          "duration": 0.253409,
          "end_time": "2022-10-22T08:28:38.741164",
          "exception": false,
          "start_time": "2022-10-22T08:28:38.487755",
          "status": "completed"
        },
        "tags": [],
        "colab": {
          "base_uri": "https://localhost:8080/",
          "height": 722
        },
        "id": "440155f4",
        "outputId": "9b4e676a-f726-4c46-c575-ad3941eb989e"
      },
      "outputs": [
        {
          "output_type": "error",
          "ename": "ValueError",
          "evalue": "x and y must be the same size",
          "traceback": [
            "\u001b[0;31m---------------------------------------------------------------------------\u001b[0m",
            "\u001b[0;31mValueError\u001b[0m                                Traceback (most recent call last)",
            "\u001b[0;32m<ipython-input-30-081ee33f4867>\u001b[0m in \u001b[0;36m<cell line: 1>\u001b[0;34m()\u001b[0m\n\u001b[0;32m----> 1\u001b[0;31m \u001b[0mplt\u001b[0m\u001b[0;34m.\u001b[0m\u001b[0mscatter\u001b[0m\u001b[0;34m(\u001b[0m\u001b[0;34m\"asins\"\u001b[0m\u001b[0;34m,\u001b[0m\u001b[0;34m\"reviews.rating\"\u001b[0m\u001b[0;34m,\u001b[0m\u001b[0mdata\u001b[0m\u001b[0;34m=\u001b[0m\u001b[0mtable\u001b[0m\u001b[0;34m)\u001b[0m\u001b[0;34m\u001b[0m\u001b[0;34m\u001b[0m\u001b[0m\n\u001b[0m\u001b[1;32m      2\u001b[0m \u001b[0mtable\u001b[0m\u001b[0;34m.\u001b[0m\u001b[0mcorr\u001b[0m\u001b[0;34m(\u001b[0m\u001b[0;34m)\u001b[0m\u001b[0;34m\u001b[0m\u001b[0;34m\u001b[0m\u001b[0m\n",
            "\u001b[0;32m/usr/local/lib/python3.10/dist-packages/matplotlib/pyplot.py\u001b[0m in \u001b[0;36mscatter\u001b[0;34m(x, y, s, c, marker, cmap, norm, vmin, vmax, alpha, linewidths, edgecolors, plotnonfinite, data, **kwargs)\u001b[0m\n\u001b[1;32m   2860\u001b[0m         \u001b[0mvmin\u001b[0m\u001b[0;34m=\u001b[0m\u001b[0;32mNone\u001b[0m\u001b[0;34m,\u001b[0m \u001b[0mvmax\u001b[0m\u001b[0;34m=\u001b[0m\u001b[0;32mNone\u001b[0m\u001b[0;34m,\u001b[0m \u001b[0malpha\u001b[0m\u001b[0;34m=\u001b[0m\u001b[0;32mNone\u001b[0m\u001b[0;34m,\u001b[0m \u001b[0mlinewidths\u001b[0m\u001b[0;34m=\u001b[0m\u001b[0;32mNone\u001b[0m\u001b[0;34m,\u001b[0m \u001b[0;34m*\u001b[0m\u001b[0;34m,\u001b[0m\u001b[0;34m\u001b[0m\u001b[0;34m\u001b[0m\u001b[0m\n\u001b[1;32m   2861\u001b[0m         edgecolors=None, plotnonfinite=False, data=None, **kwargs):\n\u001b[0;32m-> 2862\u001b[0;31m     __ret = gca().scatter(\n\u001b[0m\u001b[1;32m   2863\u001b[0m         \u001b[0mx\u001b[0m\u001b[0;34m,\u001b[0m \u001b[0my\u001b[0m\u001b[0;34m,\u001b[0m \u001b[0ms\u001b[0m\u001b[0;34m=\u001b[0m\u001b[0ms\u001b[0m\u001b[0;34m,\u001b[0m \u001b[0mc\u001b[0m\u001b[0;34m=\u001b[0m\u001b[0mc\u001b[0m\u001b[0;34m,\u001b[0m \u001b[0mmarker\u001b[0m\u001b[0;34m=\u001b[0m\u001b[0mmarker\u001b[0m\u001b[0;34m,\u001b[0m \u001b[0mcmap\u001b[0m\u001b[0;34m=\u001b[0m\u001b[0mcmap\u001b[0m\u001b[0;34m,\u001b[0m \u001b[0mnorm\u001b[0m\u001b[0;34m=\u001b[0m\u001b[0mnorm\u001b[0m\u001b[0;34m,\u001b[0m\u001b[0;34m\u001b[0m\u001b[0;34m\u001b[0m\u001b[0m\n\u001b[1;32m   2864\u001b[0m         \u001b[0mvmin\u001b[0m\u001b[0;34m=\u001b[0m\u001b[0mvmin\u001b[0m\u001b[0;34m,\u001b[0m \u001b[0mvmax\u001b[0m\u001b[0;34m=\u001b[0m\u001b[0mvmax\u001b[0m\u001b[0;34m,\u001b[0m \u001b[0malpha\u001b[0m\u001b[0;34m=\u001b[0m\u001b[0malpha\u001b[0m\u001b[0;34m,\u001b[0m \u001b[0mlinewidths\u001b[0m\u001b[0;34m=\u001b[0m\u001b[0mlinewidths\u001b[0m\u001b[0;34m,\u001b[0m\u001b[0;34m\u001b[0m\u001b[0;34m\u001b[0m\u001b[0m\n",
            "\u001b[0;32m/usr/local/lib/python3.10/dist-packages/matplotlib/__init__.py\u001b[0m in \u001b[0;36minner\u001b[0;34m(ax, data, *args, **kwargs)\u001b[0m\n\u001b[1;32m   1466\u001b[0m                 args_and_kwargs.get(label_namer), auto_label)\n\u001b[1;32m   1467\u001b[0m \u001b[0;34m\u001b[0m\u001b[0m\n\u001b[0;32m-> 1468\u001b[0;31m         \u001b[0;32mreturn\u001b[0m \u001b[0mfunc\u001b[0m\u001b[0;34m(\u001b[0m\u001b[0;34m*\u001b[0m\u001b[0mnew_args\u001b[0m\u001b[0;34m,\u001b[0m \u001b[0;34m**\u001b[0m\u001b[0mnew_kwargs\u001b[0m\u001b[0;34m)\u001b[0m\u001b[0;34m\u001b[0m\u001b[0;34m\u001b[0m\u001b[0m\n\u001b[0m\u001b[1;32m   1469\u001b[0m \u001b[0;34m\u001b[0m\u001b[0m\n\u001b[1;32m   1470\u001b[0m     \u001b[0minner\u001b[0m\u001b[0;34m.\u001b[0m\u001b[0m__doc__\u001b[0m \u001b[0;34m=\u001b[0m \u001b[0m_add_data_doc\u001b[0m\u001b[0;34m(\u001b[0m\u001b[0minner\u001b[0m\u001b[0;34m.\u001b[0m\u001b[0m__doc__\u001b[0m\u001b[0;34m,\u001b[0m \u001b[0mreplace_names\u001b[0m\u001b[0;34m)\u001b[0m\u001b[0;34m\u001b[0m\u001b[0;34m\u001b[0m\u001b[0m\n",
            "\u001b[0;32m/usr/local/lib/python3.10/dist-packages/matplotlib/axes/_axes.py\u001b[0m in \u001b[0;36mscatter\u001b[0;34m(self, x, y, s, c, marker, cmap, norm, vmin, vmax, alpha, linewidths, edgecolors, plotnonfinite, **kwargs)\u001b[0m\n\u001b[1;32m   4582\u001b[0m         \u001b[0my\u001b[0m \u001b[0;34m=\u001b[0m \u001b[0mnp\u001b[0m\u001b[0;34m.\u001b[0m\u001b[0mma\u001b[0m\u001b[0;34m.\u001b[0m\u001b[0mravel\u001b[0m\u001b[0;34m(\u001b[0m\u001b[0my\u001b[0m\u001b[0;34m)\u001b[0m\u001b[0;34m\u001b[0m\u001b[0;34m\u001b[0m\u001b[0m\n\u001b[1;32m   4583\u001b[0m         \u001b[0;32mif\u001b[0m \u001b[0mx\u001b[0m\u001b[0;34m.\u001b[0m\u001b[0msize\u001b[0m \u001b[0;34m!=\u001b[0m \u001b[0my\u001b[0m\u001b[0;34m.\u001b[0m\u001b[0msize\u001b[0m\u001b[0;34m:\u001b[0m\u001b[0;34m\u001b[0m\u001b[0;34m\u001b[0m\u001b[0m\n\u001b[0;32m-> 4584\u001b[0;31m             \u001b[0;32mraise\u001b[0m \u001b[0mValueError\u001b[0m\u001b[0;34m(\u001b[0m\u001b[0;34m\"x and y must be the same size\"\u001b[0m\u001b[0;34m)\u001b[0m\u001b[0;34m\u001b[0m\u001b[0;34m\u001b[0m\u001b[0m\n\u001b[0m\u001b[1;32m   4585\u001b[0m \u001b[0;34m\u001b[0m\u001b[0m\n\u001b[1;32m   4586\u001b[0m         \u001b[0;32mif\u001b[0m \u001b[0ms\u001b[0m \u001b[0;32mis\u001b[0m \u001b[0;32mNone\u001b[0m\u001b[0;34m:\u001b[0m\u001b[0;34m\u001b[0m\u001b[0;34m\u001b[0m\u001b[0m\n",
            "\u001b[0;31mValueError\u001b[0m: x and y must be the same size"
          ]
        },
        {
          "output_type": "display_data",
          "data": {
            "text/plain": [
              "<Figure size 640x480 with 1 Axes>"
            ],
            "image/png": "[encoded data removed]"
          },
          "metadata": {}
        }
      ],
      "source": [
        "plt.scatter(\"asins\",\"reviews.rating\",data=table)\n",
        "table.corr()"
      ]
    },
    {
      "cell_type": "markdown",
      "id": "4e31c3f8",
      "metadata": {
        "papermill": {
          "duration": 0.023742,
          "end_time": "2022-10-22T08:28:38.789116",
          "exception": false,
          "start_time": "2022-10-22T08:28:38.765374",
          "status": "completed"
        },
        "tags": [],
        "id": "4e31c3f8"
      },
      "source": [
        "# Sentiment Analysis"
      ]
    },
    {
      "cell_type": "code",
      "execution_count": 31,
      "id": "bde002fc",
      "metadata": {
        "execution": {
          "iopub.execute_input": "2022-10-22T08:28:38.839517Z",
          "iopub.status.busy": "2022-10-22T08:28:38.838476Z",
          "iopub.status.idle": "2022-10-22T08:28:38.844815Z",
          "shell.execute_reply": "2022-10-22T08:28:38.843663Z"
        },
        "papermill": {
          "duration": 0.03396,
          "end_time": "2022-10-22T08:28:38.847086",
          "exception": false,
          "start_time": "2022-10-22T08:28:38.813126",
          "status": "completed"
        },
        "tags": [],
        "id": "bde002fc"
      },
      "outputs": [],
      "source": [
        "def sentiments(rating):\n",
        "    if(rating==5)or(rating==4):\n",
        "        return \"Positive\"\n",
        "    elif rating==3:\n",
        "        return \"Neutral\"\n",
        "    elif(rating==2)or(rating==1):\n",
        "        return \"Negative\"\n"
      ]
    },
    {
      "cell_type": "code",
      "execution_count": 32,
      "id": "b253cff2",
      "metadata": {
        "execution": {
          "iopub.execute_input": "2022-10-22T08:28:38.899038Z",
          "iopub.status.busy": "2022-10-22T08:28:38.898658Z",
          "iopub.status.idle": "2022-10-22T08:28:38.917532Z",
          "shell.execute_reply": "2022-10-22T08:28:38.916710Z"
        },
        "papermill": {
          "duration": 0.045957,
          "end_time": "2022-10-22T08:28:38.919623",
          "exception": false,
          "start_time": "2022-10-22T08:28:38.873666",
          "status": "completed"
        },
        "tags": [],
        "colab": {
          "base_uri": "https://localhost:8080/"
        },
        "id": "b253cff2",
        "outputId": "9a23ed54-8649-4fbf-cf11-fcd5c6241106"
      },
      "outputs": [
        {
          "output_type": "execute_result",
          "data": {
            "text/plain": [
              "7014     Positive\n",
              "6        Positive\n",
              "28344    Positive\n",
              "25469    Positive\n",
              "5438     Positive\n",
              "1104     Positive\n",
              "29083    Positive\n",
              "9635     Positive\n",
              "20378    Positive\n",
              "9510     Positive\n",
              "17430    Positive\n",
              "2007     Positive\n",
              "21220    Positive\n",
              "12529    Positive\n",
              "23425    Positive\n",
              "30924    Positive\n",
              "27859    Positive\n",
              "11390    Negative\n",
              "25657    Positive\n",
              "23952    Positive\n",
              "Name: Sentiments, dtype: object"
            ]
          },
          "metadata": {},
          "execution_count": 32
        }
      ],
      "source": [
        "# now adding this sentiments function to training and testing dataset\n",
        "strat_train['Sentiments']=strat_train['reviews.rating'].apply(sentiments)\n",
        "strat_test['Sentiments']=strat_test['reviews.rating'].apply(sentiments)\n",
        "# strat_train.head()\n",
        "strat_train[\"Sentiments\"][:20]"
      ]
    },
    {
      "cell_type": "markdown",
      "id": "66a572d4",
      "metadata": {
        "papermill": {
          "duration": 0.023818,
          "end_time": "2022-10-22T08:28:38.967405",
          "exception": false,
          "start_time": "2022-10-22T08:28:38.943587",
          "status": "completed"
        },
        "tags": [],
        "id": "66a572d4"
      },
      "source": [
        "# Preparing text data"
      ]
    },
    {
      "cell_type": "code",
      "execution_count": 33,
      "id": "3ac5253a",
      "metadata": {
        "execution": {
          "iopub.execute_input": "2022-10-22T08:28:39.017457Z",
          "iopub.status.busy": "2022-10-22T08:28:39.016788Z",
          "iopub.status.idle": "2022-10-22T08:28:39.023770Z",
          "shell.execute_reply": "2022-10-22T08:28:39.022212Z"
        },
        "papermill": {
          "duration": 0.034923,
          "end_time": "2022-10-22T08:28:39.026281",
          "exception": false,
          "start_time": "2022-10-22T08:28:38.991358",
          "status": "completed"
        },
        "tags": [],
        "colab": {
          "base_uri": "https://localhost:8080/"
        },
        "id": "3ac5253a",
        "outputId": "8502ddd7-24b8-4365-8680-5ac8dec12014"
      },
      "outputs": [
        {
          "output_type": "stream",
          "name": "stdout",
          "text": [
            "27701 6926\n"
          ]
        }
      ],
      "source": [
        "x_train=strat_train['reviews.text']\n",
        "x_train_targetsentiment=strat_train['Sentiments']\n",
        "x_test=strat_test['reviews.text']\n",
        "x_test_targetsentiment=strat_test['Sentiments']\n",
        "print(len(x_train),len(x_test))"
      ]
    },
    {
      "cell_type": "markdown",
      "id": "8ac190e0",
      "metadata": {
        "papermill": {
          "duration": 0.024067,
          "end_time": "2022-10-22T08:28:39.075195",
          "exception": false,
          "start_time": "2022-10-22T08:28:39.051128",
          "status": "completed"
        },
        "tags": [],
        "id": "8ac190e0"
      },
      "source": [
        "# Extracting features"
      ]
    },
    {
      "cell_type": "code",
      "execution_count": 34,
      "id": "77a390f1",
      "metadata": {
        "execution": {
          "iopub.execute_input": "2022-10-22T08:28:39.125965Z",
          "iopub.status.busy": "2022-10-22T08:28:39.125363Z",
          "iopub.status.idle": "2022-10-22T08:28:39.140367Z",
          "shell.execute_reply": "2022-10-22T08:28:39.138821Z"
        },
        "papermill": {
          "duration": 0.043941,
          "end_time": "2022-10-22T08:28:39.143431",
          "exception": false,
          "start_time": "2022-10-22T08:28:39.099490",
          "status": "completed"
        },
        "tags": [],
        "id": "77a390f1"
      },
      "outputs": [],
      "source": [
        "# tokenisation: which breaks sentences into words\n",
        "# stopwords: filtering unwanted words like the ,are etc.\n",
        "# filling na with space\n",
        "x_train=x_train.fillna(' ')\n",
        "x_test=x_test.fillna(' ')\n",
        "x_train_targetsentiment=x_train_targetsentiment.fillna(' ')\n",
        "x_test_targetsentiment=x_test_targetsentiment.fillna(' ')"
      ]
    },
    {
      "cell_type": "code",
      "execution_count": 35,
      "id": "a90a9728",
      "metadata": {
        "execution": {
          "iopub.execute_input": "2022-10-22T08:28:39.193931Z",
          "iopub.status.busy": "2022-10-22T08:28:39.193504Z",
          "iopub.status.idle": "2022-10-22T08:28:39.937448Z",
          "shell.execute_reply": "2022-10-22T08:28:39.936196Z"
        },
        "papermill": {
          "duration": 0.772113,
          "end_time": "2022-10-22T08:28:39.939988",
          "exception": false,
          "start_time": "2022-10-22T08:28:39.167875",
          "status": "completed"
        },
        "tags": [],
        "colab": {
          "base_uri": "https://localhost:8080/"
        },
        "id": "a90a9728",
        "outputId": "93e0321e-f9fb-40bc-885e-6a1554fc63a9"
      },
      "outputs": [
        {
          "output_type": "execute_result",
          "data": {
            "text/plain": [
              "(27701, 12533)"
            ]
          },
          "metadata": {},
          "execution_count": 35
        }
      ],
      "source": [
        "# Text preprocessing and occurence counting using count vectorizer\n",
        "from sklearn.feature_extraction.text import CountVectorizer\n",
        "count_vect=CountVectorizer()\n",
        "x_train_counts=count_vect.fit_transform(x_train)\n",
        "x_train_counts.shape"
      ]
    },
    {
      "cell_type": "markdown",
      "id": "b737dc4d",
      "metadata": {
        "papermill": {
          "duration": 0.024277,
          "end_time": "2022-10-22T08:28:39.989041",
          "exception": false,
          "start_time": "2022-10-22T08:28:39.964764",
          "status": "completed"
        },
        "tags": [],
        "id": "b737dc4d"
      },
      "source": [
        "here we have 27k samples and 12k distinct words"
      ]
    },
    {
      "cell_type": "code",
      "execution_count": 36,
      "id": "e84fad3e",
      "metadata": {
        "execution": {
          "iopub.execute_input": "2022-10-22T08:28:40.039490Z",
          "iopub.status.busy": "2022-10-22T08:28:40.039070Z",
          "iopub.status.idle": "2022-10-22T08:28:40.079797Z",
          "shell.execute_reply": "2022-10-22T08:28:40.078893Z"
        },
        "papermill": {
          "duration": 0.068859,
          "end_time": "2022-10-22T08:28:40.082204",
          "exception": false,
          "start_time": "2022-10-22T08:28:40.013345",
          "status": "completed"
        },
        "tags": [],
        "colab": {
          "base_uri": "https://localhost:8080/"
        },
        "id": "e84fad3e",
        "outputId": "bdd03beb-a83c-4047-bbd6-66c47c981a6d"
      },
      "outputs": [
        {
          "output_type": "execute_result",
          "data": {
            "text/plain": [
              "(27701, 12533)"
            ]
          },
          "metadata": {},
          "execution_count": 36
        }
      ],
      "source": [
        "from sklearn.feature_extraction.text import TfidfTransformer\n",
        "tfid_transformer=TfidfTransformer(use_idf=False)\n",
        "x_train_tfid=tfid_transformer.fit_transform(x_train_counts)\n",
        "x_train_tfid.shape\n"
      ]
    },
    {
      "cell_type": "markdown",
      "id": "0c8116a1",
      "metadata": {
        "papermill": {
          "duration": 0.023987,
          "end_time": "2022-10-22T08:28:40.131053",
          "exception": false,
          "start_time": "2022-10-22T08:28:40.107066",
          "status": "completed"
        },
        "tags": [],
        "id": "0c8116a1"
      },
      "source": [
        "so tfidf transformer reduces less meaning words which have higher occurence . So it divides the number of occurences for each word by total number of words. Downscales stop words like \"the\" \"are\" etc."
      ]
    },
    {
      "cell_type": "code",
      "execution_count": 37,
      "id": "c32ce7f4",
      "metadata": {
        "execution": {
          "iopub.execute_input": "2022-10-22T08:28:40.181929Z",
          "iopub.status.busy": "2022-10-22T08:28:40.181515Z",
          "iopub.status.idle": "2022-10-22T08:28:41.070985Z",
          "shell.execute_reply": "2022-10-22T08:28:41.069710Z"
        },
        "papermill": {
          "duration": 0.918507,
          "end_time": "2022-10-22T08:28:41.073863",
          "exception": false,
          "start_time": "2022-10-22T08:28:40.155356",
          "status": "completed"
        },
        "tags": [],
        "colab": {
          "base_uri": "https://localhost:8080/",
          "height": 161
        },
        "id": "c32ce7f4",
        "outputId": "061af34b-4b91-4bb1-a0a5-15c5f0523cf4"
      },
      "outputs": [
        {
          "output_type": "execute_result",
          "data": {
            "text/plain": [
              "Pipeline(steps=[('vect', CountVectorizer()), ('tfidf', TfidfTransformer()),\n",
              "                ('clf_nominalNB', MultinomialNB())])"
            ],
            "text/html": [
              "<style>#sk-container-id-1 {color: black;background-color: white;}#sk-container-id-1 pre{padding: 0;}#sk-container-id-1 div.sk-toggleable {background-color: white;}#sk-container-id-1 label.sk-toggleable__label {cursor: pointer;display: block;width: 100%;margin-bottom: 0;padding: 0.3em;box-sizing: border-box;text-align: center;}#sk-container-id-1 label.sk-toggleable__label-arrow:before {content: \"▸\";float: left;margin-right: 0.25em;color: #696969;}#sk-container-id-1 label.sk-toggleable__label-arrow:hover:before {color: black;}#sk-container-id-1 div.sk-estimator:hover label.sk-toggleable__label-arrow:before {color: black;}#sk-container-id-1 div.sk-toggleable__content {max-height: 0;max-width: 0;overflow: hidden;text-align: left;background-color: #f0f8ff;}#sk-container-id-1 div.sk-toggleable__content pre {margin: 0.2em;color: black;border-radius: 0.25em;background-color: #f0f8ff;}#sk-container-id-1 input.sk-toggleable__control:checked~div.sk-toggleable__content {max-height: 200px;max-width: 100%;overflow: auto;}#sk-container-id-1 input.sk-toggleable__control:checked~label.sk-toggleable__label-arrow:before {content: \"▾\";}#sk-container-id-1 div.sk-estimator input.sk-toggleable__control:checked~label.sk-toggleable__label {background-color: #d4ebff;}#sk-container-id-1 div.sk-label input.sk-toggleable__control:checked~label.sk-toggleable__label {background-color: #d4ebff;}#sk-container-id-1 input.sk-hidden--visually {border: 0;clip: rect(1px 1px 1px 1px);clip: rect(1px, 1px, 1px, 1px);height: 1px;margin: -1px;overflow: hidden;padding: 0;position: absolute;width: 1px;}#sk-container-id-1 div.sk-estimator {font-family: monospace;background-color: #f0f8ff;border: 1px dotted black;border-radius: 0.25em;box-sizing: border-box;margin-bottom: 0.5em;}#sk-container-id-1 div.sk-estimator:hover {background-color: #d4ebff;}#sk-container-id-1 div.sk-parallel-item::after {content: \"\";width: 100%;border-bottom: 1px solid gray;flex-grow: 1;}#sk-container-id-1 div.sk-label:hover label.sk-toggleable__label {background-color: #d4ebff;}#sk-container-id-1 div.sk-serial::before {content: \"\";position: absolute;border-left: 1px solid gray;box-sizing: border-box;top: 0;bottom: 0;left: 50%;z-index: 0;}#sk-container-id-1 div.sk-serial {display: flex;flex-direction: column;align-items: center;background-color: white;padding-right: 0.2em;padding-left: 0.2em;position: relative;}#sk-container-id-1 div.sk-item {position: relative;z-index: 1;}#sk-container-id-1 div.sk-parallel {display: flex;align-items: stretch;justify-content: center;background-color: white;position: relative;}#sk-container-id-1 div.sk-item::before, #sk-container-id-1 div.sk-parallel-item::before {content: \"\";position: absolute;border-left: 1px solid gray;box-sizing: border-box;top: 0;bottom: 0;left: 50%;z-index: -1;}#sk-container-id-1 div.sk-parallel-item {display: flex;flex-direction: column;z-index: 1;position: relative;background-color: white;}#sk-container-id-1 div.sk-parallel-item:first-child::after {align-self: flex-end;width: 50%;}#sk-container-id-1 div.sk-parallel-item:last-child::after {align-self: flex-start;width: 50%;}#sk-container-id-1 div.sk-parallel-item:only-child::after {width: 0;}#sk-container-id-1 div.sk-dashed-wrapped {border: 1px dashed gray;margin: 0 0.4em 0.5em 0.4em;box-sizing: border-box;padding-bottom: 0.4em;background-color: white;}#sk-container-id-1 div.sk-label label {font-family: monospace;font-weight: bold;display: inline-block;line-height: 1.2em;}#sk-container-id-1 div.sk-label-container {text-align: center;}#sk-container-id-1 div.sk-container {/* jupyter's `normalize.less` sets `[hidden] { display: none; }` but bootstrap.min.css set `[hidden] { display: none !important; }` so we also need the `!important` here to be able to override the default hidden behavior on the sphinx rendered scikit-learn.org. See: https://github.com/scikit-learn/scikit-learn/issues/21755 */display: inline-block !important;position: relative;}#sk-container-id-1 div.sk-text-repr-fallback {display: none;}</style><div id=\"sk-container-id-1\" class=\"sk-top-container\"><div class=\"sk-text-repr-fallback\"><pre>Pipeline(steps=[(&#x27;vect&#x27;, CountVectorizer()), (&#x27;tfidf&#x27;, TfidfTransformer()),\n",
              "                (&#x27;clf_nominalNB&#x27;, MultinomialNB())])</pre><b>In a Jupyter environment, please rerun this cell to show the HTML representation or trust the notebook. <br />On GitHub, the HTML representation is unable to render, please try loading this page with nbviewer.org.</b></div><div class=\"sk-container\" hidden><div class=\"sk-item sk-dashed-wrapped\"><div class=\"sk-label-container\"><div class=\"sk-label sk-toggleable\"><input class=\"sk-toggleable__control sk-hidden--visually\" id=\"sk-estimator-id-1\" type=\"checkbox\" ><label for=\"sk-estimator-id-1\" class=\"sk-toggleable__label sk-toggleable__label-arrow\">Pipeline</label><div class=\"sk-toggleable__content\"><pre>Pipeline(steps=[(&#x27;vect&#x27;, CountVectorizer()), (&#x27;tfidf&#x27;, TfidfTransformer()),\n",
              "                (&#x27;clf_nominalNB&#x27;, MultinomialNB())])</pre></div></div></div><div class=\"sk-serial\"><div class=\"sk-item\"><div class=\"sk-estimator sk-toggleable\"><input class=\"sk-toggleable__control sk-hidden--visually\" id=\"sk-estimator-id-2\" type=\"checkbox\" ><label for=\"sk-estimator-id-2\" class=\"sk-toggleable__label sk-toggleable__label-arrow\">CountVectorizer</label><div class=\"sk-toggleable__content\"><pre>CountVectorizer()</pre></div></div></div><div class=\"sk-item\"><div class=\"sk-estimator sk-toggleable\"><input class=\"sk-toggleable__control sk-hidden--visually\" id=\"sk-estimator-id-3\" type=\"checkbox\" ><label for=\"sk-estimator-id-3\" class=\"sk-toggleable__label sk-toggleable__label-arrow\">TfidfTransformer</label><div class=\"sk-toggleable__content\"><pre>TfidfTransformer()</pre></div></div></div><div class=\"sk-item\"><div class=\"sk-estimator sk-toggleable\"><input class=\"sk-toggleable__control sk-hidden--visually\" id=\"sk-estimator-id-4\" type=\"checkbox\" ><label for=\"sk-estimator-id-4\" class=\"sk-toggleable__label sk-toggleable__label-arrow\">MultinomialNB</label><div class=\"sk-toggleable__content\"><pre>MultinomialNB()</pre></div></div></div></div></div></div></div>"
            ]
          },
          "metadata": {},
          "execution_count": 37
        }
      ],
      "source": [
        "from sklearn.naive_bayes import MultinomialNB\n",
        "from sklearn.pipeline import Pipeline\n",
        "clf_multiNB_pipe=Pipeline([('vect',CountVectorizer()),\n",
        "                               (\"tfidf\",TfidfTransformer()),\n",
        "                               (\"clf_nominalNB\",MultinomialNB())])\n",
        "clf_multiNB_pipe.fit(x_train,x_train_targetsentiment)"
      ]
    },
    {
      "cell_type": "markdown",
      "id": "94cbeec4",
      "metadata": {
        "papermill": {
          "duration": 0.026295,
          "end_time": "2022-10-22T08:28:41.126770",
          "exception": false,
          "start_time": "2022-10-22T08:28:41.100475",
          "status": "completed"
        },
        "tags": [],
        "id": "94cbeec4"
      },
      "source": [
        "**we use pipeline from sklearn when we want a number of tasks to be implemented on every datapoint. It can also be used when we want to implement multiple models on dataset in sequential manner**"
      ]
    },
    {
      "cell_type": "code",
      "execution_count": 38,
      "id": "1856ba07",
      "metadata": {
        "execution": {
          "iopub.execute_input": "2022-10-22T08:28:41.182413Z",
          "iopub.status.busy": "2022-10-22T08:28:41.180918Z",
          "iopub.status.idle": "2022-10-22T08:28:41.379576Z",
          "shell.execute_reply": "2022-10-22T08:28:41.378244Z"
        },
        "papermill": {
          "duration": 0.22951,
          "end_time": "2022-10-22T08:28:41.382431",
          "exception": false,
          "start_time": "2022-10-22T08:28:41.152921",
          "status": "completed"
        },
        "tags": [],
        "colab": {
          "base_uri": "https://localhost:8080/"
        },
        "id": "1856ba07",
        "outputId": "df3d8d9f-b7d9-4e50-9a64-1b472032a0e3"
      },
      "outputs": [
        {
          "output_type": "execute_result",
          "data": {
            "text/plain": [
              "array(['Positive', 'Positive', 'Positive', ..., 'Positive', 'Positive',\n",
              "       'Positive'], dtype='<U8')"
            ]
          },
          "metadata": {},
          "execution_count": 38
        }
      ],
      "source": [
        "predict_multiNB=clf_multiNB_pipe.predict(x_test)\n",
        "predict_multiNB"
      ]
    },
    {
      "cell_type": "code",
      "execution_count": 39,
      "id": "746553ce",
      "metadata": {
        "execution": {
          "iopub.execute_input": "2022-10-22T08:28:41.438353Z",
          "iopub.status.busy": "2022-10-22T08:28:41.437573Z",
          "iopub.status.idle": "2022-10-22T08:28:41.449712Z",
          "shell.execute_reply": "2022-10-22T08:28:41.448143Z"
        },
        "papermill": {
          "duration": 0.042984,
          "end_time": "2022-10-22T08:28:41.452716",
          "exception": false,
          "start_time": "2022-10-22T08:28:41.409732",
          "status": "completed"
        },
        "tags": [],
        "colab": {
          "base_uri": "https://localhost:8080/"
        },
        "id": "746553ce",
        "outputId": "7766e44e-b0a3-454a-cee9-7f0892f9684e"
      },
      "outputs": [
        {
          "output_type": "stream",
          "name": "stdout",
          "text": [
            "Accuracy: 0.9314178457984407\n"
          ]
        }
      ],
      "source": [
        "from sklearn.metrics import accuracy_score\n",
        "print(\"Accuracy: {}\".format(accuracy_score(x_test_targetsentiment,predict_multiNB)))"
      ]
    },
    {
      "cell_type": "markdown",
      "id": "5627df98",
      "metadata": {
        "papermill": {
          "duration": 0.025394,
          "end_time": "2022-10-22T08:28:41.503961",
          "exception": false,
          "start_time": "2022-10-22T08:28:41.478567",
          "status": "completed"
        },
        "tags": [],
        "id": "5627df98"
      },
      "source": [
        "We have attained accuracy of 94% on our testing data ."
      ]
    },
    {
      "cell_type": "code",
      "execution_count": 40,
      "id": "0194fdfc",
      "metadata": {
        "execution": {
          "iopub.execute_input": "2022-10-22T08:28:41.560213Z",
          "iopub.status.busy": "2022-10-22T08:28:41.559333Z",
          "iopub.status.idle": "2022-10-22T08:28:41.569728Z",
          "shell.execute_reply": "2022-10-22T08:28:41.568484Z"
        },
        "papermill": {
          "duration": 0.040752,
          "end_time": "2022-10-22T08:28:41.572127",
          "exception": false,
          "start_time": "2022-10-22T08:28:41.531375",
          "status": "completed"
        },
        "tags": [],
        "colab": {
          "base_uri": "https://localhost:8080/"
        },
        "id": "0194fdfc",
        "outputId": "f4a5dfbc-0015-4abb-887e-198f861c9088"
      },
      "outputs": [
        {
          "output_type": "execute_result",
          "data": {
            "text/plain": [
              "8088     An Amazon fire tablet for $50!? Need I say mor...\n",
              "9188     Great tablet for the price. It is very clear t...\n",
              "22494    I'm super impressed with Alexa and how easy it...\n",
              "16681    Kid friendly Great appsChild can learn many th...\n",
              "12704    Works okay for what we paid. Not super speedy,...\n",
              "                               ...                        \n",
              "31923    This thing lets you watch practically anything...\n",
              "28060    Great speaker. Pretty loud. I like it that con...\n",
              "20139    Got this for my mother in law and she loves it...\n",
              "19147    Great battery life. However it is slow to resp...\n",
              "6484     I haven't put my Fire Tablet down since I got ...\n",
              "Name: reviews.text, Length: 6926, dtype: object"
            ]
          },
          "metadata": {},
          "execution_count": 40
        }
      ],
      "source": [
        "x_test"
      ]
    },
    {
      "cell_type": "markdown",
      "id": "d178ec37",
      "metadata": {
        "papermill": {
          "duration": 0.02606,
          "end_time": "2022-10-22T08:28:41.624810",
          "exception": false,
          "start_time": "2022-10-22T08:28:41.598750",
          "status": "completed"
        },
        "tags": [],
        "id": "d178ec37"
      },
      "source": [
        "# Applying model on input text"
      ]
    },
    {
      "cell_type": "code",
      "execution_count": 41,
      "id": "d24b8580",
      "metadata": {
        "execution": {
          "iopub.execute_input": "2022-10-22T08:28:41.680499Z",
          "iopub.status.busy": "2022-10-22T08:28:41.679169Z",
          "iopub.status.idle": "2022-10-22T08:28:43.351151Z",
          "shell.execute_reply": "2022-10-22T08:28:43.349667Z"
        },
        "papermill": {
          "duration": 1.703554,
          "end_time": "2022-10-22T08:28:43.354954",
          "exception": false,
          "start_time": "2022-10-22T08:28:41.651400",
          "status": "completed"
        },
        "tags": [],
        "colab": {
          "base_uri": "https://localhost:8080/"
        },
        "id": "d24b8580",
        "outputId": "1e45868a-4856-44de-878e-7b6a0f105194"
      },
      "outputs": [
        {
          "output_type": "stream",
          "name": "stdout",
          "text": [
            "Accuracy: 0.9361825007219174\n"
          ]
        }
      ],
      "source": [
        "from sklearn.svm import LinearSVC\n",
        "clf_linearSVC_pipe = Pipeline([(\"vect\", CountVectorizer()),\n",
        "                               (\"tfidf\", TfidfTransformer()),\n",
        "                               (\"clf_linearSVC\", LinearSVC())])\n",
        "clf_linearSVC_pipe.fit(x_train, x_train_targetsentiment)\n",
        "\n",
        "predictedLinearSVC = clf_linearSVC_pipe.predict(x_test)\n",
        "print('Accuracy: {}'. format(accuracy_score(x_test_targetsentiment,\n",
        "                             predictedLinearSVC)))"
      ]
    },
    {
      "cell_type": "code",
      "execution_count": 42,
      "id": "8f854936",
      "metadata": {
        "execution": {
          "iopub.execute_input": "2022-10-22T08:28:43.408634Z",
          "iopub.status.busy": "2022-10-22T08:28:43.407777Z",
          "iopub.status.idle": "2022-10-22T08:28:43.417559Z",
          "shell.execute_reply": "2022-10-22T08:28:43.416316Z"
        },
        "papermill": {
          "duration": 0.039764,
          "end_time": "2022-10-22T08:28:43.420141",
          "exception": false,
          "start_time": "2022-10-22T08:28:43.380377",
          "status": "completed"
        },
        "tags": [],
        "colab": {
          "base_uri": "https://localhost:8080/"
        },
        "id": "8f854936",
        "outputId": "d1d6a606-c7cc-4013-dd84-44d4537e2e0a"
      },
      "outputs": [
        {
          "output_type": "execute_result",
          "data": {
            "text/plain": [
              "array(['Positive', 'Neutral', 'Negative'], dtype=object)"
            ]
          },
          "metadata": {},
          "execution_count": 42
        }
      ],
      "source": [
        "new_text=[\"the tablet is good , really liked it\",\n",
        "         \"the tablet is ok,it's working\",\n",
        "         \"The tablet is not good, does not work waste\"]\n",
        "clf_linearSVC_pipe.predict(new_text)"
      ]
    },
    {
      "cell_type": "markdown",
      "id": "d5355e15",
      "metadata": {
        "papermill": {
          "duration": 0.024958,
          "end_time": "2022-10-22T08:28:43.470754",
          "exception": false,
          "start_time": "2022-10-22T08:28:43.445796",
          "status": "completed"
        },
        "tags": [],
        "id": "d5355e15"
      },
      "source": [
        "So Here we conclude our Notebook on NLP using Naive Bayes and SVC and did EDA on dataset. Hope you like it. ****Please share your feedback on the notebook if any improvements can be done.. Also please do upvote if you like it ****"
      ]
    },
    {
      "cell_type": "markdown",
      "id": "59874e1b",
      "metadata": {
        "papermill": {
          "duration": 0.025248,
          "end_time": "2022-10-22T08:28:43.521091",
          "exception": false,
          "start_time": "2022-10-22T08:28:43.495843",
          "status": "completed"
        },
        "tags": [],
        "id": "59874e1b"
      },
      "source": [
        "# THANK YOU!!!"
      ]
    }
  ],
  "metadata": {
    "kernelspec": {
      "display_name": "Python 3",
      "language": "python",
      "name": "python3"
    },
    "language_info": {
      "codemirror_mode": {
        "name": "ipython",
        "version": 3
      },
      "file_extension": ".py",
      "mimetype": "text/x-python",
      "name": "python",
      "nbconvert_exporter": "python",
      "pygments_lexer": "ipython3",
      "version": "3.7.12"
    },
    "papermill": {
      "default_parameters": {},
      "duration": 28.279279,
      "end_time": "2022-10-22T08:28:44.369092",
      "environment_variables": {},
      "exception": null,
      "input_path": "__notebook__.ipynb",
      "output_path": "__notebook__.ipynb",
      "parameters": {},
      "start_time": "2022-10-22T08:28:16.089813",
      "version": "2.3.4"
    },
    "colab": {
      "provenance": []
    }
  },
  "nbformat": 4,
  "nbformat_minor": 5
}